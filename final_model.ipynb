{
 "cells": [
  {
   "cell_type": "code",
   "execution_count": 76,
   "metadata": {},
   "outputs": [],
   "source": [
    "import numpy as np \n",
    "import pandas as pd \n",
    "import warnings\n",
    "warnings.filterwarnings('ignore')"
   ]
  },
  {
   "cell_type": "code",
   "execution_count": 77,
   "metadata": {},
   "outputs": [],
   "source": [
    "import seaborn as sns\n",
    "sns.set_palette('Set2')\n",
    "\n",
    "import matplotlib.pyplot as plt\n",
    "import matplotlib.dates as mdates\n",
    "%matplotlib inline"
   ]
  },
  {
   "cell_type": "code",
   "execution_count": 793,
   "metadata": {},
   "outputs": [],
   "source": [
    "from sklearn.metrics import confusion_matrix, mean_squared_error\n",
    "from sklearn.preprocessing import LabelEncoder, MinMaxScaler, StandardScaler\n",
    "from sklearn.model_selection import train_test_split, cross_val_score\n",
    "from sklearn.linear_model import LinearRegression, Lasso, Ridge\n",
    "from sklearn.preprocessing import KBinsDiscretizer\n",
    "from sklearn.ensemble import RandomForestRegressor\n",
    "from sklearn.svm import LinearSVC, SVC\n",
    "from sklearn.tree import DecisionTreeRegressor\n",
    "from sklearn.model_selection import GridSearchCV\n",
    "from scipy.stats import zscore\n",
    "from sklearn.metrics import mean_squared_error\n",
    "from xgboost import XGBRegressor\n",
    "from sklearn.cluster import KMeans\n",
    "\n",
    "from yellowbrick.regressor import ResidualsPlot\n",
    "from yellowbrick.features.importances import FeatureImportances"
   ]
  },
  {
   "cell_type": "code",
   "execution_count": 79,
   "metadata": {},
   "outputs": [],
   "source": [
    "import requests\n",
    "import json\n",
    "from datetime import datetime\n",
    "import time"
   ]
  },
  {
   "cell_type": "code",
   "execution_count": 80,
   "metadata": {},
   "outputs": [],
   "source": [
    "import os\n",
    "from pandas.tseries.holiday import USFederalHolidayCalendar as calendar"
   ]
  },
  {
   "cell_type": "markdown",
   "metadata": {},
   "source": [
    "### Import Custom Modules"
   ]
  },
  {
   "cell_type": "code",
   "execution_count": 672,
   "metadata": {},
   "outputs": [],
   "source": [
    "from config import yelp_api_key\n",
    "from config import darksky_api_key\n",
    "from restaurant_info import Location\n",
    "from weather import Weather"
   ]
  },
  {
   "cell_type": "markdown",
   "metadata": {},
   "source": [
    "## Set Up"
   ]
  },
  {
   "cell_type": "code",
   "execution_count": 673,
   "metadata": {},
   "outputs": [],
   "source": [
    "# Analysis Dates\n",
    "start_date = '2017-01-01' # Start Date Inclusive\n",
    "end_date = '2019-06-10' # End Date Exclusive\n",
    "\n",
    "search_business = 'The Counting Room' # Not the actual Restaurant \n",
    "location = 'Brooklyn, NY'"
   ]
  },
  {
   "cell_type": "markdown",
   "metadata": {},
   "source": [
    "## Pull Weather Data"
   ]
  },
  {
   "cell_type": "markdown",
   "metadata": {},
   "source": [
    "### Get Latitude & Longitude from Yelp API"
   ]
  },
  {
   "cell_type": "code",
   "execution_count": 674,
   "metadata": {},
   "outputs": [
    {
     "name": "stdout",
     "output_type": "stream",
     "text": [
      "Weather Location: The Counting Room\n"
     ]
    }
   ],
   "source": [
    "rest_loc = Location(search_business, location)\n",
    "lat, long = rest_loc.get_lat_long()"
   ]
  },
  {
   "cell_type": "markdown",
   "metadata": {},
   "source": [
    "### Darksky API Call"
   ]
  },
  {
   "cell_type": "code",
   "execution_count": 678,
   "metadata": {},
   "outputs": [],
   "source": [
    "weather_call = Weather(lat, long,'19:30:00')\n",
    "weather_df = weather_call.weather_df(start_date, end_date)"
   ]
  },
  {
   "cell_type": "code",
   "execution_count": 679,
   "metadata": {},
   "outputs": [],
   "source": [
    "weather_df.to_csv(f'csv/weather_{start_date}_to_{end_date}.csv')\n",
    "weather_csv_file = f'csv/weather_{start_date}_to_{end_date}.csv'"
   ]
  },
  {
   "cell_type": "markdown",
   "metadata": {},
   "source": [
    "## Import / Clean / Prep File"
   ]
  },
  {
   "cell_type": "code",
   "execution_count": 1265,
   "metadata": {},
   "outputs": [],
   "source": [
    "# Restaurant File\n",
    "current_file = 'csv/rest_1_daily_sales.csv'\n",
    "\n",
    "# Weather File\n",
    "weather_csv_file = 'csv/weather_2017-01-01_to_2019-06-10.csv'"
   ]
  },
  {
   "cell_type": "code",
   "execution_count": 1266,
   "metadata": {},
   "outputs": [],
   "source": [
    "class importMerge:\n",
    "    \n",
    "    def __init__(self, sales_file, weather_file, start_date, end_date):\n",
    "        \n",
    "        self.sales_file = sales_file\n",
    "        self.weather_file = weather_file\n",
    "        self.start_date = start_date\n",
    "        self.end_date = end_date\n",
    "    \n",
    "    def import_clean_merge(self):\n",
    "        \n",
    "        data = pd.read_csv(self.sales_file, index_col = 'date', parse_dates=True)\n",
    "        df = pd.DataFrame(data)\n",
    "\n",
    "        # Rename Column to 'sales'\n",
    "        df = df.rename(columns={'net_sales': 'sales'})\n",
    "\n",
    "        # Fill NaN\n",
    "        df.fillna(0, inplace=True)\n",
    "\n",
    "        # Filter to target dates\n",
    "        df = df[(df.index > self.start_date) & (df.index < self.end_date)]\n",
    "\n",
    "        # Import and clean weather file\n",
    "        weather_df_csv = pd.read_csv(self.weather_file, parse_dates=True, index_col='date')\n",
    "        weather_df_csv['summary'].fillna(value='none', inplace=True)\n",
    "\n",
    "        # Merge sales and weather csv\n",
    "        df = pd.merge(df, weather_df_csv, how='left', on='date')\n",
    "        \n",
    "        return df"
   ]
  },
  {
   "cell_type": "markdown",
   "metadata": {},
   "source": [
    "### Encode Closed Days"
   ]
  },
  {
   "cell_type": "code",
   "execution_count": 1489,
   "metadata": {},
   "outputs": [],
   "source": [
    "from sklearn.base import BaseEstimator, TransformerMixin\n",
    "from sklearn.preprocessing import OneHotEncoder, StandardScaler\n",
    "from sklearn.impute import SimpleImputer\n",
    "from sklearn.pipeline import FeatureUnion, Pipeline "
   ]
  },
  {
   "cell_type": "code",
   "execution_count": 1773,
   "metadata": {},
   "outputs": [],
   "source": [
    "class CalendarTransformer(BaseEstimator, TransformerMixin):\n",
    "    \n",
    "    def __init__(self, additional_closed_dates):\n",
    "        self.additional_closed_dates = additional_closed_dates\n",
    "        \n",
    "    def fit(self, X, y = None):\n",
    "        return self\n",
    "    \n",
    "    def transform(self, X, y = None):\n",
    "        \n",
    "        cal = calendar()\n",
    "        \n",
    "        potential_closed_dates = X[X[target] == 0].index\n",
    "        \n",
    "        X['closed'] = np.where((((X.index.isin(potential_closed_dates)) & \\\n",
    "                              (X.index.isin(cal.holidays(start_date, end_date)))) | X.index.isin(self.additional_closed_dates)), 1, 0)\n",
    "        \n",
    "        X['sales'] = np.where(X['closed'] == 1, 0, X['sales'])\n",
    "        \n",
    "        # THREE DAY WEEKEND FEATURE\n",
    "        sunday_three_days = [date + pd.DateOffset(-1) for date in cal.holidays(start_date, end_date) if date.dayofweek == 0]\n",
    "        X['sunday_three_day'] = np.where(X.index.isin(sunday_three_days), 1, 0)\n",
    "        \n",
    "        return X"
   ]
  },
  {
   "cell_type": "code",
   "execution_count": 1774,
   "metadata": {},
   "outputs": [],
   "source": [
    "class OutlierTransformer(BaseEstimator, TransformerMixin):\n",
    "    \n",
    "    def __init__(self, z_thresh, cols = ['sales', 'covers']):\n",
    "        self.z_thresh = z_thresh\n",
    "        self.cols = cols\n",
    "        \n",
    "    def fit(self, X, y = None):\n",
    "        return self\n",
    "    \n",
    "    def transform(self, X, y = None):\n",
    "        \n",
    "        for c in self.cols:\n",
    "            \n",
    "            count = 0\n",
    "            \n",
    "            for d in X['day_of_week'].unique():\n",
    "                \n",
    "                # Median / Mean / STD for each day of the week\n",
    "                daily_median = np.median(X[X['day_of_week'] == d][c])\n",
    "                daily_mean = np.mean(X[X['day_of_week'] == d][c])\n",
    "                daily_std = np.std(X[X['day_of_week'] == d ][c])\n",
    "\n",
    "                # Temporary column encoded if Target Columns have an Outlier\n",
    "                X['temp_col'] = np.where((X['day_of_week'] == d) & (X['closed'] == 0) & ((np.abs(X[c] - daily_mean)) > (daily_std * self.z_thresh)), 1, 0)\n",
    "\n",
    "                # Replace Outlier with Median\n",
    "                count += np.sum(X['temp_col'])\n",
    "                X[c] = np.where(X['temp_col'] == 1, daily_median, X[c])\n",
    "                X.drop(['temp_col'], axis=1, inplace=True)\n",
    "                \n",
    "            print(f'Outliers imputed - {c}: {count} -> {(count / len(df)*100):.2f}% of total')\n",
    "            \n",
    "        return X"
   ]
  },
  {
   "cell_type": "code",
   "execution_count": 1776,
   "metadata": {},
   "outputs": [],
   "source": [
    "class BasicFeatureTransformer(BaseEstimator, TransformerMixin):\n",
    "    \n",
    "    def __init__(self, month_clusters):\n",
    "        self.mo_k = month_clusters\n",
    "        \n",
    "    def fit(self, X, y = None):\n",
    "        return self\n",
    "           \n",
    "    def transform(self, X, y = None):\n",
    "        \n",
    "        \"\"\"Per Person Average\"\"\"\n",
    "        \n",
    "        X['ppa'] = np.where(X['covers'] > 0, X['sales'] / X['covers'], 0)\n",
    "        \n",
    "        \n",
    "        \"\"\" KMeans Month Clusters\"\"\"\n",
    "        \n",
    "        # MAKE DATAFRAME USING CENTRAL TENDENCIES AS FEATURES\n",
    "        describe = X.groupby('month')[target].aggregate(['median', 'std', 'max'])\n",
    "        temp_df = describe.reset_index()\n",
    "\n",
    "        # SCALE TEMPORARY DF\n",
    "        scaler = MinMaxScaler()\n",
    "        f = scaler.fit_transform(temp_df)\n",
    "\n",
    "        # INSTANTIATE MODEL\n",
    "        km = KMeans(n_clusters=self.mo_k, random_state=0).fit(f)\n",
    "\n",
    "        # GET KMEANS CLUSTER PREDICTIONS\n",
    "        labels = km.predict(f)\n",
    "\n",
    "        # MAKE SERIES FROM PREDICTIONS\n",
    "        temp_series = pd.DataFrame(labels, columns = ['cluster'], index=temp_df.index)\n",
    "\n",
    "        # CONCAT CLUSTERS TO DATAFRAME\n",
    "        temp_df = pd.concat([temp_df, temp_series], axis=1)\n",
    "\n",
    "        # CREATE CLUSTER DICTIONARY\n",
    "        temp_dict = {}\n",
    "        for i in list(X['month']):\n",
    "            \n",
    "            temp_dict[i] = temp_df.loc[temp_df['month'] == i, 'cluster'].iloc[0]\n",
    "        \n",
    "        X['month_cluster'] = X['month'].apply(lambda x: temp_dict[x]).astype('category')\n",
    "        X.drop(['month'], axis=1, inplace=True)\n",
    "        \n",
    "        \n",
    "        \"\"\"Day & Month Cluster Dummies\"\"\"\n",
    "        \n",
    "        X['day_of_week'] = X['day_of_week'].astype('category')\n",
    "        X = pd.get_dummies(data=X, columns=['day_of_week', 'month_cluster'])\n",
    "        \n",
    "        \n",
    "        \"\"\" Trend Engineering \"\"\"\n",
    "        \n",
    "        X['target_trend'] = X[target].shift(1).rolling(trend_days_rolling).mean() / \\\n",
    "                            X[target].shift(1 + trend_days_shift).rolling(trend_days_rolling).mean()\n",
    "        \n",
    "        return X"
   ]
  },
  {
   "cell_type": "code",
   "execution_count": 1815,
   "metadata": {},
   "outputs": [],
   "source": [
    "class WeatherFeatureTransformer(BaseEstimator, TransformerMixin):\n",
    "    \n",
    "    def __init__(self, temp_bins, open_time, close_time):\n",
    "        self.temp_bins = temp_bins\n",
    "        self.open_time = open_time\n",
    "        self.close_time = close_time\n",
    "    \n",
    "    def fit(self, X, y = None):\n",
    "        return self\n",
    "    \n",
    "    def between_time(self, check_time):\n",
    "\n",
    "        hs_dt = datetime.strptime(self.open_time, \"%I:%M%p\")\n",
    "        he_dt = datetime.strptime(self.close_time, \"%I:%M%p\")\n",
    "\n",
    "        if hs_dt <= datetime.strptime(check_time, \"%I:%M%p\") <= he_dt:\n",
    "            return 1\n",
    "        else:\n",
    "            return 0\n",
    "    \n",
    "    def transform(self, X, y = None):\n",
    "    \n",
    "        \"\"\" Bin & Encode Temperature \"\"\"\n",
    "        \n",
    "        #Onehot encoder\n",
    "        temp_enc = KBinsDiscretizer(n_bins=self.temp_bins, encode='onehot', strategy='kmeans')\n",
    "        temp_enc.fit(X[['apparent_temperature']])\n",
    "    \n",
    "        #Bin temps into categories\n",
    "        binned_transform = temp_enc.transform(X[['apparent_temperature']])\n",
    "        binned_df = pd.DataFrame(binned_transform.toarray(), index=X.index, columns=['temp_very_cold', 'temp_cold', 'temp_warm', 'temp_hot'])\n",
    "        X = X.merge(binned_df, how='left', on='date')\n",
    "        \n",
    "        # POOR WEATHER FEATURES\n",
    "        X['precip_while_open'] = np.where(X['precip_intensity_max'] > 0, X['precip_max_time'].apply(lambda x: self.between_time(x)), 0)\n",
    "        X.drop(['apparent_temperature', 'temperature', 'precip_intensity_max', 'precip_max_time', 'summary', 'precip_type'], axis=1, inplace=True)\n",
    "\n",
    "        return X"
   ]
  },
  {
   "cell_type": "code",
   "execution_count": 1846,
   "metadata": {},
   "outputs": [],
   "source": [
    "class InteractionTransformer(BaseEstimator, TransformerMixin):\n",
    "    \n",
    "    def __init__(self):\n",
    "        pass\n",
    "    \n",
    "    def fit(self, X, y = None):\n",
    "        return self\n",
    "    \n",
    "    def transform(self, X, y = None):\n",
    "        \n",
    "        X['outside_X_precip_open'] = X['outside'] * X['precip_while_open']\n",
    "            \n",
    "        for t in [col for col in X.columns if col.startswith('temp_')]:\n",
    "\n",
    "            col_name = t + '_X_' + 'outside'\n",
    "            X[col_name] = X[t] * X['outside']\n",
    "\n",
    "        X.drop(['outside', 'day_of_week_0'], axis=1, inplace=True)\n",
    "        \n",
    "        target_list = ['sales', 'covers', 'ppa']\n",
    "    \n",
    "        if X.columns.any() in target_list:\n",
    "        \n",
    "            target_to_drop = [t for t in target_list if t != target]\n",
    "            X.drop(target_to_drop, axis=1, inplace=True)\n",
    "            \n",
    "        return X\n"
   ]
  },
  {
   "cell_type": "code",
   "execution_count": 1847,
   "metadata": {},
   "outputs": [],
   "source": [
    "target_list = ['sales', 'ppa', 'covers']\n",
    "target = 'sales'\n",
    "\n",
    "temp_bins = 4\n",
    "month_clusters = 4\n",
    "\n",
    "open_time = '05:00PM'\n",
    "close_time = '11:59PM'\n",
    "\n",
    "trend_days_rolling = 28\n",
    "trend_days_shift = 7\n",
    "days_fwd = trend_days_rolling + trend_days_shift + 1"
   ]
  },
  {
   "cell_type": "code",
   "execution_count": 1848,
   "metadata": {},
   "outputs": [],
   "source": [
    "pipeline = Pipeline ( steps = [ ( 'closed' , CalendarTransformer(additional_closed_dates) ),\n",
    "                                ( 'outliers', OutlierTransformer(z_thresh) ),\n",
    "                                ( 'basic_features', BasicFeatureTransformer(month_clusters) ),\n",
    "                                ( 'weather_features', WeatherFeatureTransformer(temp_bins, open_time, close_time) ),\n",
    "                                ( 'interactions', InteractionTransformer() ) ] )"
   ]
  },
  {
   "cell_type": "code",
   "execution_count": 1849,
   "metadata": {},
   "outputs": [],
   "source": [
    "obj = importMerge(current_file, weather_csv_file, start_date, end_date)\n",
    "hello = obj.import_clean_merge()"
   ]
  },
  {
   "cell_type": "code",
   "execution_count": 1850,
   "metadata": {},
   "outputs": [
    {
     "name": "stdout",
     "output_type": "stream",
     "text": [
      "Outliers imputed - sales: 13 -> 1.46% of total\n",
      "Outliers imputed - covers: 11 -> 1.24% of total\n"
     ]
    }
   ],
   "source": [
    "hello = pipeline.fit_transform(hello)"
   ]
  },
  {
   "cell_type": "code",
   "execution_count": 1851,
   "metadata": {},
   "outputs": [
    {
     "data": {
      "text/html": [
       "<div>\n",
       "<style scoped>\n",
       "    .dataframe tbody tr th:only-of-type {\n",
       "        vertical-align: middle;\n",
       "    }\n",
       "\n",
       "    .dataframe tbody tr th {\n",
       "        vertical-align: top;\n",
       "    }\n",
       "\n",
       "    .dataframe thead th {\n",
       "        text-align: right;\n",
       "    }\n",
       "</style>\n",
       "<table border=\"1\" class=\"dataframe\">\n",
       "  <thead>\n",
       "    <tr style=\"text-align: right;\">\n",
       "      <th></th>\n",
       "      <th>sales</th>\n",
       "      <th>humidity</th>\n",
       "      <th>precip_prob</th>\n",
       "      <th>pressure</th>\n",
       "      <th>closed</th>\n",
       "      <th>sunday_three_day</th>\n",
       "      <th>day_of_week_1</th>\n",
       "      <th>day_of_week_2</th>\n",
       "      <th>day_of_week_3</th>\n",
       "      <th>day_of_week_4</th>\n",
       "      <th>...</th>\n",
       "      <th>temp_very_cold</th>\n",
       "      <th>temp_cold</th>\n",
       "      <th>temp_warm</th>\n",
       "      <th>temp_hot</th>\n",
       "      <th>precip_while_open</th>\n",
       "      <th>outside_X_precip_open</th>\n",
       "      <th>temp_very_cold_X_outside</th>\n",
       "      <th>temp_cold_X_outside</th>\n",
       "      <th>temp_warm_X_outside</th>\n",
       "      <th>temp_hot_X_outside</th>\n",
       "    </tr>\n",
       "    <tr>\n",
       "      <th>date</th>\n",
       "      <th></th>\n",
       "      <th></th>\n",
       "      <th></th>\n",
       "      <th></th>\n",
       "      <th></th>\n",
       "      <th></th>\n",
       "      <th></th>\n",
       "      <th></th>\n",
       "      <th></th>\n",
       "      <th></th>\n",
       "      <th></th>\n",
       "      <th></th>\n",
       "      <th></th>\n",
       "      <th></th>\n",
       "      <th></th>\n",
       "      <th></th>\n",
       "      <th></th>\n",
       "      <th></th>\n",
       "      <th></th>\n",
       "      <th></th>\n",
       "      <th></th>\n",
       "    </tr>\n",
       "  </thead>\n",
       "  <tbody>\n",
       "    <tr>\n",
       "      <th>2019-06-05</th>\n",
       "      <td>15613.58</td>\n",
       "      <td>0.71</td>\n",
       "      <td>0.0</td>\n",
       "      <td>1007.12</td>\n",
       "      <td>0</td>\n",
       "      <td>0</td>\n",
       "      <td>0</td>\n",
       "      <td>1</td>\n",
       "      <td>0</td>\n",
       "      <td>0</td>\n",
       "      <td>...</td>\n",
       "      <td>0.0</td>\n",
       "      <td>0.0</td>\n",
       "      <td>0.0</td>\n",
       "      <td>1.0</td>\n",
       "      <td>0</td>\n",
       "      <td>0</td>\n",
       "      <td>0.0</td>\n",
       "      <td>0.0</td>\n",
       "      <td>0.0</td>\n",
       "      <td>1.0</td>\n",
       "    </tr>\n",
       "    <tr>\n",
       "      <th>2019-06-06</th>\n",
       "      <td>18421.26</td>\n",
       "      <td>0.50</td>\n",
       "      <td>0.0</td>\n",
       "      <td>1008.61</td>\n",
       "      <td>0</td>\n",
       "      <td>0</td>\n",
       "      <td>0</td>\n",
       "      <td>0</td>\n",
       "      <td>1</td>\n",
       "      <td>0</td>\n",
       "      <td>...</td>\n",
       "      <td>0.0</td>\n",
       "      <td>0.0</td>\n",
       "      <td>0.0</td>\n",
       "      <td>1.0</td>\n",
       "      <td>0</td>\n",
       "      <td>0</td>\n",
       "      <td>0.0</td>\n",
       "      <td>0.0</td>\n",
       "      <td>0.0</td>\n",
       "      <td>1.0</td>\n",
       "    </tr>\n",
       "    <tr>\n",
       "      <th>2019-06-07</th>\n",
       "      <td>21023.88</td>\n",
       "      <td>0.77</td>\n",
       "      <td>0.0</td>\n",
       "      <td>1014.18</td>\n",
       "      <td>0</td>\n",
       "      <td>0</td>\n",
       "      <td>0</td>\n",
       "      <td>0</td>\n",
       "      <td>0</td>\n",
       "      <td>1</td>\n",
       "      <td>...</td>\n",
       "      <td>0.0</td>\n",
       "      <td>0.0</td>\n",
       "      <td>0.0</td>\n",
       "      <td>1.0</td>\n",
       "      <td>1</td>\n",
       "      <td>1</td>\n",
       "      <td>0.0</td>\n",
       "      <td>0.0</td>\n",
       "      <td>0.0</td>\n",
       "      <td>1.0</td>\n",
       "    </tr>\n",
       "    <tr>\n",
       "      <th>2019-06-08</th>\n",
       "      <td>21201.51</td>\n",
       "      <td>0.40</td>\n",
       "      <td>0.0</td>\n",
       "      <td>1022.45</td>\n",
       "      <td>0</td>\n",
       "      <td>0</td>\n",
       "      <td>0</td>\n",
       "      <td>0</td>\n",
       "      <td>0</td>\n",
       "      <td>0</td>\n",
       "      <td>...</td>\n",
       "      <td>0.0</td>\n",
       "      <td>0.0</td>\n",
       "      <td>0.0</td>\n",
       "      <td>1.0</td>\n",
       "      <td>0</td>\n",
       "      <td>0</td>\n",
       "      <td>0.0</td>\n",
       "      <td>0.0</td>\n",
       "      <td>0.0</td>\n",
       "      <td>1.0</td>\n",
       "    </tr>\n",
       "    <tr>\n",
       "      <th>2019-06-09</th>\n",
       "      <td>20616.10</td>\n",
       "      <td>0.37</td>\n",
       "      <td>0.0</td>\n",
       "      <td>1025.03</td>\n",
       "      <td>0</td>\n",
       "      <td>0</td>\n",
       "      <td>0</td>\n",
       "      <td>0</td>\n",
       "      <td>0</td>\n",
       "      <td>0</td>\n",
       "      <td>...</td>\n",
       "      <td>0.0</td>\n",
       "      <td>0.0</td>\n",
       "      <td>0.0</td>\n",
       "      <td>1.0</td>\n",
       "      <td>0</td>\n",
       "      <td>0</td>\n",
       "      <td>0.0</td>\n",
       "      <td>0.0</td>\n",
       "      <td>0.0</td>\n",
       "      <td>1.0</td>\n",
       "    </tr>\n",
       "  </tbody>\n",
       "</table>\n",
       "<p>5 rows × 27 columns</p>\n",
       "</div>"
      ],
      "text/plain": [
       "               sales  humidity  precip_prob  pressure  closed  \\\n",
       "date                                                            \n",
       "2019-06-05  15613.58      0.71          0.0   1007.12       0   \n",
       "2019-06-06  18421.26      0.50          0.0   1008.61       0   \n",
       "2019-06-07  21023.88      0.77          0.0   1014.18       0   \n",
       "2019-06-08  21201.51      0.40          0.0   1022.45       0   \n",
       "2019-06-09  20616.10      0.37          0.0   1025.03       0   \n",
       "\n",
       "            sunday_three_day  day_of_week_1  day_of_week_2  day_of_week_3  \\\n",
       "date                                                                        \n",
       "2019-06-05                 0              0              1              0   \n",
       "2019-06-06                 0              0              0              1   \n",
       "2019-06-07                 0              0              0              0   \n",
       "2019-06-08                 0              0              0              0   \n",
       "2019-06-09                 0              0              0              0   \n",
       "\n",
       "            day_of_week_4  ...  temp_very_cold  temp_cold  temp_warm  \\\n",
       "date                       ...                                         \n",
       "2019-06-05              0  ...             0.0        0.0        0.0   \n",
       "2019-06-06              0  ...             0.0        0.0        0.0   \n",
       "2019-06-07              1  ...             0.0        0.0        0.0   \n",
       "2019-06-08              0  ...             0.0        0.0        0.0   \n",
       "2019-06-09              0  ...             0.0        0.0        0.0   \n",
       "\n",
       "            temp_hot  precip_while_open  outside_X_precip_open  \\\n",
       "date                                                             \n",
       "2019-06-05       1.0                  0                      0   \n",
       "2019-06-06       1.0                  0                      0   \n",
       "2019-06-07       1.0                  1                      1   \n",
       "2019-06-08       1.0                  0                      0   \n",
       "2019-06-09       1.0                  0                      0   \n",
       "\n",
       "            temp_very_cold_X_outside  temp_cold_X_outside  \\\n",
       "date                                                        \n",
       "2019-06-05                       0.0                  0.0   \n",
       "2019-06-06                       0.0                  0.0   \n",
       "2019-06-07                       0.0                  0.0   \n",
       "2019-06-08                       0.0                  0.0   \n",
       "2019-06-09                       0.0                  0.0   \n",
       "\n",
       "            temp_warm_X_outside  temp_hot_X_outside  \n",
       "date                                                 \n",
       "2019-06-05                  0.0                 1.0  \n",
       "2019-06-06                  0.0                 1.0  \n",
       "2019-06-07                  0.0                 1.0  \n",
       "2019-06-08                  0.0                 1.0  \n",
       "2019-06-09                  0.0                 1.0  \n",
       "\n",
       "[5 rows x 27 columns]"
      ]
     },
     "execution_count": 1851,
     "metadata": {},
     "output_type": "execute_result"
    }
   ],
   "source": [
    "hello.tail()"
   ]
  },
  {
   "cell_type": "code",
   "execution_count": 1852,
   "metadata": {},
   "outputs": [],
   "source": [
    "# Set Closed Dates using Sales & User Input\n",
    "\n",
    "# CLOSED DATES\n",
    "additional_closed_dates = ['2018-12-24', '2017-12-24', '2017-02-05', '2017-03-14', '2018-01-01', '2018-02-04', '2019-02-03']\n",
    "closed_dates = [pd.to_datetime(date) for date in additional_closed_dates]\n",
    "\n",
    "# Drop or Encode Closed Days\n",
    "def encode_closed_days(df):\n",
    "\n",
    "    # CLOSED FEATURE\n",
    "    cal = calendar()\n",
    "\n",
    "    # Local list of days with zero sales\n",
    "    potential_closed_dates = df[df['sales'] == 0].index\n",
    "\n",
    "    # Enocodes closed days with 1\n",
    "    df['closed'] = np.where((((df.index.isin(potential_closed_dates)) & \\\n",
    "                              (df.index.isin(cal.holidays(start_date, end_date)))) | df.index.isin(closed_dates)), 1, 0)\n",
    "\n",
    "    df['sales'] = np.where(df['closed'] == 1, 0, df['sales'])\n",
    "    \n",
    "    return df"
   ]
  },
  {
   "cell_type": "markdown",
   "metadata": {},
   "source": [
    "### Impute Outliers in Data"
   ]
  },
  {
   "cell_type": "code",
   "execution_count": 1269,
   "metadata": {},
   "outputs": [],
   "source": [
    " #Replace Outliers with Medians\n",
    "## Targets for Outliers\n",
    "\n",
    "z_thresh = 2\n",
    "\n",
    "def impute_outliers(df, *col):\n",
    "    \n",
    "    # Check for Outliers in Sales + Covers\n",
    "    for c in col:\n",
    "        \n",
    "        count = 0\n",
    "        \n",
    "        # Impute Median for Sales & Covers Based on Day of Week Outiers\n",
    "        for d in df['day_of_week'].unique():\n",
    "            \n",
    "            # Median / Mean / STD for each day of the week\n",
    "            daily_median = np.median(df[df['day_of_week'] == d][c])\n",
    "            daily_mean = np.mean(df[df['day_of_week'] == d][c])\n",
    "            daily_std = np.std(df[df['day_of_week'] == d ][c])\n",
    "            \n",
    "            # Temporary column encoded if Target Columns have an Outlier\n",
    "            df['temp_col'] = np.where((df['day_of_week'] == d) & (df['closed'] == 0) & ((np.abs(df[c] - daily_mean)) > (daily_std * z_thresh)), 1, 0)\n",
    "            \n",
    "            # Replace Outlier with Median\n",
    "            count += np.sum(df['temp_col'])\n",
    "            df[c] = np.where(df['temp_col'] == 1, daily_median, df[c])\n",
    "            df = df.drop(['temp_col'], axis=1)\n",
    "\n",
    "        print(f'Outliers imputed - {c}: {count} -> {(count / len(df)*100):.2f}% of total')\n",
    "    \n",
    "    return df"
   ]
  },
  {
   "cell_type": "markdown",
   "metadata": {},
   "source": [
    "### Add Per Person Average (PPA)"
   ]
  },
  {
   "cell_type": "code",
   "execution_count": 1270,
   "metadata": {},
   "outputs": [],
   "source": [
    "# Add column with Per Person Average (Sales per Cover)\n",
    "def add_ppa(df):\n",
    "    \n",
    "    df['ppa'] = np.where(df['covers'] > 0, df['sales'] / df['covers'], 0)\n",
    "    \n",
    "    return df"
   ]
  },
  {
   "cell_type": "markdown",
   "metadata": {},
   "source": [
    "## Clean File Here"
   ]
  },
  {
   "cell_type": "code",
   "execution_count": 1271,
   "metadata": {},
   "outputs": [
    {
     "name": "stdout",
     "output_type": "stream",
     "text": [
      "Outliers imputed - sales: 13 -> 1.46% of total\n",
      "Outliers imputed - covers: 11 -> 1.24% of total\n"
     ]
    }
   ],
   "source": [
    "data = add_ppa(impute_outliers(encode_closed_days(data), 'sales', 'covers'))"
   ]
  },
  {
   "cell_type": "markdown",
   "metadata": {},
   "source": [
    "### Export CSV for EDA"
   ]
  },
  {
   "cell_type": "code",
   "execution_count": 1272,
   "metadata": {},
   "outputs": [],
   "source": [
    "data.to_csv('csv/CSV_for_EDA.csv')"
   ]
  },
  {
   "cell_type": "markdown",
   "metadata": {},
   "source": [
    "## CHOOSE TARGET --> SALES OR COVERS"
   ]
  },
  {
   "cell_type": "code",
   "execution_count": 1273,
   "metadata": {},
   "outputs": [],
   "source": []
  },
  {
   "cell_type": "markdown",
   "metadata": {},
   "source": [
    "### Create Month Clusters"
   ]
  },
  {
   "cell_type": "code",
   "execution_count": 1274,
   "metadata": {},
   "outputs": [],
   "source": [
    "day_k = 7\n",
    "mo_k = 4\n",
    "\n",
    "def create_clusters(df, target, col, k):\n",
    "    \n",
    "    # MAKE DATAFRAME USING CENTRAL TENDENCIES AS FEATURES\n",
    "    describe = df.groupby(col)[target].aggregate(['median', 'std', 'max'])\n",
    "    df = describe.reset_index()\n",
    "    \n",
    "    # SCALE TEMPORARY DF\n",
    "    scaler = MinMaxScaler()\n",
    "    f = scaler.fit_transform(df)\n",
    "    \n",
    "    # INSTANTIATE MODEL\n",
    "    km = KMeans(n_clusters=k, random_state=0).fit(f)\n",
    "    \n",
    "    # GET KMEANS CLUSTER PREDICTIONS\n",
    "    labels = km.predict(f)\n",
    "    \n",
    "    # MAKE SERIES FROM PREDICTIONS\n",
    "    temp = pd.DataFrame(labels, columns = ['cluster'], index=df.index)\n",
    "    \n",
    "    # CONCAT CLUSTERS TO DATAFRAME\n",
    "    df = pd.concat([df, temp], axis=1)\n",
    "    \n",
    "    # CREATE CLUSTER DICTIONARY\n",
    "    temp_dict = {}\n",
    "    for i in list(df[col]):\n",
    "        \n",
    "        temp_dict[i] = df.loc[df[col] == i, 'cluster'].iloc[0]\n",
    "    \n",
    "    return temp_dict\n",
    "\n",
    "# Create Global Dictionaries to Categorize Day / Month\n",
    "#day_dict = create_clusters(data, 'day_of_week', day_k)\n",
    "month_dict = create_clusters(data, target, 'month', mo_k)"
   ]
  },
  {
   "cell_type": "code",
   "execution_count": 1275,
   "metadata": {},
   "outputs": [
    {
     "name": "stdout",
     "output_type": "stream",
     "text": [
      "Month Clusters:  {1: 2, 2: 3, 3: 2, 4: 3, 5: 0, 6: 0, 7: 0, 8: 0, 9: 0, 10: 0, 11: 1, 12: 1} \n",
      " Total Clusters:  4\n"
     ]
    }
   ],
   "source": [
    "# Print Clusters\n",
    "print('Month Clusters: ', month_dict, '\\n', 'Total Clusters: ', len(set(month_dict.values())))"
   ]
  },
  {
   "cell_type": "markdown",
   "metadata": {},
   "source": [
    "### Add Temperature Onehot Categories"
   ]
  },
  {
   "cell_type": "code",
   "execution_count": 1276,
   "metadata": {},
   "outputs": [],
   "source": [
    "def encode_temp(df):\n",
    "    \n",
    "    #Onehot encoder\n",
    "    temp_enc = KBinsDiscretizer(n_bins=4, encode='onehot', strategy='kmeans')\n",
    "    temp_enc.fit(df[['apparent_temperature']])\n",
    "    \n",
    "    return temp_enc\n",
    "    \n",
    "def one_hot_temp(df, temp_enc):\n",
    "    \n",
    "    #Bin temps into five categories\n",
    "    binned_transform = temp_enc.transform(df[['apparent_temperature']])\n",
    "    binned_df = pd.DataFrame(binned_transform.toarray(), index=df.index, columns=['temp_very_cold', 'temp_cold', 'temp_warm', 'temp_hot'])\n",
    "    df = df.merge(binned_df, how='left', on='date')\n",
    "    df.drop(['apparent_temperature', 'temperature'], axis=1, inplace=True)\n",
    "\n",
    "    return df, temp_enc"
   ]
  },
  {
   "cell_type": "markdown",
   "metadata": {},
   "source": [
    "## Feature Engineering"
   ]
  },
  {
   "cell_type": "code",
   "execution_count": 1277,
   "metadata": {},
   "outputs": [],
   "source": [
    "# Add Clusters to DataFrame to use as Features\n",
    "def add_clusters(df):\n",
    "    \n",
    "    #df['day_cluster'] = df['day_of_week'].apply(lambda x: day_dict[x]).astype('category')\n",
    "    df['month_cluster'] = df['month'].apply(lambda x: month_dict[x]).astype('category')\n",
    "    df = df.drop(['month'], axis=1)\n",
    "    \n",
    "    return df"
   ]
  },
  {
   "cell_type": "markdown",
   "metadata": {},
   "source": [
    "### Add Weather Features"
   ]
  },
  {
   "cell_type": "code",
   "execution_count": 1278,
   "metadata": {},
   "outputs": [],
   "source": [
    "hours_start = '05:00PM'\n",
    "hours_end = '11:59PM'\n",
    "\n",
    "hs_dt = datetime.strptime(hours_start, \"%I:%M%p\")\n",
    "he_dt = datetime.strptime(hours_end, \"%I:%M%p\")\n",
    "\n",
    "def between_time(check_time):\n",
    "        \n",
    "    if hs_dt <= datetime.strptime(check_time, \"%I:%M%p\") <= he_dt:\n",
    "\n",
    "        return 1\n",
    "\n",
    "    else:\n",
    "\n",
    "        return 0"
   ]
  },
  {
   "cell_type": "code",
   "execution_count": 1279,
   "metadata": {},
   "outputs": [],
   "source": [
    "add_weather = True\n",
    "\n",
    "def add_weather_features(df):\n",
    "    \n",
    "    if add_weather:\n",
    "        \n",
    "        # POOR WEATHER FEATURES\n",
    "        df['precip_while_open'] = np.where(df['precip_intensity_max'] > 0, df['precip_max_time'].apply(lambda x: between_time(x)), 0)\n",
    "    \n",
    "        # DROP FEATURES\n",
    "        features_to_drop = ['precip_max_time']\n",
    "        df.drop(features_to_drop, axis=1, inplace=True)\n",
    "        \n",
    "    return df"
   ]
  },
  {
   "cell_type": "markdown",
   "metadata": {},
   "source": [
    "### Add Calendar Features"
   ]
  },
  {
   "cell_type": "code",
   "execution_count": 1280,
   "metadata": {},
   "outputs": [],
   "source": [
    "def add_cal_features(df):\n",
    "    \n",
    "    cal = calendar()\n",
    "\n",
    "    # THREE DAY WEEKEND FEATURE\n",
    "    sunday_three_days = [date + pd.DateOffset(-1) for date in cal.holidays(start_date, end_date) if date.dayofweek == 0]\n",
    "    df['sunday_three_day'] = np.where(df.index.isin(sunday_three_days), 1, 0)\n",
    "    \n",
    "    return df"
   ]
  },
  {
   "cell_type": "markdown",
   "metadata": {},
   "source": [
    "### Add Dummies"
   ]
  },
  {
   "cell_type": "code",
   "execution_count": 1281,
   "metadata": {},
   "outputs": [],
   "source": [
    "def add_dummies(df):\n",
    "    \n",
    "    df['day_of_week'] = df['day_of_week'].astype('category')\n",
    "    \n",
    "    df = pd.get_dummies(data=df, columns=['day_of_week', 'month_cluster'])\n",
    "    \n",
    "    return df"
   ]
  },
  {
   "cell_type": "markdown",
   "metadata": {},
   "source": [
    "### Add Interactions"
   ]
  },
  {
   "cell_type": "code",
   "execution_count": 1282,
   "metadata": {},
   "outputs": [],
   "source": [
    "def add_interactions(df):\n",
    "    \n",
    "    apply_this_interaction = False\n",
    "    \n",
    "    if apply_this_interaction:\n",
    "        \n",
    "        for d in [col for col in df.columns if col.startswith('day_of_week')]:\n",
    "            \n",
    "            for m in [col for col in df.columns if col.startswith('month_cluster')]:\n",
    "                \n",
    "                col_name = d + '_X_' + m\n",
    "                \n",
    "                df[col_name] = df[d] * df[m]\n",
    "                \n",
    "            df.drop([d], axis=1, inplace=True)\n",
    "        \n",
    "        df.drop([col for col in df.columns if col.startswith('month_cluster')], axis=1, inplace=True)\n",
    "                \n",
    "        return df\n",
    "    \n",
    "    else:\n",
    "        \n",
    "        return df"
   ]
  },
  {
   "cell_type": "code",
   "execution_count": 1283,
   "metadata": {},
   "outputs": [],
   "source": [
    "def add_weather_interactions(df):\n",
    "    \n",
    "    apply_this_interaction = True\n",
    "    \n",
    "    if apply_this_interaction:\n",
    "        \n",
    "        try:\n",
    "            \n",
    "            df['outside_X_precip_open'] = df['outside'] * df['precip_while_open']\n",
    "            \n",
    "            for t in [col for col in df.columns if col.startswith('temp_')]:\n",
    "\n",
    "                col_name = t + '_X_' + 'outside'\n",
    "                df[col_name] = df[t] * df['outside']\n",
    "\n",
    "            df.drop(['outside'], axis=1, inplace=True)\n",
    "            \n",
    "        except:\n",
    "            \n",
    "            pass\n",
    "        \n",
    "        return df\n",
    "    \n",
    "    else:\n",
    "        \n",
    "        return df"
   ]
  },
  {
   "cell_type": "markdown",
   "metadata": {},
   "source": [
    "### Feature Selection"
   ]
  },
  {
   "cell_type": "code",
   "execution_count": 1451,
   "metadata": {},
   "outputs": [],
   "source": [
    "def feature_selection(df):\n",
    "    \n",
    "    target_list = ['sales', 'covers', 'ppa']\n",
    "    \n",
    "    if df.columns.any() in target_list:\n",
    "        \n",
    "        target_to_drop = [t for t in target_list if t != target]\n",
    "        df = df.drop(target_to_drop, axis=1)\n",
    "        \n",
    "    else:\n",
    "        pass\n",
    "        \n",
    "    # Feature Selection / Drop unnecessary or correlated columns\n",
    "    cols_to_drop = ['precip_type', 'summary', 'pressure', 'precip_intensity_max', 'day_of_week_0']\n",
    "    \n",
    "    df = df.drop(cols_to_drop, axis=1)\n",
    "    \n",
    "    return df"
   ]
  },
  {
   "cell_type": "markdown",
   "metadata": {},
   "source": [
    "### Add Target Trend Feature Engineering"
   ]
  },
  {
   "cell_type": "code",
   "execution_count": 1452,
   "metadata": {},
   "outputs": [],
   "source": [
    "trend_days_rolling = 28\n",
    "trend_days_shift = 7\n",
    "days_fwd = trend_days_rolling + trend_days_shift + 1\n",
    "\n",
    "def target_trend_engineering(df):\n",
    "    \n",
    "    df['target_trend'] = df[target].shift(1).rolling(trend_days_rolling).mean() / df[target].shift(1 + trend_days_shift).rolling(trend_days_rolling).mean()\n",
    "    \n",
    "    return df"
   ]
  },
  {
   "cell_type": "markdown",
   "metadata": {},
   "source": [
    "## Start Here"
   ]
  },
  {
   "cell_type": "code",
   "execution_count": 1766,
   "metadata": {},
   "outputs": [
    {
     "name": "stdout",
     "output_type": "stream",
     "text": [
      "Outliers imputed - sales: 13 -> 1.46% of total\n",
      "Outliers imputed - covers: 11 -> 1.24% of total\n"
     ]
    }
   ],
   "source": [
    "# IMPORT & PARSE CLEAN TRAINING SET\n",
    "obj = importMerge(current_file, weather_csv_file, start_date, end_date)\n",
    "data = obj.import_clean_merge()\n",
    "\n",
    "dfx = impute_outliers(encode_closed_days(data), 'sales', 'covers');"
   ]
  },
  {
   "cell_type": "code",
   "execution_count": 1768,
   "metadata": {},
   "outputs": [
    {
     "data": {
      "text/plain": [
       "14472540.75"
      ]
     },
     "execution_count": 1768,
     "metadata": {},
     "output_type": "execute_result"
    }
   ],
   "source": [
    "dfx.sales.sum()"
   ]
  },
  {
   "cell_type": "code",
   "execution_count": 1769,
   "metadata": {},
   "outputs": [],
   "source": [
    "# One Hot Encode Temperature Data\n",
    "dfx, temp_enc = one_hot_temp(dfx, encode_temp(dfx))"
   ]
  },
  {
   "cell_type": "code",
   "execution_count": 1770,
   "metadata": {},
   "outputs": [],
   "source": [
    "dfx = (dfx.pipe(add_ppa)\n",
    "    .pipe(add_clusters)\n",
    "    .pipe(add_weather_features)\n",
    "    .pipe(add_cal_features)\n",
    "    .pipe(add_dummies)\n",
    "    .pipe(add_interactions)\n",
    "    .pipe(add_weather_interactions)\n",
    "    .pipe(feature_selection)\n",
    "    .pipe(target_trend_engineering))\n"
   ]
  },
  {
   "cell_type": "code",
   "execution_count": 1771,
   "metadata": {},
   "outputs": [
    {
     "data": {
      "text/plain": [
       "132"
      ]
     },
     "execution_count": 1771,
     "metadata": {},
     "output_type": "execute_result"
    }
   ],
   "source": [
    "dfx.precip_while_open.sum()"
   ]
  },
  {
   "cell_type": "code",
   "execution_count": 1431,
   "metadata": {},
   "outputs": [],
   "source": [
    "# def feature_engineering(df):\n",
    "    \n",
    "#     df = add_ppa(df)\n",
    "    \n",
    "#     # Add day & Month Clusters // Dicts with data held in Global Variable\n",
    "#     df = add_clusters(df)\n",
    "    \n",
    "#     # Add Engineered Features for Weather & Calendar\n",
    "#     df = add_weather_features(df)\n",
    "#     df = add_cal_features(df)\n",
    "    \n",
    "#     # Create Dummies\n",
    "#     df = add_dummies(df)\n",
    "    \n",
    "#     # Add Interactions\n",
    "#     df = add_interactions(df)\n",
    "#     df = add_weather_interactions(df)\n",
    "    \n",
    "#     # Drop Selected Columns\n",
    "#     df = feature_selection(df)\n",
    "    \n",
    "#     df = target_trend_engineering(df)\n",
    "    \n",
    "#     return df\n",
    "\n",
    "# dfx = feature_engineering(dfx)"
   ]
  },
  {
   "cell_type": "code",
   "execution_count": 1859,
   "metadata": {},
   "outputs": [
    {
     "data": {
      "image/png": "[encoded data removed]",
      "text/plain": [
       "<Figure size 1152x864 with 2 Axes>"
      ]
     },
     "metadata": {},
     "output_type": "display_data"
    }
   ],
   "source": [
    "def corr_chart(df):\n",
    "    \n",
    "    corr = df.corr()\n",
    "\n",
    "    mask = np.zeros_like(corr, dtype=np.bool)\n",
    "    mask[np.triu_indices_from(mask)] = True\n",
    "\n",
    "    # Set up the matplotlib figure\n",
    "    sns.set_style('whitegrid')\n",
    "    f, ax = plt.subplots(figsize=(16, 12))\n",
    "\n",
    "    # Generate a custom diverging colormap\n",
    "    cmap = sns.diverging_palette(220, 10, as_cmap=True)\n",
    "\n",
    "    # Draw the heatmap with the mask and correct aspect ratio\n",
    "    sns.heatmap(corr, mask=mask, cmap=cmap, vmax=1, vmin=-1, center=0,\n",
    "                square=True, linewidths=.75, annot=False, cbar_kws={\"shrink\": .75});\n",
    "    \n",
    "corr_chart(hello)"
   ]
  },
  {
   "cell_type": "markdown",
   "metadata": {},
   "source": [
    "## Train / Test / Split"
   ]
  },
  {
   "cell_type": "code",
   "execution_count": 1853,
   "metadata": {},
   "outputs": [],
   "source": [
    "def cv_split(df):\n",
    "    \n",
    "    features = dfx.drop([target], axis=1)[days_fwd:]\n",
    "    y = dfx[target][days_fwd:]\n",
    "    \n",
    "    return features, y\n",
    "\n",
    "cv_features, cv_y = cv_split(hello)"
   ]
  },
  {
   "cell_type": "code",
   "execution_count": 1854,
   "metadata": {},
   "outputs": [
    {
     "name": "stdout",
     "output_type": "stream",
     "text": [
      "Train set:  694\n",
      "Test set:  160\n"
     ]
    }
   ],
   "source": [
    "def train_test_split(df):\n",
    "    \n",
    "    # Separate Target & Features\n",
    "    y = df[target]\n",
    "    features = df.drop([target], axis=1)\n",
    "    \n",
    "    # Test / Train / Split\n",
    "    train_date_start = '2017-01-01'\n",
    "    train_date_end = '2018-12-31'\n",
    "    \n",
    "    X_train = features[pd.to_datetime(train_date_start) + pd.DateOffset(days_fwd):train_date_end]\n",
    "    X_test = features[pd.to_datetime(train_date_end) + pd.DateOffset(1): ]\n",
    "    \n",
    "    y_train = y[pd.to_datetime(train_date_start) + pd.DateOffset(days_fwd):train_date_end]\n",
    "    y_test = y[pd.to_datetime(train_date_end) + pd.DateOffset(1): ]\n",
    "    \n",
    "    X_train = pd.DataFrame(X_train, columns=X_train.columns)\n",
    "    X_test = pd.DataFrame(X_test, columns=X_train.columns)\n",
    "    \n",
    "    print('Train set: ', len(X_train))\n",
    "    print('Test set: ', len(X_test))\n",
    "    \n",
    "    return X_train, X_test, y_train, y_test\n",
    "    \n",
    "X_train, X_test, y_train, y_test = train_test_split(hello)"
   ]
  },
  {
   "cell_type": "markdown",
   "metadata": {},
   "source": [
    "## Linear Regression with Lasso Regularization"
   ]
  },
  {
   "cell_type": "code",
   "execution_count": 1855,
   "metadata": {},
   "outputs": [],
   "source": [
    "# Linear Regression - Lasso Model Set Up\n",
    "def lasso_model(X_train, y_train):\n",
    "\n",
    "    lassoReg = Lasso(fit_intercept=True, alpha=.025)\n",
    "    lasso_rgr = lassoReg.fit(X_train,y_train)\n",
    "\n",
    "    return lasso_rgr"
   ]
  },
  {
   "cell_type": "code",
   "execution_count": 1856,
   "metadata": {},
   "outputs": [],
   "source": [
    "# Run Model on Training Data\n",
    "lasso_rgr = lasso_model(X_train, y_train)"
   ]
  },
  {
   "cell_type": "code",
   "execution_count": 1857,
   "metadata": {},
   "outputs": [],
   "source": [
    "def rgr_score(rgr, X_train, y_train, X_test, y_test, cv_features, cv_y):\n",
    "    \n",
    "    y_hat = rgr.predict(X_test)\n",
    "    sum_squares_residual = sum((y_test - y_hat)**2)\n",
    "    sum_squares_total = sum((y_test - np.mean(y_test))**2)\n",
    "    r_squared = 1 - (float(sum_squares_residual))/sum_squares_total\n",
    "    adjusted_r_squared = 1 - (1-r_squared)*(len(y_test)-1)/(len(y_test)-X_test.shape[1]-1)\n",
    "    print('Formula Scores:', '\\n', 'Test R-Squared: ', r_squared,'\\n', 'Test Adjusted R-Squared: ', adjusted_r_squared, '\\n')\n",
    "    \n",
    "    train_score = rgr.score(X_train, y_train)\n",
    "    test_score = rgr.score(X_test, y_test)\n",
    "    \n",
    "    y_pred = rgr.predict(X_test)\n",
    "    rmse = np.sqrt(mean_squared_error(y_test, y_pred))\n",
    "    \n",
    "    pred_df = pd.DataFrame(y_pred, index=y_test.index)\n",
    "    pred_df = pred_df.rename(columns={0: target})\n",
    "    \n",
    "    print('Train R-Squared:  ', train_score)\n",
    "    print('Test R-Squared:  ', test_score, '\\n')\n",
    "    \n",
    "    print('Root Mean Squared Error: ', rmse, '\\n')\n",
    "    \n",
    "    print('Cross Val Avg R-Squared: ',  \\\n",
    "          np.mean(cross_val_score(rgr, cv_features, cv_y, cv=5, scoring='r2')), '\\n')\n",
    "    \n",
    "    print('Intercept:  ', rgr.intercept_, '\\n')\n",
    "    print('Coefficients:  \\n')\n",
    "    \n",
    "    for index, col_name in enumerate(X_test.columns):\n",
    "        print(col_name, ' --> ', rgr.coef_[index])\n",
    "        \n",
    "    return pred_df"
   ]
  },
  {
   "cell_type": "code",
   "execution_count": 1858,
   "metadata": {},
   "outputs": [
    {
     "name": "stdout",
     "output_type": "stream",
     "text": [
      "Formula Scores: \n",
      " Test R-Squared:  0.8308684505446343 \n",
      " Test Adjusted R-Squared:  0.7978051401247884 \n",
      "\n",
      "Train R-Squared:   0.7988621464027542\n",
      "Test R-Squared:   0.8308684505446344 \n",
      "\n",
      "Root Mean Squared Error:  1265.3362943848554 \n",
      "\n",
      "Cross Val Avg R-Squared:  0.7594564515730523 \n",
      "\n",
      "Intercept:   -3063.9213305592275 \n",
      "\n",
      "Coefficients:  \n",
      "\n",
      "humidity  -->  -1628.1033005100655\n",
      "precip_prob  -->  -109.7410012052929\n",
      "pressure  -->  9.611548614683539\n",
      "closed  -->  -14432.886549992932\n",
      "sunday_three_day  -->  1417.2495775624927\n",
      "day_of_week_1  -->  -27.330411497129834\n",
      "day_of_week_2  -->  480.5878255665503\n",
      "day_of_week_3  -->  1140.1668880413843\n",
      "day_of_week_4  -->  2622.5362933856727\n",
      "day_of_week_5  -->  3744.3567987337597\n",
      "day_of_week_6  -->  1081.6285526974389\n",
      "month_cluster_0  -->  735.6867542835317\n",
      "month_cluster_1  -->  395.91087857752825\n",
      "month_cluster_2  -->  -327.79029945653485\n",
      "month_cluster_3  -->  -45.706733707045004\n",
      "target_trend  -->  7524.422587028093\n",
      "temp_very_cold  -->  88.12797244339549\n",
      "temp_cold  -->  318.1106017198787\n",
      "temp_warm  -->  453.9987768890046\n",
      "temp_hot  -->  -243.33855777663982\n",
      "precip_while_open  -->  165.71755722649596\n",
      "outside_X_precip_open  -->  -777.7711334370107\n",
      "temp_very_cold_X_outside  -->  0.0\n",
      "temp_cold_X_outside  -->  1490.559862158329\n",
      "temp_warm_X_outside  -->  2166.884580780082\n",
      "temp_hot_X_outside  -->  3862.9349399520756\n"
     ]
    }
   ],
   "source": [
    "pred_df_rgr = rgr_score(lasso_rgr, X_train, y_train, X_test, y_test, cv_features, cv_y)"
   ]
  },
  {
   "cell_type": "markdown",
   "metadata": {},
   "source": [
    "## XGB Regressor"
   ]
  },
  {
   "cell_type": "code",
   "execution_count": 661,
   "metadata": {},
   "outputs": [],
   "source": [
    "params = {\n",
    "          'learning_rate': [0.015, 0.020, 0.025],\n",
    "          'max_depth': [3, 4, 5],\n",
    "          'min_impurity_decrease': [0.0001, 0.0025, 0.005],\n",
    "          'colsample_bytree': [0.75, 0.85, 0.95],\n",
    "          'n_estimators': [250, 275, 300],\n",
    "          'min_child_weight': [1, 2]\n",
    "        }\n",
    "\n",
    "# Grid Search Helper Function\n",
    "def xgb_grid_model(params, X_train, y_train):\n",
    "    \n",
    "    objective = 'reg:linear'\n",
    "    booster = 'gbtree'\n",
    "    \n",
    "    rgr = XGBRegressor(booster=booster, objective=objective, random_state = 0)\n",
    "    \n",
    "    cv = 5\n",
    "    n_jobs = -1\n",
    "    scoring = 'neg_mean_squared_error'\n",
    "    \n",
    "    grid = GridSearchCV(rgr, params, cv=cv, n_jobs=n_jobs, scoring=scoring, verbose=5)\n",
    "    grid = grid.fit(X_train, y_train)\n",
    "    \n",
    "    best_grid_rgr = grid.best_estimator_\n",
    "    \n",
    "    print('Grid Search: ', rgr.__class__.__name__, '\\n')\n",
    "    print('Grid Search Best Score: ', grid.best_score_)\n",
    "    print('Grid Search Best Params: ', grid.best_params_)\n",
    "    print('Grid Search Best Estimator: ', grid.best_estimator_)\n",
    "\n",
    "    xgb_rgr = best_grid_rgr.fit(X_train, y_train)\n",
    "    \n",
    "    return best_grid_rgr"
   ]
  },
  {
   "cell_type": "code",
   "execution_count": 662,
   "metadata": {},
   "outputs": [
    {
     "name": "stdout",
     "output_type": "stream",
     "text": [
      "Fitting 5 folds for each of 486 candidates, totalling 2430 fits\n"
     ]
    },
    {
     "name": "stderr",
     "output_type": "stream",
     "text": [
      "[Parallel(n_jobs=-1)]: Using backend LokyBackend with 4 concurrent workers.\n",
      "[Parallel(n_jobs=-1)]: Done  10 tasks      | elapsed:    1.5s\n",
      "[Parallel(n_jobs=-1)]: Done  64 tasks      | elapsed:    7.9s\n",
      "[Parallel(n_jobs=-1)]: Done 154 tasks      | elapsed:   27.0s\n",
      "[Parallel(n_jobs=-1)]: Done 280 tasks      | elapsed:   56.3s\n",
      "[Parallel(n_jobs=-1)]: Done 442 tasks      | elapsed:  1.5min\n",
      "[Parallel(n_jobs=-1)]: Done 640 tasks      | elapsed:  2.2min\n",
      "[Parallel(n_jobs=-1)]: Done 874 tasks      | elapsed:  2.9min\n",
      "[Parallel(n_jobs=-1)]: Done 1144 tasks      | elapsed:  3.7min\n",
      "[Parallel(n_jobs=-1)]: Done 1450 tasks      | elapsed:  4.6min\n",
      "[Parallel(n_jobs=-1)]: Done 1792 tasks      | elapsed:  5.9min\n",
      "[Parallel(n_jobs=-1)]: Done 2170 tasks      | elapsed:  7.4min\n",
      "[Parallel(n_jobs=-1)]: Done 2430 out of 2430 | elapsed:  8.3min finished\n"
     ]
    },
    {
     "name": "stdout",
     "output_type": "stream",
     "text": [
      "Grid Search:  XGBRegressor \n",
      "\n",
      "Grid Search Best Score:  -2656713.758384412\n",
      "Grid Search Best Params:  {'colsample_bytree': 0.95, 'learning_rate': 0.025, 'max_depth': 3, 'min_child_weight': 2, 'min_impurity_decrease': 0.0001, 'n_estimators': 275}\n",
      "Grid Search Best Estimator:  XGBRegressor(base_score=0.5, booster='gbtree', colsample_bylevel=1,\n",
      "       colsample_bytree=0.95, gamma=0, importance_type='gain',\n",
      "       learning_rate=0.025, max_delta_step=0, max_depth=3,\n",
      "       min_child_weight=2, min_impurity_decrease=0.0001, missing=None,\n",
      "       n_estimators=275, n_jobs=1, nthread=None, objective='reg:linear',\n",
      "       random_state=0, reg_alpha=0, reg_lambda=1, scale_pos_weight=1,\n",
      "       seed=None, silent=True, subsample=1)\n"
     ]
    }
   ],
   "source": [
    "best_grid_rgr = xgb_grid_model(params, X_train, y_train)"
   ]
  },
  {
   "cell_type": "code",
   "execution_count": 663,
   "metadata": {},
   "outputs": [
    {
     "name": "stdout",
     "output_type": "stream",
     "text": [
      "Formula Scores: \n",
      " Test R-Squared:  0.8423852047758524 \n",
      " Test Adjusted R-Squared:  0.8129794593982129 \n",
      "\n",
      "Sklearn Metric Scores:\n",
      "Train R-Squared:   0.8322070245560084\n",
      "Test R-Squared:   0.8423852047758524 \n",
      "\n",
      "Root Mean Squared Error:  1221.4962628661651 \n",
      "\n",
      "Cross Val Avg R-Squared:  0.7643099620071109 \n",
      "\n"
     ]
    }
   ],
   "source": [
    "def tree_score(rgr, X_test, y_test, cv_features, cv_y):\n",
    "    \n",
    "    y_hat = rgr.predict(X_test)\n",
    "    sum_squares_residual = sum((y_test - y_hat)**2)\n",
    "    sum_squares_total = sum((y_test - np.mean(y_test))**2)\n",
    "    r_squared = 1 - (float(sum_squares_residual))/sum_squares_total\n",
    "    adjusted_r_squared = 1 - (1-r_squared)*(len(y_test)-1)/(len(y_test)-X_test.shape[1]-1)\n",
    "    print('Formula Scores:', '\\n', 'Test R-Squared: ', r_squared,'\\n', 'Test Adjusted R-Squared: ', adjusted_r_squared, '\\n')\n",
    "    \n",
    "    print('Sklearn Metric Scores:')\n",
    "    train_score = rgr.score(X_train, y_train)\n",
    "    test_score = rgr.score(X_test, y_test)\n",
    "    \n",
    "    y_pred = rgr.predict(X_test)\n",
    "    rmse = np.sqrt(mean_squared_error(y_test, y_pred))\n",
    "    \n",
    "    pred_df = pd.DataFrame(y_pred, index=y_test.index)\n",
    "    pred_df = pred_df.rename(columns={0: 'pred_'+target})\n",
    "    \n",
    "    print('Train R-Squared:  ', train_score)\n",
    "    print('Test R-Squared:  ', test_score, '\\n')\n",
    "    \n",
    "    print('Root Mean Squared Error: ', rmse, '\\n')\n",
    "    \n",
    "    print('Cross Val Avg R-Squared: ',  \\\n",
    "          np.mean(cross_val_score(rgr, cv_features, cv_y, cv=5, scoring='r2')), '\\n')\n",
    "        \n",
    "    return pred_df\n",
    "\n",
    "pred_df = tree_score(best_grid_rgr, X_test, y_test, cv_features, cv_y) "
   ]
  },
  {
   "cell_type": "markdown",
   "metadata": {},
   "source": [
    "### RESIDUAL PLOT"
   ]
  },
  {
   "cell_type": "code",
   "execution_count": 664,
   "metadata": {},
   "outputs": [
    {
     "data": {
      "image/png": "[encoded data removed]",
      "text/plain": [
       "<Figure size 864x576 with 1 Axes>"
      ]
     },
     "metadata": {},
     "output_type": "display_data"
    }
   ],
   "source": [
    "plt.figure(figsize=(12,8))\n",
    "\n",
    "visualizer = ResidualsPlot(xgb_rgr, hist=False)\n",
    "\n",
    "visualizer.fit(X_train, y_train)\n",
    "visualizer.score(X_test, y_test)\n",
    "visualizer.poof();"
   ]
  },
  {
   "cell_type": "markdown",
   "metadata": {},
   "source": [
    "### Checking Residuals"
   ]
  },
  {
   "cell_type": "code",
   "execution_count": 1467,
   "metadata": {},
   "outputs": [
    {
     "data": {
      "text/html": [
       "<div>\n",
       "<style scoped>\n",
       "    .dataframe tbody tr th:only-of-type {\n",
       "        vertical-align: middle;\n",
       "    }\n",
       "\n",
       "    .dataframe tbody tr th {\n",
       "        vertical-align: top;\n",
       "    }\n",
       "\n",
       "    .dataframe thead th {\n",
       "        text-align: right;\n",
       "    }\n",
       "</style>\n",
       "<table border=\"1\" class=\"dataframe\">\n",
       "  <thead>\n",
       "    <tr style=\"text-align: right;\">\n",
       "      <th></th>\n",
       "      <th>pred_sales</th>\n",
       "      <th>sales</th>\n",
       "      <th>diff</th>\n",
       "    </tr>\n",
       "    <tr>\n",
       "      <th>date</th>\n",
       "      <th></th>\n",
       "      <th></th>\n",
       "      <th></th>\n",
       "    </tr>\n",
       "  </thead>\n",
       "  <tbody>\n",
       "    <tr>\n",
       "      <th>2019-01-08</th>\n",
       "      <td>13417.199219</td>\n",
       "      <td>10811.32</td>\n",
       "      <td>2605.879219</td>\n",
       "    </tr>\n",
       "    <tr>\n",
       "      <th>2019-02-04</th>\n",
       "      <td>14220.367188</td>\n",
       "      <td>11976.75</td>\n",
       "      <td>2243.617188</td>\n",
       "    </tr>\n",
       "    <tr>\n",
       "      <th>2019-02-08</th>\n",
       "      <td>16915.363281</td>\n",
       "      <td>14796.74</td>\n",
       "      <td>2118.623281</td>\n",
       "    </tr>\n",
       "    <tr>\n",
       "      <th>2019-03-13</th>\n",
       "      <td>13874.749023</td>\n",
       "      <td>16744.55</td>\n",
       "      <td>-2869.800977</td>\n",
       "    </tr>\n",
       "    <tr>\n",
       "      <th>2019-04-06</th>\n",
       "      <td>17555.578125</td>\n",
       "      <td>19636.70</td>\n",
       "      <td>-2081.121875</td>\n",
       "    </tr>\n",
       "    <tr>\n",
       "      <th>2019-04-14</th>\n",
       "      <td>16276.001953</td>\n",
       "      <td>19197.14</td>\n",
       "      <td>-2921.138047</td>\n",
       "    </tr>\n",
       "    <tr>\n",
       "      <th>2019-04-18</th>\n",
       "      <td>16538.603516</td>\n",
       "      <td>18789.73</td>\n",
       "      <td>-2251.126484</td>\n",
       "    </tr>\n",
       "    <tr>\n",
       "      <th>2019-05-08</th>\n",
       "      <td>16816.607422</td>\n",
       "      <td>13849.69</td>\n",
       "      <td>2966.917422</td>\n",
       "    </tr>\n",
       "    <tr>\n",
       "      <th>2019-05-12</th>\n",
       "      <td>14882.189453</td>\n",
       "      <td>12262.59</td>\n",
       "      <td>2619.599453</td>\n",
       "    </tr>\n",
       "    <tr>\n",
       "      <th>2019-05-17</th>\n",
       "      <td>19270.189453</td>\n",
       "      <td>21350.49</td>\n",
       "      <td>-2080.300547</td>\n",
       "    </tr>\n",
       "    <tr>\n",
       "      <th>2019-05-18</th>\n",
       "      <td>20092.806641</td>\n",
       "      <td>24635.40</td>\n",
       "      <td>-4542.593359</td>\n",
       "    </tr>\n",
       "    <tr>\n",
       "      <th>2019-05-21</th>\n",
       "      <td>18275.556641</td>\n",
       "      <td>20307.91</td>\n",
       "      <td>-2032.353359</td>\n",
       "    </tr>\n",
       "    <tr>\n",
       "      <th>2019-05-26</th>\n",
       "      <td>18787.117188</td>\n",
       "      <td>20863.74</td>\n",
       "      <td>-2076.622813</td>\n",
       "    </tr>\n",
       "    <tr>\n",
       "      <th>2019-05-28</th>\n",
       "      <td>16875.630859</td>\n",
       "      <td>13647.99</td>\n",
       "      <td>3227.640859</td>\n",
       "    </tr>\n",
       "    <tr>\n",
       "      <th>2019-06-01</th>\n",
       "      <td>21033.111328</td>\n",
       "      <td>19019.56</td>\n",
       "      <td>2013.551328</td>\n",
       "    </tr>\n",
       "    <tr>\n",
       "      <th>2019-06-05</th>\n",
       "      <td>17739.351562</td>\n",
       "      <td>15613.58</td>\n",
       "      <td>2125.771563</td>\n",
       "    </tr>\n",
       "  </tbody>\n",
       "</table>\n",
       "</div>"
      ],
      "text/plain": [
       "              pred_sales     sales         diff\n",
       "date                                           \n",
       "2019-01-08  13417.199219  10811.32  2605.879219\n",
       "2019-02-04  14220.367188  11976.75  2243.617188\n",
       "2019-02-08  16915.363281  14796.74  2118.623281\n",
       "2019-03-13  13874.749023  16744.55 -2869.800977\n",
       "2019-04-06  17555.578125  19636.70 -2081.121875\n",
       "2019-04-14  16276.001953  19197.14 -2921.138047\n",
       "2019-04-18  16538.603516  18789.73 -2251.126484\n",
       "2019-05-08  16816.607422  13849.69  2966.917422\n",
       "2019-05-12  14882.189453  12262.59  2619.599453\n",
       "2019-05-17  19270.189453  21350.49 -2080.300547\n",
       "2019-05-18  20092.806641  24635.40 -4542.593359\n",
       "2019-05-21  18275.556641  20307.91 -2032.353359\n",
       "2019-05-26  18787.117188  20863.74 -2076.622813\n",
       "2019-05-28  16875.630859  13647.99  3227.640859\n",
       "2019-06-01  21033.111328  19019.56  2013.551328\n",
       "2019-06-05  17739.351562  15613.58  2125.771563"
      ]
     },
     "execution_count": 1467,
     "metadata": {},
     "output_type": "execute_result"
    }
   ],
   "source": [
    "res_df = pd.concat([pred_df, y_test], axis=1)\n",
    "res_df['diff'] = res_df.pred_sales - res_df.sales\n",
    "res_df[np.abs(res_df['diff']) > 2000]"
   ]
  },
  {
   "cell_type": "markdown",
   "metadata": {},
   "source": [
    "### Feature Importance"
   ]
  },
  {
   "cell_type": "code",
   "execution_count": 643,
   "metadata": {},
   "outputs": [
    {
     "data": {
      "image/png": "[encoded data removed]",
      "text/plain": [
       "<Figure size 864x576 with 1 Axes>"
      ]
     },
     "metadata": {},
     "output_type": "display_data"
    }
   ],
   "source": [
    "features = list(X_train.columns)\n",
    "\n",
    "fig = plt.figure(figsize=(12,8))\n",
    "ax = fig.add_subplot()\n",
    "\n",
    "labels = list(map(lambda x: x.title(), features))\n",
    "visualizer = FeatureImportances(xgb_rgr, ax=ax, labels=labels, relative=False)\n",
    "\n",
    "visualizer.fit(X_train, y_train)\n",
    "visualizer.poof();"
   ]
  },
  {
   "cell_type": "markdown",
   "metadata": {},
   "source": [
    "### Run Final Model on Entire Dataset"
   ]
  },
  {
   "cell_type": "code",
   "execution_count": 409,
   "metadata": {},
   "outputs": [],
   "source": [
    "# Run Model on All Data\n",
    "xgb_rgr_finalized = xgb_model(cv_features, cv_y)"
   ]
  },
  {
   "cell_type": "code",
   "execution_count": 220,
   "metadata": {},
   "outputs": [
    {
     "name": "stdout",
     "output_type": "stream",
     "text": [
      "Formula Scores: \n",
      " Test R-Squared:  0.8592607274806568 \n",
      " Test Adjusted R-Squared:  0.8548784267794558 \n",
      "\n",
      "Sklearn Metric Scores:\n",
      "Train R-Squared:   0.8511926118803055\n",
      "Test R-Squared:   0.8592607274806568 \n",
      "\n",
      "Root Mean Squared Error:  1268.816520214201 \n",
      "\n",
      "Cross Val Avg R-Squared:  0.7404323741292844 \n",
      "\n"
     ]
    }
   ],
   "source": [
    "# Score Finalized Model on Entire Dataset\n",
    "pred_all = tree_score(xgb_rgr_finalized, cv_features, cv_y, cv_features, cv_y)"
   ]
  },
  {
   "cell_type": "markdown",
   "metadata": {},
   "source": [
    "## Evaluation - Actual Sales vs. Predicted (On Test Set)"
   ]
  },
  {
   "cell_type": "code",
   "execution_count": 221,
   "metadata": {},
   "outputs": [],
   "source": [
    "eval_df = pred_df.merge(data, on='date', how='inner')"
   ]
  },
  {
   "cell_type": "code",
   "execution_count": 222,
   "metadata": {},
   "outputs": [
    {
     "data": {
      "text/html": [
       "<div>\n",
       "<style scoped>\n",
       "    .dataframe tbody tr th:only-of-type {\n",
       "        vertical-align: middle;\n",
       "    }\n",
       "\n",
       "    .dataframe tbody tr th {\n",
       "        vertical-align: top;\n",
       "    }\n",
       "\n",
       "    .dataframe thead th {\n",
       "        text-align: right;\n",
       "    }\n",
       "</style>\n",
       "<table border=\"1\" class=\"dataframe\">\n",
       "  <thead>\n",
       "    <tr style=\"text-align: right;\">\n",
       "      <th></th>\n",
       "      <th>count</th>\n",
       "      <th>mean</th>\n",
       "      <th>std</th>\n",
       "      <th>min</th>\n",
       "      <th>25%</th>\n",
       "      <th>50%</th>\n",
       "      <th>75%</th>\n",
       "      <th>max</th>\n",
       "    </tr>\n",
       "    <tr>\n",
       "      <th>day_of_week</th>\n",
       "      <th></th>\n",
       "      <th></th>\n",
       "      <th></th>\n",
       "      <th></th>\n",
       "      <th></th>\n",
       "      <th></th>\n",
       "      <th></th>\n",
       "      <th></th>\n",
       "    </tr>\n",
       "  </thead>\n",
       "  <tbody>\n",
       "    <tr>\n",
       "      <th>0</th>\n",
       "      <td>24.0</td>\n",
       "      <td>941.439290</td>\n",
       "      <td>650.865260</td>\n",
       "      <td>16.013672</td>\n",
       "      <td>452.930176</td>\n",
       "      <td>764.629375</td>\n",
       "      <td>1450.209473</td>\n",
       "      <td>2116.075781</td>\n",
       "    </tr>\n",
       "    <tr>\n",
       "      <th>1</th>\n",
       "      <td>25.0</td>\n",
       "      <td>887.631829</td>\n",
       "      <td>875.796160</td>\n",
       "      <td>45.201992</td>\n",
       "      <td>289.531719</td>\n",
       "      <td>486.794258</td>\n",
       "      <td>1340.586953</td>\n",
       "      <td>3168.585781</td>\n",
       "    </tr>\n",
       "    <tr>\n",
       "      <th>2</th>\n",
       "      <td>24.0</td>\n",
       "      <td>1279.948621</td>\n",
       "      <td>985.795601</td>\n",
       "      <td>72.950156</td>\n",
       "      <td>579.840850</td>\n",
       "      <td>933.702480</td>\n",
       "      <td>1934.534902</td>\n",
       "      <td>3638.452578</td>\n",
       "    </tr>\n",
       "    <tr>\n",
       "      <th>3</th>\n",
       "      <td>24.0</td>\n",
       "      <td>677.832498</td>\n",
       "      <td>654.544333</td>\n",
       "      <td>13.209883</td>\n",
       "      <td>296.457510</td>\n",
       "      <td>494.131563</td>\n",
       "      <td>789.974854</td>\n",
       "      <td>2605.995352</td>\n",
       "    </tr>\n",
       "    <tr>\n",
       "      <th>4</th>\n",
       "      <td>24.0</td>\n",
       "      <td>1032.701364</td>\n",
       "      <td>834.724620</td>\n",
       "      <td>105.086680</td>\n",
       "      <td>485.986631</td>\n",
       "      <td>795.715820</td>\n",
       "      <td>1405.455342</td>\n",
       "      <td>3844.305625</td>\n",
       "    </tr>\n",
       "    <tr>\n",
       "      <th>5</th>\n",
       "      <td>24.0</td>\n",
       "      <td>1077.353691</td>\n",
       "      <td>781.869805</td>\n",
       "      <td>15.421094</td>\n",
       "      <td>538.277441</td>\n",
       "      <td>889.433867</td>\n",
       "      <td>1452.970469</td>\n",
       "      <td>3173.118750</td>\n",
       "    </tr>\n",
       "    <tr>\n",
       "      <th>6</th>\n",
       "      <td>24.0</td>\n",
       "      <td>940.788504</td>\n",
       "      <td>983.549372</td>\n",
       "      <td>18.710000</td>\n",
       "      <td>186.802178</td>\n",
       "      <td>499.007988</td>\n",
       "      <td>1763.891191</td>\n",
       "      <td>2994.484141</td>\n",
       "    </tr>\n",
       "  </tbody>\n",
       "</table>\n",
       "</div>"
      ],
      "text/plain": [
       "             count         mean         std         min         25%  \\\n",
       "day_of_week                                                           \n",
       "0             24.0   941.439290  650.865260   16.013672  452.930176   \n",
       "1             25.0   887.631829  875.796160   45.201992  289.531719   \n",
       "2             24.0  1279.948621  985.795601   72.950156  579.840850   \n",
       "3             24.0   677.832498  654.544333   13.209883  296.457510   \n",
       "4             24.0  1032.701364  834.724620  105.086680  485.986631   \n",
       "5             24.0  1077.353691  781.869805   15.421094  538.277441   \n",
       "6             24.0   940.788504  983.549372   18.710000  186.802178   \n",
       "\n",
       "                    50%          75%          max  \n",
       "day_of_week                                        \n",
       "0            764.629375  1450.209473  2116.075781  \n",
       "1            486.794258  1340.586953  3168.585781  \n",
       "2            933.702480  1934.534902  3638.452578  \n",
       "3            494.131563   789.974854  2605.995352  \n",
       "4            795.715820  1405.455342  3844.305625  \n",
       "5            889.433867  1452.970469  3173.118750  \n",
       "6            499.007988  1763.891191  2994.484141  "
      ]
     },
     "execution_count": 222,
     "metadata": {},
     "output_type": "execute_result"
    }
   ],
   "source": [
    "eval_df['absolute_error%'] = np.where(eval_df['sales'] > 0, np.abs(eval_df['sales'] - eval_df['pred_sales']) / eval_df['sales'], 0)\n",
    "eval_df['absolute_error'] = np.abs(eval_df['sales'] - eval_df['pred_sales'])\n",
    "eval_df['squared_error'] = ((eval_df['sales'] - eval_df['pred_sales'])**2)\n",
    "\n",
    "eval_df.groupby('day_of_week')['absolute_error'].describe()"
   ]
  },
  {
   "cell_type": "code",
   "execution_count": 223,
   "metadata": {},
   "outputs": [
    {
     "data": {
      "text/plain": [
       "976.2859822759682"
      ]
     },
     "execution_count": 223,
     "metadata": {},
     "output_type": "execute_result"
    }
   ],
   "source": [
    "eval_df['absolute_error'].sum() / len(eval_df['absolute_error'])"
   ]
  },
  {
   "cell_type": "code",
   "execution_count": 224,
   "metadata": {},
   "outputs": [
    {
     "data": {
      "text/plain": [
       "0.06068482090177032"
      ]
     },
     "execution_count": 224,
     "metadata": {},
     "output_type": "execute_result"
    }
   ],
   "source": [
    "eval_df['absolute_error%'].mean()"
   ]
  },
  {
   "cell_type": "markdown",
   "metadata": {},
   "source": [
    "## Predictions"
   ]
  },
  {
   "cell_type": "code",
   "execution_count": 1487,
   "metadata": {},
   "outputs": [],
   "source": [
    "outside = 0\n",
    "\n",
    "def predict_one(rgr, current_df, end_date):\n",
    "    \n",
    "    date_1 = pd.to_datetime(end_date) + pd.DateOffset(-days_fwd)\n",
    "    date_2 = end_date\n",
    "     \n",
    "    # Pull Weather Data / Forecast\n",
    "    weather_df = rest_weather.weather_df(date_1, date_2)\n",
    "    weather_df['outside'] = outside\n",
    "    \n",
    "    # One Hot Encode Temperature Using Fitted Encoder\n",
    "    df, _ = one_hot_temp(weather_df, temp_enc)\n",
    "    \n",
    "    df['closed'] = 0\n",
    "\n",
    "    # Add Sales Data for Sales Trend Engineering\n",
    "    current_df = current_df[target]\n",
    "    df = pd.merge(df, current_df, on='date', how='left')\n",
    "     \n",
    "    # Add Feature Engineering\n",
    "    df = (df.pipe(add_clusters)\n",
    "    .pipe(add_weather_features)\n",
    "    .pipe(add_cal_features)\n",
    "    .pipe(add_dummies)\n",
    "    .pipe(add_interactions)\n",
    "    .pipe(add_weather_interactions)\n",
    "    .pipe(feature_selection)\n",
    "    .pipe(target_trend_engineering))\n",
    "    \n",
    "    #df = target_trend_engineering(df)\n",
    "    df = df.drop([target], axis=1)\n",
    "    \n",
    "    # Ensure Column Parity\n",
    "    missing_cols = set(X_train.columns) - set(df.columns)\n",
    "    \n",
    "    for c in missing_cols:\n",
    "        df[c] = 0\n",
    "        \n",
    "    df = df[X_train.columns][-1:]\n",
    "    \n",
    "    # Predict and Build Prediction DataFrame for Review\n",
    "    pred_array = pd.DataFrame(rgr.predict(df), index=df.index, columns=[target])\n",
    "    pred_df = pred_array.merge(df, on='date', how='left')\n",
    "    \n",
    "    return pred_df"
   ]
  },
  {
   "cell_type": "code",
   "execution_count": 1488,
   "metadata": {},
   "outputs": [
    {
     "name": "stdout",
     "output_type": "stream",
     "text": [
      "2019-05-05 00:00:00 2019-06-10\n",
      "37\n"
     ]
    },
    {
     "data": {
      "text/html": [
       "<div>\n",
       "<style scoped>\n",
       "    .dataframe tbody tr th:only-of-type {\n",
       "        vertical-align: middle;\n",
       "    }\n",
       "\n",
       "    .dataframe tbody tr th {\n",
       "        vertical-align: top;\n",
       "    }\n",
       "\n",
       "    .dataframe thead th {\n",
       "        text-align: right;\n",
       "    }\n",
       "</style>\n",
       "<table border=\"1\" class=\"dataframe\">\n",
       "  <thead>\n",
       "    <tr style=\"text-align: right;\">\n",
       "      <th></th>\n",
       "      <th>sales</th>\n",
       "      <th>humidity</th>\n",
       "      <th>precip_prob</th>\n",
       "      <th>closed</th>\n",
       "      <th>temp_very_cold</th>\n",
       "      <th>temp_cold</th>\n",
       "      <th>temp_warm</th>\n",
       "      <th>temp_hot</th>\n",
       "      <th>precip_while_open</th>\n",
       "      <th>sunday_three_day</th>\n",
       "      <th>...</th>\n",
       "      <th>month_cluster_0</th>\n",
       "      <th>month_cluster_1</th>\n",
       "      <th>month_cluster_2</th>\n",
       "      <th>month_cluster_3</th>\n",
       "      <th>outside_X_precip_open</th>\n",
       "      <th>temp_very_cold_X_outside</th>\n",
       "      <th>temp_cold_X_outside</th>\n",
       "      <th>temp_warm_X_outside</th>\n",
       "      <th>temp_hot_X_outside</th>\n",
       "      <th>target_trend</th>\n",
       "    </tr>\n",
       "    <tr>\n",
       "      <th>date</th>\n",
       "      <th></th>\n",
       "      <th></th>\n",
       "      <th></th>\n",
       "      <th></th>\n",
       "      <th></th>\n",
       "      <th></th>\n",
       "      <th></th>\n",
       "      <th></th>\n",
       "      <th></th>\n",
       "      <th></th>\n",
       "      <th></th>\n",
       "      <th></th>\n",
       "      <th></th>\n",
       "      <th></th>\n",
       "      <th></th>\n",
       "      <th></th>\n",
       "      <th></th>\n",
       "      <th></th>\n",
       "      <th></th>\n",
       "      <th></th>\n",
       "      <th></th>\n",
       "    </tr>\n",
       "  </thead>\n",
       "  <tbody>\n",
       "    <tr>\n",
       "      <th>2019-06-10</th>\n",
       "      <td>14604.677734</td>\n",
       "      <td>0.98</td>\n",
       "      <td>0.0</td>\n",
       "      <td>0</td>\n",
       "      <td>0.0</td>\n",
       "      <td>0.0</td>\n",
       "      <td>1.0</td>\n",
       "      <td>0.0</td>\n",
       "      <td>0</td>\n",
       "      <td>0</td>\n",
       "      <td>...</td>\n",
       "      <td>1</td>\n",
       "      <td>0</td>\n",
       "      <td>0</td>\n",
       "      <td>0</td>\n",
       "      <td>0</td>\n",
       "      <td>0.0</td>\n",
       "      <td>0.0</td>\n",
       "      <td>0.0</td>\n",
       "      <td>0.0</td>\n",
       "      <td>1.044396</td>\n",
       "    </tr>\n",
       "  </tbody>\n",
       "</table>\n",
       "<p>1 rows × 26 columns</p>\n",
       "</div>"
      ],
      "text/plain": [
       "                   sales  humidity  precip_prob  closed  temp_very_cold  \\\n",
       "date                                                                      \n",
       "2019-06-10  14604.677734      0.98          0.0       0             0.0   \n",
       "\n",
       "            temp_cold  temp_warm  temp_hot  precip_while_open  \\\n",
       "date                                                            \n",
       "2019-06-10        0.0        1.0       0.0                  0   \n",
       "\n",
       "            sunday_three_day  ...  month_cluster_0  month_cluster_1  \\\n",
       "date                          ...                                     \n",
       "2019-06-10                 0  ...                1                0   \n",
       "\n",
       "            month_cluster_2  month_cluster_3  outside_X_precip_open  \\\n",
       "date                                                                  \n",
       "2019-06-10                0                0                      0   \n",
       "\n",
       "            temp_very_cold_X_outside  temp_cold_X_outside  \\\n",
       "date                                                        \n",
       "2019-06-10                       0.0                  0.0   \n",
       "\n",
       "            temp_warm_X_outside  temp_hot_X_outside  target_trend  \n",
       "date                                                               \n",
       "2019-06-10                  0.0                 0.0      1.044396  \n",
       "\n",
       "[1 rows x 26 columns]"
      ]
     },
     "execution_count": 1488,
     "metadata": {},
     "output_type": "execute_result"
    }
   ],
   "source": [
    "predict_date = '2019-06-10'\n",
    "\n",
    "tonight = predict_one(best_grid_rgr, dfx, predict_date)\n",
    "tonight[-1:]"
   ]
  },
  {
   "cell_type": "markdown",
   "metadata": {},
   "source": [
    "### Predict Upcoming Week"
   ]
  },
  {
   "cell_type": "code",
   "execution_count": 133,
   "metadata": {},
   "outputs": [],
   "source": [
    "def predict_multiple(rgr, df, start_date, end_date):\n",
    "    \n",
    "    list_of_days = []\n",
    "    daterange = pd.date_range(start_date, end_date)\n",
    "    for single_date in daterange:\n",
    "        list_of_days.append(single_date.strftime(\"%Y-%m-%d\"))\n",
    "    \n",
    "    temp_df = df\n",
    "    \n",
    "    for day in list_of_days:\n",
    "        \n",
    "        temp_df = pd.concat([temp_df, predict_one(rgr, temp_df, day)], axis=0)\n",
    "    \n",
    "    return temp_df\n",
    "\n",
    "upcoming_df = predict_multiple(xgb_rgr_finalized, dfx, '2019-06-19', '2019-06-25')"
   ]
  },
  {
   "cell_type": "code",
   "execution_count": 134,
   "metadata": {},
   "outputs": [
    {
     "data": {
      "text/html": [
       "<div>\n",
       "<style scoped>\n",
       "    .dataframe tbody tr th:only-of-type {\n",
       "        vertical-align: middle;\n",
       "    }\n",
       "\n",
       "    .dataframe tbody tr th {\n",
       "        vertical-align: top;\n",
       "    }\n",
       "\n",
       "    .dataframe thead th {\n",
       "        text-align: right;\n",
       "    }\n",
       "</style>\n",
       "<table border=\"1\" class=\"dataframe\">\n",
       "  <thead>\n",
       "    <tr style=\"text-align: right;\">\n",
       "      <th></th>\n",
       "      <th>sales</th>\n",
       "      <th>closed</th>\n",
       "      <th>humidity</th>\n",
       "      <th>precip_prob</th>\n",
       "      <th>precip_while_open</th>\n",
       "      <th>outside_X_precip_open</th>\n",
       "      <th>target_trend</th>\n",
       "    </tr>\n",
       "    <tr>\n",
       "      <th>date</th>\n",
       "      <th></th>\n",
       "      <th></th>\n",
       "      <th></th>\n",
       "      <th></th>\n",
       "      <th></th>\n",
       "      <th></th>\n",
       "      <th></th>\n",
       "    </tr>\n",
       "  </thead>\n",
       "  <tbody>\n",
       "    <tr>\n",
       "      <th>2019-06-19</th>\n",
       "      <td>14610.288086</td>\n",
       "      <td>0</td>\n",
       "      <td>0.95</td>\n",
       "      <td>0.00</td>\n",
       "      <td>1</td>\n",
       "      <td>0.0</td>\n",
       "      <td>0.976882</td>\n",
       "    </tr>\n",
       "    <tr>\n",
       "      <th>2019-06-20</th>\n",
       "      <td>14096.017578</td>\n",
       "      <td>0</td>\n",
       "      <td>0.86</td>\n",
       "      <td>0.21</td>\n",
       "      <td>0</td>\n",
       "      <td>0.0</td>\n",
       "      <td>0.977449</td>\n",
       "    </tr>\n",
       "    <tr>\n",
       "      <th>2019-06-21</th>\n",
       "      <td>17220.195312</td>\n",
       "      <td>0</td>\n",
       "      <td>0.49</td>\n",
       "      <td>0.01</td>\n",
       "      <td>0</td>\n",
       "      <td>0.0</td>\n",
       "      <td>0.976745</td>\n",
       "    </tr>\n",
       "    <tr>\n",
       "      <th>2019-06-22</th>\n",
       "      <td>18292.398438</td>\n",
       "      <td>0</td>\n",
       "      <td>0.40</td>\n",
       "      <td>0.00</td>\n",
       "      <td>1</td>\n",
       "      <td>0.0</td>\n",
       "      <td>0.974877</td>\n",
       "    </tr>\n",
       "    <tr>\n",
       "      <th>2019-06-23</th>\n",
       "      <td>14665.337891</td>\n",
       "      <td>0</td>\n",
       "      <td>0.37</td>\n",
       "      <td>0.00</td>\n",
       "      <td>0</td>\n",
       "      <td>0.0</td>\n",
       "      <td>0.973045</td>\n",
       "    </tr>\n",
       "    <tr>\n",
       "      <th>2019-06-24</th>\n",
       "      <td>14718.222656</td>\n",
       "      <td>0</td>\n",
       "      <td>0.71</td>\n",
       "      <td>0.07</td>\n",
       "      <td>1</td>\n",
       "      <td>0.0</td>\n",
       "      <td>0.958175</td>\n",
       "    </tr>\n",
       "    <tr>\n",
       "      <th>2019-06-25</th>\n",
       "      <td>13878.599609</td>\n",
       "      <td>0</td>\n",
       "      <td>0.68</td>\n",
       "      <td>0.01</td>\n",
       "      <td>0</td>\n",
       "      <td>0.0</td>\n",
       "      <td>0.959670</td>\n",
       "    </tr>\n",
       "  </tbody>\n",
       "</table>\n",
       "</div>"
      ],
      "text/plain": [
       "                   sales  closed  humidity  precip_prob  precip_while_open  \\\n",
       "date                                                                         \n",
       "2019-06-19  14610.288086       0      0.95         0.00                  1   \n",
       "2019-06-20  14096.017578       0      0.86         0.21                  0   \n",
       "2019-06-21  17220.195312       0      0.49         0.01                  0   \n",
       "2019-06-22  18292.398438       0      0.40         0.00                  1   \n",
       "2019-06-23  14665.337891       0      0.37         0.00                  0   \n",
       "2019-06-24  14718.222656       0      0.71         0.07                  1   \n",
       "2019-06-25  13878.599609       0      0.68         0.01                  0   \n",
       "\n",
       "            outside_X_precip_open  target_trend  \n",
       "date                                             \n",
       "2019-06-19                    0.0      0.976882  \n",
       "2019-06-20                    0.0      0.977449  \n",
       "2019-06-21                    0.0      0.976745  \n",
       "2019-06-22                    0.0      0.974877  \n",
       "2019-06-23                    0.0      0.973045  \n",
       "2019-06-24                    0.0      0.958175  \n",
       "2019-06-25                    0.0      0.959670  "
      ]
     },
     "execution_count": 134,
     "metadata": {},
     "output_type": "execute_result"
    }
   ],
   "source": [
    "upcoming_df[-7:][[target, 'closed', 'humidity', 'precip_prob', 'precip_while_open', 'outside_X_precip_open', 'target_trend']]"
   ]
  },
  {
   "cell_type": "code",
   "execution_count": 135,
   "metadata": {},
   "outputs": [
    {
     "data": {
      "text/plain": [
       "107481.0595703125"
      ]
     },
     "execution_count": 135,
     "metadata": {},
     "output_type": "execute_result"
    }
   ],
   "source": [
    "np.sum(upcoming_df[-7:][target])"
   ]
  },
  {
   "cell_type": "code",
   "execution_count": 125,
   "metadata": {},
   "outputs": [
    {
     "data": {
      "image/png": "[encoded data removed]",
      "text/plain": [
       "<Figure size 1152x864 with 1 Axes>"
      ]
     },
     "metadata": {},
     "output_type": "display_data"
    }
   ],
   "source": [
    "plt.style.use('fivethirtyeight')\n",
    "\n",
    "fig, ax = plt.subplots(figsize=(16,12))\n",
    "\n",
    "eval_df_weekly = eval_df[['sales', 'pred_sales']]['2019'].resample('W').sum()\n",
    "ew = pd.melt(eval_df_weekly.reset_index(), id_vars='date')\n",
    "\n",
    "sns.barplot(x = 'date', y = 'value', hue = 'variable', data = ew)\n",
    "\n",
    "plt.title('Weekly Sales - 2019: Actual vs. Modeled')\n",
    "plt.xticks(rotation=45)\n",
    "\n",
    "plt.show();"
   ]
  }
 ],
 "metadata": {
  "kernelspec": {
   "display_name": "Python 3",
   "language": "python",
   "name": "python3"
  },
  "language_info": {
   "codemirror_mode": {
    "name": "ipython",
    "version": 3
   },
   "file_extension": ".py",
   "mimetype": "text/x-python",
   "name": "python",
   "nbconvert_exporter": "python",
   "pygments_lexer": "ipython3",
   "version": "3.7.2"
  }
 },
 "nbformat": 4,
 "nbformat_minor": 2
}
