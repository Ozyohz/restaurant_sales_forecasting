{
 "cells": [
  {
   "cell_type": "code",
   "execution_count": 1,
   "metadata": {},
   "outputs": [],
   "source": [
    "import numpy as np \n",
    "import pandas as pd \n",
    "import warnings\n",
    "warnings.filterwarnings('ignore')"
   ]
  },
  {
   "cell_type": "code",
   "execution_count": 49,
   "metadata": {},
   "outputs": [],
   "source": [
    "import seaborn as sns\n",
    "sns.set_palette('Set2')\n",
    "\n",
    "import matplotlib.pyplot as plt\n",
    "%matplotlib inline"
   ]
  },
  {
   "cell_type": "code",
   "execution_count": 69,
   "metadata": {},
   "outputs": [],
   "source": [
    "from sklearn.metrics import confusion_matrix, mean_squared_error\n",
    "from sklearn.preprocessing import LabelEncoder, MinMaxScaler, StandardScaler\n",
    "from sklearn.model_selection import train_test_split, cross_val_score\n",
    "from sklearn.linear_model import LinearRegression, Lasso, Ridge\n",
    "from sklearn.preprocessing import KBinsDiscretizer\n",
    "from sklearn.ensemble import RandomForestRegressor\n",
    "from sklearn.svm import LinearSVC, SVC\n",
    "from sklearn.tree import DecisionTreeRegressor\n",
    "from sklearn.model_selection import GridSearchCV\n",
    "from scipy.stats import zscore\n",
    "from sklearn.metrics import mean_squared_error\n",
    "from xgboost import XGBRegressor\n",
    "\n",
    "from yellowbrick.regressor import ResidualsPlot\n",
    "from yellowbrick.features.importances import FeatureImportances"
   ]
  },
  {
   "cell_type": "code",
   "execution_count": 3,
   "metadata": {},
   "outputs": [],
   "source": [
    "import requests\n",
    "import json\n",
    "from datetime import datetime\n",
    "import time"
   ]
  },
  {
   "cell_type": "code",
   "execution_count": 4,
   "metadata": {},
   "outputs": [],
   "source": [
    "import os\n",
    "from pandas.tseries.holiday import USFederalHolidayCalendar as calendar"
   ]
  },
  {
   "cell_type": "code",
   "execution_count": 5,
   "metadata": {},
   "outputs": [],
   "source": [
    "from config import yelp_api_key\n",
    "from config import darksky_api_key"
   ]
  },
  {
   "cell_type": "markdown",
   "metadata": {},
   "source": [
    "## Set Up"
   ]
  },
  {
   "cell_type": "code",
   "execution_count": 190,
   "metadata": {},
   "outputs": [],
   "source": [
    "# Analysis Dates\n",
    "start_date = '2017-01-01' # Start Date Inclusive\n",
    "end_date = '2019-06-17' # End Date Exclusive\n",
    "\n",
    "search_business = 'The Counting Room'\n",
    "location = 'Brooklyn, NY'"
   ]
  },
  {
   "cell_type": "markdown",
   "metadata": {},
   "source": [
    "## Pull Weather Data"
   ]
  },
  {
   "cell_type": "code",
   "execution_count": 191,
   "metadata": {},
   "outputs": [
    {
     "name": "stdout",
     "output_type": "stream",
     "text": [
      "Weather Location: The Counting Room\n"
     ]
    }
   ],
   "source": [
    "host = 'https://api.yelp.com'\n",
    "path = '/v3/businesses/search'\n",
    "\n",
    "search_limit = 10\n",
    "\n",
    "# Yelp Authorization Header with API Key\n",
    "headers = {\n",
    "        'Authorization': 'Bearer {}'.format(yelp_api_key) \n",
    "    }\n",
    "\n",
    "# Build Requests Syntax with Yelp Host and Path and URL Paramaters\n",
    "# Return JSON response\n",
    "def request(host, path, url_params=None):\n",
    "    \n",
    "    url_params = url_params or {}\n",
    "    url = '{}{}'.format(host, path)\n",
    "\n",
    "    response = requests.get(url, headers=headers, params=url_params)\n",
    "    \n",
    "    return response.json()\n",
    "\n",
    "# Build URL Params for the Request and provide the host and path\n",
    "def search(term, location):\n",
    "    \n",
    "    url_params = {\n",
    "        'term': term.replace(' ', '+'),\n",
    "        'location': location.replace(' ', '+'),\n",
    "        'limit': search_limit\n",
    "    }\n",
    "    \n",
    "    return request(host, path, url_params=url_params)\n",
    "\n",
    "# Return Coordinates if Exact Match Found\n",
    "def yelp_lat_long(business, location):\n",
    "    \n",
    "    # Call search function here with business name and location\n",
    "    response = search(business, location)\n",
    "    \n",
    "    # Set state to 'No Match' in case no Yelp match found\n",
    "    state = 'No Match'\n",
    "    possible_matches = []\n",
    "    \n",
    "    # Check search returns for match wtith business\n",
    "    for i in range(len(response['businesses'])):\n",
    "\n",
    "        # If match found:\n",
    "        if response['businesses'][i]['name'] == business:\n",
    "\n",
    "            # Local variables to help navigate JSON return\n",
    "            response_ = response['businesses'][0]\n",
    "            name_ = response_['name']\n",
    "\n",
    "            print(f'Weather Location: {name_}')\n",
    "            state = 'Match Found'\n",
    "            #print(response['businesses'][0])\n",
    "            return response_['coordinates']['latitude'], response_['coordinates']['longitude']\n",
    "\n",
    "        else:\n",
    "            \n",
    "            # If no exact match, append all search returns to list\n",
    "            possible_matches.append(response['businesses'][i]['name'])\n",
    "    \n",
    "    # If no match, show user potential matches\n",
    "    if state == 'No Match':\n",
    "        \n",
    "        print('Exact match not found, did you mean one of the following? \\n')\n",
    "        \n",
    "        for possible_match in possible_matches:\n",
    "            print(possible_match)\n",
    "            \n",
    "        return None, None\n",
    "\n",
    "lat, long = yelp_lat_long(search_business, location)"
   ]
  },
  {
   "cell_type": "markdown",
   "metadata": {},
   "source": [
    "### Darksky API Call"
   ]
  },
  {
   "cell_type": "code",
   "execution_count": 192,
   "metadata": {},
   "outputs": [],
   "source": [
    "# Create List of Dates of target Weather Data\n",
    "def find_dates(start_date, end_date):\n",
    "    \n",
    "    list_of_days = []\n",
    "    daterange = pd.date_range(start_date, end_date)\n",
    "    for single_date in daterange:\n",
    "        list_of_days.append(single_date.strftime(\"%Y-%m-%d\"))\n",
    "    \n",
    "    return list_of_days"
   ]
  },
  {
   "cell_type": "code",
   "execution_count": 193,
   "metadata": {},
   "outputs": [],
   "source": [
    "# Concatenate URL to make API Call\n",
    "def build_url(api_key, lat, long, day):\n",
    "    \n",
    "    _base_url = 'https://api.darksky.net/forecast/'\n",
    "    _time = 'T20:00:00'\n",
    "    _url = f'{_base_url}{api_key}/{lat},{long},{day + _time}?America/New_York&exclude=flags'\n",
    "    return _url\n",
    "\n",
    "def make_api_call(url):\n",
    "    \n",
    "    r = requests.get(url)\n",
    "    \n",
    "    return r.json()"
   ]
  },
  {
   "cell_type": "code",
   "execution_count": 194,
   "metadata": {},
   "outputs": [],
   "source": [
    "# Try / Except Helper Function for Handling JSON API Output\n",
    "def find_val(dictionary, *keys):\n",
    "\n",
    "    level = dictionary\n",
    "    \n",
    "    for key in keys:\n",
    "        \n",
    "        try:\n",
    "            level = level[key]\n",
    "            \n",
    "        except:\n",
    "            return np.NAN\n",
    "        \n",
    "    return level\n",
    "\n",
    "# Parse API Call Data using Try / Except Helper Function\n",
    "def parse_data(data):\n",
    "\n",
    "    time = datetime.fromtimestamp(data['currently']['time']).strftime('%Y-%m-%d')\n",
    "    \n",
    "    try:\n",
    "        precip_max_time = datetime.fromtimestamp(find_val(data, 'daily', 'data', 0, 'precipIntensityMaxTime')).strftime('%I:%M%p')\n",
    "    \n",
    "    except:\n",
    "        precip_max_time = datetime(1900,1,1,5,1).strftime('%I:%M%p')\n",
    "    \n",
    "    entry = {'date': time,\n",
    "             'temperature': float(find_val(data, 'currently', 'temperature')),\n",
    "             'apparent_temperature': float(find_val(data, 'currently', 'apparentTemperature')),\n",
    "             'humidity': float(find_val(data, 'currently', 'humidity')),\n",
    "             'precip_intensity_max': float(find_val(data,'daily','data', 0, 'precipIntensityMax')),\n",
    "             'precip_type': find_val(data, 'daily', 'data', 0, 'precipType'),\n",
    "             'precip_prob': float(find_val(data, 'currently', 'precipProbability')),\n",
    "             'pressure': float(find_val(data, 'currently', 'pressure')),\n",
    "             'summary': find_val(data, 'currently', 'icon'),\n",
    "             'precip_max_time': precip_max_time}\n",
    "    \n",
    "    return entry"
   ]
  },
  {
   "cell_type": "code",
   "execution_count": 195,
   "metadata": {},
   "outputs": [],
   "source": [
    "# Create List of Weather Data Dictionaries & Input Target Dates\n",
    "def weather_call(start_date, end_date, _lat, _long):\n",
    "    \n",
    "    weather = []\n",
    "    list_of_days = find_dates(start_date, end_date)\n",
    "    \n",
    "    for day in list_of_days:\n",
    "        \n",
    "        data = make_api_call(build_url(darksky_api_key, _lat, _long, day))\n",
    "    \n",
    "        weather.append(parse_data(data))\n",
    "    \n",
    "    return weather\n",
    "\n",
    "result = weather_call(start_date, end_date, lat, long)"
   ]
  },
  {
   "cell_type": "code",
   "execution_count": 196,
   "metadata": {},
   "outputs": [],
   "source": [
    "# Build DataFrame from List of Dictionaries\n",
    "def build_weather_df(api_call_results):\n",
    "\n",
    "    df = pd.DataFrame(api_call_results)\n",
    "\n",
    "    # Add day of week to DataFrame + Set Index as date\n",
    "    df['date'] = pd.to_datetime(df['date'])\n",
    "    df['day_of_week'] = df['date'].dt.weekday\n",
    "    df['month'] = df['date'].dt.month\n",
    "    \n",
    "    df.set_index('date', inplace=True)\n",
    "    \n",
    "    df['apparent_temperature'].fillna(method='ffill',inplace=True)\n",
    "    df['temperature'].fillna(method='ffill',inplace=True)\n",
    "    df['humidity'].fillna(method='ffill',inplace=True)\n",
    "    df['precip_prob'].fillna(method='ffill', inplace=True)\n",
    "    df['pressure'].fillna(method='ffill', inplace=True)\n",
    "    df['precip_type'].fillna(value='none', inplace=True)\n",
    "    \n",
    "    return df\n",
    "\n",
    "weather_df = build_weather_df(result);"
   ]
  },
  {
   "cell_type": "code",
   "execution_count": 197,
   "metadata": {},
   "outputs": [],
   "source": [
    "weather_df.to_csv(f'weather_{start_date}_to_{end_date}.csv')\n",
    "weather_csv_file = f'weather_{start_date}_to_{end_date}.csv'"
   ]
  },
  {
   "cell_type": "markdown",
   "metadata": {},
   "source": [
    "## Import / Clean / Prep File"
   ]
  },
  {
   "cell_type": "code",
   "execution_count": 198,
   "metadata": {},
   "outputs": [],
   "source": [
    "# Restaurant File\n",
    "current_file = 'rest_1_dinner_sales_w_covers_061619.csv'\n",
    "\n",
    "# Weather File\n",
    "weather_csv_file = 'weather_2017-01-01_to_2019-06-17.csv'"
   ]
  },
  {
   "cell_type": "code",
   "execution_count": 199,
   "metadata": {},
   "outputs": [],
   "source": [
    "# HELPER FUNCTION\n",
    "def filter_df(df, start_date, end_date):\n",
    "    \n",
    "    return df[(df.index > start_date) & (df.index < end_date)]"
   ]
  },
  {
   "cell_type": "code",
   "execution_count": 200,
   "metadata": {},
   "outputs": [],
   "source": [
    "# HELPER FUNCTION\n",
    "def import_parse(file):\n",
    "\n",
    "    data = pd.read_csv(file, index_col = 'date', parse_dates=True)\n",
    "    df = pd.DataFrame(data)\n",
    "    \n",
    "    # Rename Column to 'sales'\n",
    "    df = df.rename(columns={df.columns[0]: 'sales',\n",
    "                           'dinner_covers': 'covers'})\n",
    "    \n",
    "    # Drop NaN\n",
    "    #df = df.query('sales > 0').copy()\n",
    "    df.fillna(0, inplace=True)\n",
    "    \n",
    "    print(f'\"{file}\" has been imported + parsed. The file has {len(df)} rows.')\n",
    "    \n",
    "    return df"
   ]
  },
  {
   "cell_type": "code",
   "execution_count": 201,
   "metadata": {},
   "outputs": [],
   "source": [
    "# HELPER FUNCTION\n",
    "def prepare_data(current_file, weather_file):\n",
    "    \n",
    "    df = filter_df(import_parse(current_file), start_date, end_date)\n",
    "    weather_df_csv = pd.read_csv(weather_csv_file, parse_dates=True, index_col='date')\n",
    "    weather_df_csv['summary'].fillna(value='none', inplace=True)\n",
    "    \n",
    "    df = pd.merge(df, weather_df_csv, how='left', on='date')\n",
    "    \n",
    "    return df"
   ]
  },
  {
   "cell_type": "markdown",
   "metadata": {},
   "source": [
    "### Encode Closed Days"
   ]
  },
  {
   "cell_type": "code",
   "execution_count": 202,
   "metadata": {},
   "outputs": [],
   "source": [
    "# Set Closed Dates using Sales & User Input\n",
    "\n",
    "## CLOSED DATES\n",
    "additional_closed_dates = ['2018-12-24', '2017-12-24', '2017-02-05', '2017-03-14', '2018-01-01', '2018-02-04', '2019-02-03']\n",
    "closed_dates = [pd.to_datetime(date) for date in additional_closed_dates]\n",
    "\n",
    "# Drop or Encode Closed Days\n",
    "def encode_closed_days(df):\n",
    "\n",
    "    # CLOSED FEATURE\n",
    "    cal = calendar()\n",
    "\n",
    "    # Local list of days with zero sales\n",
    "    potential_closed_dates = df[df['sales'] == 0].index\n",
    "\n",
    "    # Enocodes closed days with 1\n",
    "    df['closed'] = np.where((((df.index.isin(potential_closed_dates)) & \\\n",
    "                              (df.index.isin(cal.holidays(start_date, end_date)))) | df.index.isin(closed_dates)), 1, 0)\n",
    "\n",
    "    df['sales'] = np.where(df['closed'] == 1, 0, df['sales'])\n",
    "    \n",
    "    return df"
   ]
  },
  {
   "cell_type": "markdown",
   "metadata": {},
   "source": [
    "### Impute Outliers in Data"
   ]
  },
  {
   "cell_type": "code",
   "execution_count": 203,
   "metadata": {},
   "outputs": [],
   "source": [
    " #Replace Outliers with Medians\n",
    "## Targets for Outliers\n",
    "\n",
    "z_thresh = 3\n",
    "\n",
    "def impute_outliers(df, *col):\n",
    "    \n",
    "    # Check for Outliers in Sales + Covers\n",
    "    for c in col:\n",
    "        \n",
    "        # Impute Median for Sales & Covers Based on Day of Week Outiers\n",
    "        for d in df['day_of_week'].unique():\n",
    "            \n",
    "            # Median / Mean / STD for each day of the week\n",
    "            daily_median = np.median(df[df['day_of_week'] == d][c])\n",
    "            daily_mean = np.mean(df[df['day_of_week'] == d][c])\n",
    "            daily_std = np.std(df[df['day_of_week'] ==d ][c])\n",
    "            \n",
    "            # Temporary column encoded if Target Columns have an Outlier\n",
    "            df['temp_col'] = np.where((df['day_of_week'] == d) & (df['closed'] == 0) & ((np.abs(df[c] - daily_mean)) > (daily_std * z_thresh)), 1, 0)\n",
    "            \n",
    "            # Replace Outlier with Median\n",
    "            df[c] = np.where(df['temp_col'] == 1, daily_median, df[c])\n",
    "            df = df.drop(['temp_col'], axis=1)\n",
    "        \n",
    "    \n",
    "    return df"
   ]
  },
  {
   "cell_type": "markdown",
   "metadata": {},
   "source": [
    "### Add Per Person Average (PPA)"
   ]
  },
  {
   "cell_type": "code",
   "execution_count": 204,
   "metadata": {},
   "outputs": [],
   "source": [
    "def add_ppa(df):\n",
    "    \n",
    "    df['ppa'] = np.where(df['covers'] > 0, df['sales'] / df['covers'], 0)\n",
    "    \n",
    "    return df"
   ]
  },
  {
   "cell_type": "markdown",
   "metadata": {},
   "source": [
    "## Clean File Here"
   ]
  },
  {
   "cell_type": "code",
   "execution_count": 205,
   "metadata": {},
   "outputs": [
    {
     "name": "stdout",
     "output_type": "stream",
     "text": [
      "\"rest_1_dinner_sales_w_covers_061619.csv\" has been imported + parsed. The file has 896 rows.\n"
     ]
    }
   ],
   "source": [
    "data = add_ppa(impute_outliers(encode_closed_days(prepare_data(current_file, weather_csv_file)), 'sales', 'covers'))"
   ]
  },
  {
   "cell_type": "markdown",
   "metadata": {},
   "source": [
    "## CHOOSE TARGET --> SALES OR COVERS"
   ]
  },
  {
   "cell_type": "code",
   "execution_count": 206,
   "metadata": {},
   "outputs": [],
   "source": [
    "target = 'sales'"
   ]
  },
  {
   "cell_type": "markdown",
   "metadata": {},
   "source": [
    "### Create Month Clusters"
   ]
  },
  {
   "cell_type": "code",
   "execution_count": 207,
   "metadata": {},
   "outputs": [
    {
     "name": "stderr",
     "output_type": "stream",
     "text": [
      "/anaconda3/lib/python3.7/site-packages/sklearn/preprocessing/data.py:323: DataConversionWarning: Data with input dtype int64, float64 were all converted to float64 by MinMaxScaler.\n",
      "  return self.partial_fit(X, y)\n"
     ]
    }
   ],
   "source": [
    "from sklearn.cluster import KMeans\n",
    "\n",
    "day_k = 7\n",
    "mo_k = 3\n",
    "\n",
    "def create_clusters(df, target, col, k):\n",
    "    \n",
    "    # MAKE DATAFRAME USING CENTRAL TENDENCIES AS FEATURES\n",
    "    describe = df.groupby(col)[target].aggregate(['median', 'std', 'max'])\n",
    "    df = describe.reset_index()\n",
    "    \n",
    "    # SCALE TEMPORARY DF\n",
    "    scaler = MinMaxScaler()\n",
    "    f = scaler.fit_transform(df)\n",
    "    \n",
    "    # INSTANTIATE MODEL\n",
    "    km = KMeans(n_clusters=k, random_state=0).fit(f)\n",
    "    \n",
    "    # GET KMEANS CLUSTER PREDICTIONS\n",
    "    labels = km.predict(f)\n",
    "    \n",
    "    # MAKE SERIES FROM PREDICTIONS\n",
    "    temp = pd.DataFrame(labels, columns = ['cluster'], index=df.index)\n",
    "    \n",
    "    # CONCAT CLUSTERS TO DATAFRAME\n",
    "    df = pd.concat([df, temp], axis=1)\n",
    "    \n",
    "    # CREATE CLUSTER DICTIONARY\n",
    "    temp_dict = {}\n",
    "    for i in list(df[col]):\n",
    "        \n",
    "        temp_dict[i] = df.loc[df[col] == i, 'cluster'].iloc[0]\n",
    "    \n",
    "    return temp_dict\n",
    "\n",
    "# Create Global Dictionaries to Categorize Day / Month\n",
    "#day_dict = create_clusters(data, 'day_of_week', day_k)\n",
    "month_dict = create_clusters(data, target, 'month', mo_k)"
   ]
  },
  {
   "cell_type": "code",
   "execution_count": 208,
   "metadata": {},
   "outputs": [
    {
     "name": "stdout",
     "output_type": "stream",
     "text": [
      "Month Clusters:  {1: 2, 2: 2, 3: 2, 4: 0, 5: 0, 6: 0, 7: 0, 8: 0, 9: 0, 10: 0, 11: 1, 12: 1} \n",
      " Total Clusters:  3\n"
     ]
    }
   ],
   "source": [
    "# Print Clusters\n",
    "print('Month Clusters: ', month_dict, '\\n', 'Total Clusters: ', len(set(month_dict.values())))"
   ]
  },
  {
   "cell_type": "markdown",
   "metadata": {},
   "source": [
    "### Add Temperature Onehot Categories"
   ]
  },
  {
   "cell_type": "code",
   "execution_count": 209,
   "metadata": {},
   "outputs": [],
   "source": [
    "def encode_temp(df):\n",
    "\n",
    "    temp_enc = KBinsDiscretizer(n_bins=5, encode='onehot', strategy='kmeans')\n",
    "    temp_enc.fit(df[['apparent_temperature']])\n",
    "    \n",
    "    return temp_enc\n",
    "    \n",
    "def one_hot_temp(df, temp_enc):\n",
    "    \n",
    "    binned_transform = temp_enc.transform(df[['apparent_temperature']])\n",
    "    binned_df = pd.DataFrame(binned_transform.toarray(), index=df.index, columns=['temp_very_cold', 'temp_cold', 'temp_warm', 'temp_hot', 'temp_very_hot'])\n",
    "    df = df.merge(binned_df, how='left', on='date')\n",
    "    df.drop(['apparent_temperature', 'temperature'], axis=1, inplace=True)\n",
    "\n",
    "    return df, temp_enc"
   ]
  },
  {
   "cell_type": "markdown",
   "metadata": {},
   "source": [
    "## Feature Engineering"
   ]
  },
  {
   "cell_type": "code",
   "execution_count": 210,
   "metadata": {},
   "outputs": [],
   "source": [
    "# Add Clusters to DataFrame to use as Features\n",
    "def add_clusters(df):\n",
    "    \n",
    "    #df['day_cluster'] = df['day_of_week'].apply(lambda x: day_dict[x]).astype('category')\n",
    "    df['month_cluster'] = df['month'].apply(lambda x: month_dict[x]).astype('category')\n",
    "    \n",
    "    return df"
   ]
  },
  {
   "cell_type": "markdown",
   "metadata": {},
   "source": [
    "### Add Weather Features"
   ]
  },
  {
   "cell_type": "code",
   "execution_count": 211,
   "metadata": {},
   "outputs": [],
   "source": [
    "hours_start = '05:00PM'\n",
    "hours_end = '11:59PM'\n",
    "\n",
    "hs_dt = datetime.strptime(hours_start, \"%I:%M%p\")\n",
    "he_dt = datetime.strptime(hours_end, \"%I:%M%p\")\n",
    "\n",
    "def between_time(check_time):\n",
    "        \n",
    "    if hs_dt <= datetime.strptime(check_time, \"%I:%M%p\") <= he_dt:\n",
    "\n",
    "        return 1\n",
    "\n",
    "    else:\n",
    "\n",
    "        return 0"
   ]
  },
  {
   "cell_type": "code",
   "execution_count": 212,
   "metadata": {},
   "outputs": [],
   "source": [
    "add_weather = True\n",
    "\n",
    "temp_delta_window = 1\n",
    "\n",
    "def add_weather_features(df):\n",
    "    \n",
    "    if add_weather:\n",
    "        \n",
    "        # POOR WEATHER FEATURES\n",
    "        df['precip_while_open'] = df['precip_max_time'].apply(lambda x: between_time(x))\n",
    "    \n",
    "        # DROP FEATURES\n",
    "        features_to_drop = ['precip_max_time']\n",
    "        df.drop(features_to_drop, axis=1, inplace=True)\n",
    "        \n",
    "    return df"
   ]
  },
  {
   "cell_type": "markdown",
   "metadata": {},
   "source": [
    "### Add Calendar Features"
   ]
  },
  {
   "cell_type": "code",
   "execution_count": 213,
   "metadata": {},
   "outputs": [],
   "source": [
    "def add_cal_features(df):\n",
    "    \n",
    "    cal = calendar()\n",
    "\n",
    "    # THREE DAY WEEKEND FEATURE\n",
    "    sunday_three_days = [date + pd.DateOffset(-1) for date in cal.holidays(start_date, end_date) if date.dayofweek == 0]\n",
    "    df['sunday_three_day'] = np.where(df.index.isin(sunday_three_days), 1, 0)\n",
    "    \n",
    "    return df"
   ]
  },
  {
   "cell_type": "markdown",
   "metadata": {},
   "source": [
    "### Add Dummies"
   ]
  },
  {
   "cell_type": "code",
   "execution_count": 214,
   "metadata": {},
   "outputs": [],
   "source": [
    "def add_dummies(df):\n",
    "    \n",
    "    df['day_of_week'] = df['day_of_week'].astype('category')\n",
    "    \n",
    "    df = pd.get_dummies(data=df, columns=['day_of_week', 'month_cluster'])\n",
    "    \n",
    "    return df"
   ]
  },
  {
   "cell_type": "markdown",
   "metadata": {},
   "source": [
    "### Add Interactions"
   ]
  },
  {
   "cell_type": "code",
   "execution_count": 215,
   "metadata": {},
   "outputs": [],
   "source": [
    "def add_interactions(df):\n",
    "    \n",
    "    apply_this_interaction = False\n",
    "    \n",
    "    if apply_this_interaction:\n",
    "        \n",
    "        for d in [col for col in df.columns if col.startswith('day_of_week')]:\n",
    "            \n",
    "            for m in [col for col in df.columns if col.startswith('month_cluster')]:\n",
    "                \n",
    "                col_name = d + '_X_' + m\n",
    "                \n",
    "                df[col_name] = df[d] * df[m]\n",
    "                \n",
    "            df.drop([d], axis=1, inplace=True)\n",
    "        \n",
    "        df.drop([col for col in df.columns if col.startswith('month_cluster')], axis=1, inplace=True)\n",
    "                \n",
    "        return df\n",
    "    \n",
    "    else:\n",
    "        \n",
    "        return df"
   ]
  },
  {
   "cell_type": "code",
   "execution_count": 216,
   "metadata": {},
   "outputs": [],
   "source": [
    "def add_weather_interactions(df):\n",
    "    \n",
    "    apply_this_interaction = True\n",
    "    \n",
    "    if apply_this_interaction:\n",
    "        \n",
    "        try:\n",
    "            \n",
    "            df['outside_X_precip_open'] = df['outside'] * df['precip_while_open']\n",
    "            \n",
    "            for w in [col for col in df.columns if col.startswith('temp_')]:\n",
    "\n",
    "                col_name = w + '_X_' + 'outside'\n",
    "                df[col_name] = df[w] * df['outside']\n",
    "\n",
    "            df.drop(['outside'], axis=1, inplace=True)\n",
    "            \n",
    "        except:\n",
    "            \n",
    "            pass\n",
    "        \n",
    "        return df\n",
    "    \n",
    "    else:\n",
    "        \n",
    "        return df"
   ]
  },
  {
   "cell_type": "markdown",
   "metadata": {},
   "source": [
    "### Feature Selection"
   ]
  },
  {
   "cell_type": "code",
   "execution_count": 217,
   "metadata": {},
   "outputs": [],
   "source": [
    "def feature_selection(df):\n",
    "    \n",
    "    try:\n",
    "        target_list = ['sales', 'covers', 'ppa']\n",
    "\n",
    "        target_to_drop = [t for t in target_list if t != target]\n",
    "\n",
    "        df = df.drop(target_to_drop, axis=1)\n",
    "        \n",
    "    except:\n",
    "        pass\n",
    "        \n",
    "    # Feature Selection / Drop unnecessary or correlated columns\n",
    "    cols_to_drop = ['month', 'precip_type', 'summary', 'pressure', 'precip_intensity_max','temp_warm', 'temp_warm_X_outside', 'day_of_week_0']\n",
    "    \n",
    "    df = df.drop(cols_to_drop, axis=1)\n",
    "    \n",
    "    return df"
   ]
  },
  {
   "cell_type": "markdown",
   "metadata": {},
   "source": [
    "### Add Target Trend Feature Engineering"
   ]
  },
  {
   "cell_type": "code",
   "execution_count": 218,
   "metadata": {},
   "outputs": [],
   "source": [
    "trend_days_rolling = 28\n",
    "trend_days_shift = 7\n",
    "days_fwd = trend_days_rolling + trend_days_shift + 1\n",
    "\n",
    "def target_trend_engineering(df):\n",
    "    \n",
    "    df['target_trend'] = df[target].rolling(trend_days_rolling).mean() / df[target].shift(trend_days_shift).rolling(trend_days_rolling).mean()\n",
    "    #df['target_delta'] = df[target].shift(7) + df[target].shift(14) - df[target].shift(21) - df[target].shift(28)\n",
    "        \n",
    "    return df"
   ]
  },
  {
   "cell_type": "markdown",
   "metadata": {},
   "source": [
    "## Start Here"
   ]
  },
  {
   "cell_type": "code",
   "execution_count": 219,
   "metadata": {},
   "outputs": [
    {
     "name": "stdout",
     "output_type": "stream",
     "text": [
      "\"rest_1_dinner_sales_w_covers_061619.csv\" has been imported + parsed. The file has 896 rows.\n"
     ]
    }
   ],
   "source": [
    "# IMPORT & PARSE CLEAN TRAINING SET\n",
    "data = add_ppa(impute_outliers(encode_closed_days(prepare_data(current_file, weather_csv_file)), 'sales', 'covers'));"
   ]
  },
  {
   "cell_type": "code",
   "execution_count": 220,
   "metadata": {},
   "outputs": [],
   "source": [
    "# One Hot Encode Temperature Data\n",
    "data, temp_enc = one_hot_temp(data, encode_temp(data))"
   ]
  },
  {
   "cell_type": "code",
   "execution_count": 221,
   "metadata": {},
   "outputs": [],
   "source": [
    "def feature_engineering(df):\n",
    "    \n",
    "    df.columns = df.columns.map(str)\n",
    "    \n",
    "    # Add day & Month Clusters // Dicts with data held in Global Variable\n",
    "    df = add_clusters(df)\n",
    "    \n",
    "    # Add Engineered Features for Weather & Calendar\n",
    "    df = add_weather_features(df)\n",
    "    df = add_cal_features(df)\n",
    "    \n",
    "    # Create Dummies\n",
    "    df = add_dummies(df)\n",
    "    \n",
    "    # Add Interactions\n",
    "    df = add_interactions(df)\n",
    "    df = add_weather_interactions(df)\n",
    "    \n",
    "    # Drop Selected Columns\n",
    "    df = feature_selection(df)\n",
    "    \n",
    "    return df\n",
    "\n",
    "dfx = feature_engineering(data)"
   ]
  },
  {
   "cell_type": "code",
   "execution_count": 222,
   "metadata": {},
   "outputs": [],
   "source": [
    "dfx = target_trend_engineering(dfx)"
   ]
  },
  {
   "cell_type": "code",
   "execution_count": 223,
   "metadata": {},
   "outputs": [
    {
     "data": {
      "image/png": "[encoded data removed]",
      "text/plain": [
       "<Figure size 1152x864 with 2 Axes>"
      ]
     },
     "metadata": {},
     "output_type": "display_data"
    }
   ],
   "source": [
    "def corr_chart(df):\n",
    "    \n",
    "    corr = dfx.corr()\n",
    "\n",
    "    mask = np.zeros_like(corr, dtype=np.bool)\n",
    "    mask[np.triu_indices_from(mask)] = True\n",
    "\n",
    "    # Set up the matplotlib figure\n",
    "    sns.set_style('whitegrid')\n",
    "    f, ax = plt.subplots(figsize=(16, 12))\n",
    "\n",
    "    # Generate a custom diverging colormap\n",
    "    cmap = sns.diverging_palette(220, 10, as_cmap=True)\n",
    "\n",
    "    # Draw the heatmap with the mask and correct aspect ratio\n",
    "    sns.heatmap(corr, mask=mask, cmap=cmap, vmax=1, vmin=-1, center=0,\n",
    "                square=True, linewidths=.75, annot=False, cbar_kws={\"shrink\": .75});\n",
    "    \n",
    "corr_chart(dfx)"
   ]
  },
  {
   "cell_type": "markdown",
   "metadata": {},
   "source": [
    "## Train / Test / Split"
   ]
  },
  {
   "cell_type": "code",
   "execution_count": 224,
   "metadata": {},
   "outputs": [],
   "source": [
    "def cv_split(df):\n",
    "    \n",
    "    features = dfx.drop([target], axis=1)[days_fwd:]\n",
    "    y = dfx[target][days_fwd:]\n",
    "    \n",
    "    return features, y\n",
    "\n",
    "cv_features, cv_y = cv_split(dfx)"
   ]
  },
  {
   "cell_type": "code",
   "execution_count": 225,
   "metadata": {},
   "outputs": [
    {
     "name": "stdout",
     "output_type": "stream",
     "text": [
      "Train set:  694\n",
      "Test set:  167\n"
     ]
    },
    {
     "name": "stderr",
     "output_type": "stream",
     "text": [
      "/anaconda3/lib/python3.7/site-packages/sklearn/preprocessing/data.py:323: DataConversionWarning: Data with input dtype uint8, int64, float64 were all converted to float64 by MinMaxScaler.\n",
      "  return self.partial_fit(X, y)\n"
     ]
    }
   ],
   "source": [
    "def train_test_split(df):\n",
    "    \n",
    "    # Separate Target & Features\n",
    "    y = df[target]\n",
    "    features = df.drop([target], axis=1)\n",
    "    \n",
    "    # Test / Train / Split\n",
    "    train_date_start = '2017-01-01'\n",
    "    train_date_end = '2018-12-31'\n",
    "    \n",
    "    X_train = features[pd.to_datetime(train_date_start) + pd.DateOffset(days_fwd):train_date_end]\n",
    "    X_test = features[pd.to_datetime(train_date_end) + pd.DateOffset(1): ]\n",
    "    \n",
    "    y_train = y[pd.to_datetime(train_date_start) + pd.DateOffset(days_fwd):train_date_end]\n",
    "    y_test = y[pd.to_datetime(train_date_end) + pd.DateOffset(1): ]\n",
    "    \n",
    "    # Scale\n",
    "    scaler = MinMaxScaler()\n",
    "    X_train_scaled = scaler.fit_transform(X_train)\n",
    "    X_test_scaled = scaler.transform(X_test)\n",
    "    \n",
    "    X_train = pd.DataFrame(X_train_scaled, columns=X_train.columns)\n",
    "    X_test = pd.DataFrame(X_test_scaled, columns=X_train.columns)\n",
    "    \n",
    "    print('Train set: ', len(X_train))\n",
    "    print('Test set: ', len(X_test))\n",
    "    \n",
    "    return X_train, X_test, y_train, y_test, scaler\n",
    "    \n",
    "X_train, X_test, y_train, y_test, scaler = train_test_split(dfx)"
   ]
  },
  {
   "cell_type": "markdown",
   "metadata": {},
   "source": [
    "## XGB Regressor"
   ]
  },
  {
   "cell_type": "code",
   "execution_count": 226,
   "metadata": {},
   "outputs": [],
   "source": [
    "# xgb1 = XGBRegressor()\n",
    "\n",
    "# parameters = {'nthread':[4], \n",
    "#               'objective':['reg:linear'],\n",
    "#               'learning_rate': [0.01, 0.02, 0.03], \n",
    "#               'max_depth': [3, 4, 5],\n",
    "#               'min_child_weight': [1, 2, 3],\n",
    "#               'silent': [1],\n",
    "#               'subsample': [0.7],\n",
    "#               'colsample_bytree': [0.55, 0.60, 0.65],\n",
    "#               'n_estimators': [400, 500, 600]}\n",
    "\n",
    "# xgb_grid = GridSearchCV(xgb1,\n",
    "#                         parameters,\n",
    "#                         cv = 3,\n",
    "#                         n_jobs = 5,\n",
    "#                         verbose=True,\n",
    "#                         scoring = 'neg_mean_squared_error')\n",
    "\n",
    "# xgb_grid.fit(X_train,\n",
    "#         y_train)\n",
    "\n",
    "# print(xgb_grid.best_score_)\n",
    "# print(xgb_grid.best_params_)"
   ]
  },
  {
   "cell_type": "code",
   "execution_count": 227,
   "metadata": {},
   "outputs": [],
   "source": [
    "# Model Set Up\n",
    "def xgb_model(X_train, y_train):\n",
    "    \n",
    "    objective = 'reg:linear'\n",
    "    booster = 'gbtree'\n",
    "    nthread = 4\n",
    "    learning_rate = 0.02\n",
    "    max_depth = 3\n",
    "    colsample_bytree = 0.75\n",
    "    n_estimators = 450\n",
    "    min_child_weight = 2\n",
    "    \n",
    "    xgb_rgr= XGBRegressor(booster=booster, objective=objective, colsample_bytree=colsample_bytree, learning_rate=learning_rate, \\\n",
    "                                max_depth=max_depth, nthread=nthread, n_estimators=n_estimators, min_child_weight=min_child_weight, random_state = 0)\n",
    "    \n",
    "    xgb_rgr = xgb_rgr.fit(X_train, y_train)\n",
    "    \n",
    "    return xgb_rgr"
   ]
  },
  {
   "cell_type": "code",
   "execution_count": 228,
   "metadata": {},
   "outputs": [],
   "source": [
    "# Run Model\n",
    "xgb_rgr = xgb_model(X_train, y_train)"
   ]
  },
  {
   "cell_type": "code",
   "execution_count": 229,
   "metadata": {},
   "outputs": [
    {
     "name": "stdout",
     "output_type": "stream",
     "text": [
      "Formula Scores: \n",
      " Test R-Squared:  0.8350877160436759 \n",
      " Test Adjusted R-Squared:  0.8072152173468324 \n",
      "\n",
      "Sklearn Metric Scores:\n",
      "Train R-Squared:   0.8267201682818596\n",
      "Test R-Squared:   0.8350877160436759 \n",
      "\n",
      "Root Mean Squared Error:  1284.8469461949041 \n",
      "\n",
      "Cross Val Avg R-Squared:  0.6641639934264594 \n",
      "\n"
     ]
    }
   ],
   "source": [
    "def tree_score(rgr, X_test, y_test, cv_features, cv_y):\n",
    "    \n",
    "    y_hat = rgr.predict(X_test)\n",
    "    sum_squares_residual = sum((y_test - y_hat)**2)\n",
    "    sum_squares_total = sum((y_test - np.mean(y_test))**2)\n",
    "    r_squared = 1 - (float(sum_squares_residual))/sum_squares_total\n",
    "    adjusted_r_squared = 1 - (1-r_squared)*(len(y_test)-1)/(len(y_test)-X_test.shape[1]-1)\n",
    "    print('Formula Scores:', '\\n', 'Test R-Squared: ', r_squared,'\\n', 'Test Adjusted R-Squared: ', adjusted_r_squared, '\\n')\n",
    "    \n",
    "    print('Sklearn Metric Scores:')\n",
    "    train_score = rgr.score(X_train, y_train)\n",
    "    test_score = rgr.score(X_test, y_test)\n",
    "    \n",
    "    y_pred = rgr.predict(X_test)\n",
    "    rmse = np.sqrt(mean_squared_error(y_test, y_pred))\n",
    "    \n",
    "    pred_df = pd.DataFrame(y_pred, index=y_test.index)\n",
    "    pred_df = pred_df.rename(columns={0: target})\n",
    "    \n",
    "    print('Train R-Squared:  ', train_score)\n",
    "    print('Test R-Squared:  ', test_score, '\\n')\n",
    "    \n",
    "    print('Root Mean Squared Error: ', rmse, '\\n')\n",
    "    \n",
    "    print('Cross Val Avg R-Squared: ',  \\\n",
    "          np.mean(cross_val_score(rgr, cv_features, cv_y, cv=10, scoring='r2')), '\\n')\n",
    "        \n",
    "    return pred_df\n",
    "\n",
    "pred_df = tree_score(xgb_rgr, X_test, y_test, cv_features, cv_y) "
   ]
  },
  {
   "cell_type": "markdown",
   "metadata": {},
   "source": [
    "### RESIDUAL PLOT"
   ]
  },
  {
   "cell_type": "code",
   "execution_count": 230,
   "metadata": {},
   "outputs": [
    {
     "data": {
      "image/png": "[encoded data removed]",
      "text/plain": [
       "<Figure size 864x576 with 1 Axes>"
      ]
     },
     "metadata": {},
     "output_type": "display_data"
    }
   ],
   "source": [
    "plt.figure(figsize=(12,8))\n",
    "\n",
    "visualizer = ResidualsPlot(xgb_rgr, hist=False)\n",
    "\n",
    "visualizer.fit(X_train, y_train)\n",
    "visualizer.score(X_test, y_test)\n",
    "visualizer.poof();"
   ]
  },
  {
   "cell_type": "markdown",
   "metadata": {},
   "source": [
    "### Feature Importance"
   ]
  },
  {
   "cell_type": "code",
   "execution_count": 231,
   "metadata": {},
   "outputs": [
    {
     "data": {
      "image/png": "[encoded data removed]",
      "text/plain": [
       "<Figure size 864x576 with 1 Axes>"
      ]
     },
     "metadata": {},
     "output_type": "display_data"
    }
   ],
   "source": [
    "features = list(X_train.columns)\n",
    "\n",
    "fig = plt.figure(figsize=(12,8))\n",
    "ax = fig.add_subplot()\n",
    "\n",
    "labels = list(map(lambda x: x.title(), features))\n",
    "visualizer = FeatureImportances(xgb_rgr, ax=ax, labels=labels, relative=False)\n",
    "\n",
    "visualizer.fit(X_train, y_train)\n",
    "visualizer.poof();"
   ]
  },
  {
   "cell_type": "code",
   "execution_count": 232,
   "metadata": {},
   "outputs": [],
   "source": [
    "outside = 1\n",
    "\n",
    "def predict_df(clf, scaler, X_train, current_df, date_1, date_2):\n",
    "    \n",
    "    # Find Lat Long for Business\n",
    "    lat, long = yelp_lat_long(search_business, location)\n",
    "    \n",
    "    # Pull Weather Data / Forecast\n",
    "    weather_df = build_weather_df(weather_call(date_1, date_2, lat, long))\n",
    "    \n",
    "    day_of_week, apparent_temperature = weather_df['day_of_week'], weather_df['apparent_temperature']\n",
    "    weather_df['outside'] = outside\n",
    "    \n",
    "    # One Hot Encode Temperature Using Fitted Encoder\n",
    "    df, _ = one_hot_temp(weather_df, temp_enc)\n",
    "    \n",
    "    df['closed'] = 0\n",
    "    \n",
    "    # Add Feature Engineering\n",
    "    df = feature_engineering(df)\n",
    "    \n",
    "    # Add Sales Data for Sales Trend Engineering\n",
    "    current_df = current_df[target]\n",
    "    df = pd.merge(df, current_df, on='date', how='left')\n",
    "    df[target] = df[target].fillna(method='ffill')\n",
    "    \n",
    "    df = target_trend_engineering(df)\n",
    "    df = df.drop([target], axis=1)\n",
    "    \n",
    "    # Ensure Column Parity\n",
    "    missing_cols = set(X_train.columns) - set(df.columns)\n",
    "    \n",
    "    for c in missing_cols:\n",
    "        df[c] = 0\n",
    "        \n",
    "    df = df[X_train.columns][-2:]\n",
    "    \n",
    "    # Scale Transform\n",
    "    df_scaled = scaler.transform(df)\n",
    "    df = pd.DataFrame(df_scaled, columns=df.columns, index=df.index)\n",
    "    \n",
    "    # Predict and Build Prediction DataFrame for Review\n",
    "    pred_array = pd.DataFrame(clf.predict(df), index=df.index, columns=[target])\n",
    "    pred_df = df[df.columns[(df != 0).any()]]\n",
    "    pred_df = pd.concat([pred_df, day_of_week, apparent_temperature], axis=1)\n",
    "    \n",
    "    final_predict = pd.concat([pred_array, pred_df], axis=1)\n",
    "    \n",
    "    return final_predict"
   ]
  },
  {
   "cell_type": "code",
   "execution_count": 233,
   "metadata": {},
   "outputs": [
    {
     "name": "stdout",
     "output_type": "stream",
     "text": [
      "Weather Location: The Counting Room\n"
     ]
    },
    {
     "data": {
      "text/html": [
       "<div>\n",
       "<style scoped>\n",
       "    .dataframe tbody tr th:only-of-type {\n",
       "        vertical-align: middle;\n",
       "    }\n",
       "\n",
       "    .dataframe tbody tr th {\n",
       "        vertical-align: top;\n",
       "    }\n",
       "\n",
       "    .dataframe thead th {\n",
       "        text-align: right;\n",
       "    }\n",
       "</style>\n",
       "<table border=\"1\" class=\"dataframe\">\n",
       "  <thead>\n",
       "    <tr style=\"text-align: right;\">\n",
       "      <th></th>\n",
       "      <th>sales</th>\n",
       "      <th>humidity</th>\n",
       "      <th>precip_prob</th>\n",
       "      <th>temp_very_hot</th>\n",
       "      <th>day_of_week_1</th>\n",
       "      <th>month_cluster_0</th>\n",
       "      <th>temp_very_hot_X_outside</th>\n",
       "      <th>target_trend</th>\n",
       "      <th>day_of_week</th>\n",
       "      <th>apparent_temperature</th>\n",
       "    </tr>\n",
       "    <tr>\n",
       "      <th>date</th>\n",
       "      <th></th>\n",
       "      <th></th>\n",
       "      <th></th>\n",
       "      <th></th>\n",
       "      <th></th>\n",
       "      <th></th>\n",
       "      <th></th>\n",
       "      <th></th>\n",
       "      <th></th>\n",
       "      <th></th>\n",
       "    </tr>\n",
       "  </thead>\n",
       "  <tbody>\n",
       "    <tr>\n",
       "      <th>2019-06-17</th>\n",
       "      <td>17511.994141</td>\n",
       "      <td>0.698630</td>\n",
       "      <td>0.00</td>\n",
       "      <td>1.0</td>\n",
       "      <td>0.0</td>\n",
       "      <td>1.0</td>\n",
       "      <td>1.0</td>\n",
       "      <td>0.424460</td>\n",
       "      <td>0</td>\n",
       "      <td>73.02</td>\n",
       "    </tr>\n",
       "    <tr>\n",
       "      <th>2019-06-18</th>\n",
       "      <td>15060.410156</td>\n",
       "      <td>0.863014</td>\n",
       "      <td>0.38</td>\n",
       "      <td>1.0</td>\n",
       "      <td>1.0</td>\n",
       "      <td>1.0</td>\n",
       "      <td>1.0</td>\n",
       "      <td>0.356883</td>\n",
       "      <td>1</td>\n",
       "      <td>71.39</td>\n",
       "    </tr>\n",
       "  </tbody>\n",
       "</table>\n",
       "</div>"
      ],
      "text/plain": [
       "                   sales  humidity  precip_prob  temp_very_hot  day_of_week_1  \\\n",
       "date                                                                            \n",
       "2019-06-17  17511.994141  0.698630         0.00            1.0            0.0   \n",
       "2019-06-18  15060.410156  0.863014         0.38            1.0            1.0   \n",
       "\n",
       "            month_cluster_0  temp_very_hot_X_outside  target_trend  \\\n",
       "date                                                                 \n",
       "2019-06-17              1.0                      1.0      0.424460   \n",
       "2019-06-18              1.0                      1.0      0.356883   \n",
       "\n",
       "            day_of_week  apparent_temperature  \n",
       "date                                           \n",
       "2019-06-17            0                 73.02  \n",
       "2019-06-18            1                 71.39  "
      ]
     },
     "execution_count": 233,
     "metadata": {},
     "output_type": "execute_result"
    }
   ],
   "source": [
    "tonight = predict_df(xgb_rgr, scaler, X_train, dfx, pd.datetime.now().date() + pd.DateOffset(-days_fwd), pd.datetime.now().date())\n",
    "tonight[-2:]"
   ]
  },
  {
   "cell_type": "code",
   "execution_count": null,
   "metadata": {},
   "outputs": [],
   "source": []
  }
 ],
 "metadata": {
  "kernelspec": {
   "display_name": "Python 3",
   "language": "python",
   "name": "python3"
  },
  "language_info": {
   "codemirror_mode": {
    "name": "ipython",
    "version": 3
   },
   "file_extension": ".py",
   "mimetype": "text/x-python",
   "name": "python",
   "nbconvert_exporter": "python",
   "pygments_lexer": "ipython3",
   "version": "3.7.2"
  }
 },
 "nbformat": 4,
 "nbformat_minor": 2
}
