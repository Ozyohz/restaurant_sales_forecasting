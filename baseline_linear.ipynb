{
 "cells": [
  {
   "cell_type": "code",
   "execution_count": 4630,
   "metadata": {},
   "outputs": [],
   "source": [
    "import numpy as np \n",
    "import pandas as pd \n",
    "import warnings\n",
    "warnings.filterwarnings('ignore')"
   ]
  },
  {
   "cell_type": "code",
   "execution_count": 11111,
   "metadata": {},
   "outputs": [],
   "source": [
    "import seaborn as sns\n",
    "sns.set_palette('Set2')\n",
    "\n",
    "import matplotlib.pyplot as plt\n",
    "%matplotlib inline"
   ]
  },
  {
   "cell_type": "code",
   "execution_count": 11076,
   "metadata": {},
   "outputs": [],
   "source": [
    "from sklearn.metrics import confusion_matrix, mean_squared_error\n",
    "from sklearn.preprocessing import LabelEncoder, MinMaxScaler, StandardScaler\n",
    "from sklearn.model_selection import train_test_split, cross_val_score\n",
    "from sklearn.linear_model import LinearRegression, Lasso, Ridge, SGDRegressor\n",
    "from sklearn.preprocessing import KBinsDiscretizer\n",
    "from sklearn.ensemble import RandomForestRegressor\n",
    "from sklearn.svm import LinearSVC, SVC\n",
    "from sklearn.tree import DecisionTreeRegressor\n",
    "from sklearn.model_selection import GridSearchCV\n",
    "from scipy.stats import zscore\n",
    "from sklearn.metrics import mean_squared_error"
   ]
  },
  {
   "cell_type": "code",
   "execution_count": 740,
   "metadata": {},
   "outputs": [],
   "source": [
    "import requests\n",
    "import json\n",
    "from datetime import datetime\n",
    "import time"
   ]
  },
  {
   "cell_type": "code",
   "execution_count": 741,
   "metadata": {},
   "outputs": [],
   "source": [
    "import os\n",
    "from pandas.tseries.holiday import USFederalHolidayCalendar as calendar"
   ]
  },
  {
   "cell_type": "code",
   "execution_count": 742,
   "metadata": {},
   "outputs": [],
   "source": [
    "from config import yelp_api_key\n",
    "from config import darksky_api_key"
   ]
  },
  {
   "cell_type": "markdown",
   "metadata": {},
   "source": [
    "## Set Up"
   ]
  },
  {
   "cell_type": "code",
   "execution_count": 9112,
   "metadata": {},
   "outputs": [],
   "source": [
    "# Analysis Dates\n",
    "start_date = '2017-01-01' # Start Date Inclusive\n",
    "end_date = '2019-06-17' # End Date Exclusive"
   ]
  },
  {
   "cell_type": "code",
   "execution_count": 9038,
   "metadata": {},
   "outputs": [],
   "source": [
    "search_business = 'Jupiter Disco'\n",
    "location = 'Brooklyn, NY'"
   ]
  },
  {
   "cell_type": "markdown",
   "metadata": {},
   "source": [
    "## Pull Weather Data"
   ]
  },
  {
   "cell_type": "markdown",
   "metadata": {},
   "source": [
    "### Latitude + Longitude from Yelp API"
   ]
  },
  {
   "cell_type": "code",
   "execution_count": 9039,
   "metadata": {},
   "outputs": [
    {
     "name": "stdout",
     "output_type": "stream",
     "text": [
      "Weather Location: Jupiter Disco\n"
     ]
    }
   ],
   "source": [
    "host = 'https://api.yelp.com'\n",
    "path = '/v3/businesses/search'\n",
    "\n",
    "search_limit = 10\n",
    "\n",
    "# Yelp Authorization Header with API Key\n",
    "headers = {\n",
    "        'Authorization': 'Bearer {}'.format(yelp_api_key) \n",
    "    }\n",
    "\n",
    "# Build Requests Syntax with Yelp Host and Path and URL Paramaters\n",
    "# Return JSON response\n",
    "def request(host, path, url_params=None):\n",
    "    \n",
    "    url_params = url_params or {}\n",
    "    url = '{}{}'.format(host, path)\n",
    "\n",
    "    response = requests.get(url, headers=headers, params=url_params)\n",
    "    \n",
    "    return response.json()\n",
    "\n",
    "# Build URL Params for the Request and provide the host and path\n",
    "def search(term, location):\n",
    "    \n",
    "    url_params = {\n",
    "        'term': term.replace(' ', '+'),\n",
    "        'location': location.replace(' ', '+'),\n",
    "        'limit': search_limit\n",
    "    }\n",
    "    \n",
    "    return request(host, path, url_params=url_params)\n",
    "\n",
    "# Return Coordinates if Exact Match Found\n",
    "def yelp_lat_long(business, location):\n",
    "    \n",
    "    # Call search function here with business name and location\n",
    "    response = search(business, location)\n",
    "    \n",
    "    # Set state to 'No Match' in case no Yelp match found\n",
    "    state = 'No Match'\n",
    "    possible_matches = []\n",
    "    \n",
    "    # Check search returns for match wtith business\n",
    "    for i in range(len(response['businesses'])):\n",
    "\n",
    "        # If match found:\n",
    "        if response['businesses'][i]['name'] == business:\n",
    "\n",
    "            # Local variables to help navigate JSON return\n",
    "            response_ = response['businesses'][0]\n",
    "            name_ = response_['name']\n",
    "\n",
    "            print(f'Weather Location: {name_}')\n",
    "            state = 'Match Found'\n",
    "            #print(response['businesses'][0])\n",
    "            return response_['coordinates']['latitude'], response_['coordinates']['longitude']\n",
    "\n",
    "        else:\n",
    "            \n",
    "            # If no exact match, append all search returns to list\n",
    "            possible_matches.append(response['businesses'][i]['name'])\n",
    "    \n",
    "    # If no match, show user potential matches\n",
    "    if state == 'No Match':\n",
    "        \n",
    "        print('Exact match not found, did you mean one of the following? \\n')\n",
    "        \n",
    "        for possible_match in possible_matches:\n",
    "            print(possible_match)\n",
    "            \n",
    "        return None, None\n",
    "\n",
    "lat, long = yelp_lat_long(search_business, location)\n",
    "#print(f'Latitude: {lat}\\nLongitude: {long}')"
   ]
  },
  {
   "cell_type": "markdown",
   "metadata": {},
   "source": [
    "### Darksky API Call"
   ]
  },
  {
   "cell_type": "code",
   "execution_count": 9040,
   "metadata": {},
   "outputs": [],
   "source": [
    "# Create List of Dates of target Weather Data\n",
    "def find_dates(start_date, end_date):\n",
    "    \n",
    "    list_of_days = []\n",
    "    daterange = pd.date_range(start_date, end_date)\n",
    "    for single_date in daterange:\n",
    "        list_of_days.append(single_date.strftime(\"%Y-%m-%d\"))\n",
    "    \n",
    "    return list_of_days"
   ]
  },
  {
   "cell_type": "code",
   "execution_count": 9041,
   "metadata": {},
   "outputs": [],
   "source": [
    "# Concatenate URL to make API Call\n",
    "def build_url(api_key, lat, long, day):\n",
    "    \n",
    "    _base_url = 'https://api.darksky.net/forecast/'\n",
    "    _time = 'T20:00:00'\n",
    "    _url = f'{_base_url}{api_key}/{lat},{long},{day + _time}?America/New_York&exclude=flags'\n",
    "    return _url\n",
    "\n",
    "def make_api_call(url):\n",
    "    \n",
    "    r = requests.get(url)\n",
    "    \n",
    "    return r.json()"
   ]
  },
  {
   "cell_type": "code",
   "execution_count": 9042,
   "metadata": {},
   "outputs": [],
   "source": [
    "# Try / Except Helper Function for Handling JSON API Output\n",
    "def find_val(dictionary, *keys):\n",
    "\n",
    "    level = dictionary\n",
    "    \n",
    "    for key in keys:\n",
    "        \n",
    "        try:\n",
    "            level = level[key]\n",
    "            \n",
    "        except:\n",
    "            return np.NAN\n",
    "        \n",
    "    return level\n",
    "\n",
    "# Parse API Call Data using Try / Except Helper Function\n",
    "def parse_data(data):\n",
    "\n",
    "    time = datetime.fromtimestamp(data['currently']['time']).strftime('%Y-%m-%d')\n",
    "    \n",
    "    try:\n",
    "        precip_max_time = datetime.fromtimestamp(find_val(data, 'daily', 'data', 0, 'precipIntensityMaxTime')).strftime('%I:%M%p')\n",
    "    \n",
    "    except:\n",
    "        precip_max_time = datetime(1900,1,1,5,1).strftime('%I:%M%p')\n",
    "    \n",
    "    entry = {'date': time,\n",
    "             'temperature': float(find_val(data, 'currently', 'temperature')),\n",
    "             'apparent_temperature': float(find_val(data, 'currently', 'apparentTemperature')),\n",
    "             'humidity': float(find_val(data, 'currently', 'humidity')),\n",
    "             'precip_intensity_max': float(find_val(data,'daily','data', 0, 'precipIntensityMax')),\n",
    "             'precip_type': find_val(data, 'daily', 'data', 0, 'precipType'),\n",
    "             'precip_prob': float(find_val(data, 'currently', 'precipProbability')),\n",
    "             'pressure': float(find_val(data, 'currently', 'pressure')),\n",
    "             'summary': find_val(data, 'currently', 'icon'),\n",
    "             'precip_max_time': precip_max_time}\n",
    "    \n",
    "    return entry"
   ]
  },
  {
   "cell_type": "code",
   "execution_count": 9043,
   "metadata": {},
   "outputs": [],
   "source": [
    "# Create List of Weather Data Dictionaries & Input Target Dates\n",
    "def weather_call(start_date, end_date, _lat, _long):\n",
    "    \n",
    "    weather = []\n",
    "    list_of_days = find_dates(start_date, end_date)\n",
    "    \n",
    "    for day in list_of_days:\n",
    "        \n",
    "        data = make_api_call(build_url(darksky_api_key, _lat, _long, day))\n",
    "    \n",
    "        weather.append(parse_data(data))\n",
    "    \n",
    "    return weather\n",
    "\n",
    "result = weather_call(start_date, end_date, lat, long)"
   ]
  },
  {
   "cell_type": "code",
   "execution_count": 9044,
   "metadata": {},
   "outputs": [],
   "source": [
    "# Build DataFrame from List of Dictionaries\n",
    "def build_weather_df(api_call_results):\n",
    "\n",
    "    df = pd.DataFrame(api_call_results)\n",
    "\n",
    "    # Add day of week to DataFrame + Set Index as date\n",
    "    df['date'] = pd.to_datetime(df['date'])\n",
    "    df['day_of_week'] = df['date'].dt.weekday\n",
    "    df['month'] = df['date'].dt.month\n",
    "    \n",
    "    df.set_index('date', inplace=True)\n",
    "    \n",
    "    df['apparent_temperature'].fillna(method='ffill',inplace=True)\n",
    "    df['temperature'].fillna(method='ffill',inplace=True)\n",
    "    df['humidity'].fillna(method='ffill',inplace=True)\n",
    "    df['precip_prob'].fillna(method='ffill', inplace=True)\n",
    "    df['pressure'].fillna(method='ffill', inplace=True)\n",
    "    df['precip_type'].fillna(value='none', inplace=True)\n",
    "    \n",
    "    return df\n",
    "\n",
    "weather_df = build_weather_df(result);"
   ]
  },
  {
   "cell_type": "code",
   "execution_count": 9045,
   "metadata": {},
   "outputs": [],
   "source": [
    "weather_df.to_csv(f'weather_{start_date}_to_{end_date}.csv')\n",
    "weather_csv_file = f'weather_{start_date}_to_{end_date}.csv'"
   ]
  },
  {
   "cell_type": "markdown",
   "metadata": {},
   "source": [
    "## Import / Clean / Prep File"
   ]
  },
  {
   "cell_type": "code",
   "execution_count": 10161,
   "metadata": {},
   "outputs": [],
   "source": [
    "# Import Sales Data\n",
    "bar_sales_file = 'bar_x_sales_export.csv'\n",
    "rest_1_file = 'rest_1_dinner_sales_w_covers_061619.csv'"
   ]
  },
  {
   "cell_type": "code",
   "execution_count": 10162,
   "metadata": {},
   "outputs": [],
   "source": [
    "# Set File\n",
    "current_file = rest_1_file\n",
    "weather_csv_file = 'weather_2017-01-01_to_2019-06-17.csv'"
   ]
  },
  {
   "cell_type": "code",
   "execution_count": 10163,
   "metadata": {},
   "outputs": [],
   "source": [
    "# HELPER FUNCTION\n",
    "def filter_df(df, start_date, end_date):\n",
    "    \n",
    "    return df[(df.index > start_date) & (df.index < end_date)]"
   ]
  },
  {
   "cell_type": "code",
   "execution_count": 10164,
   "metadata": {},
   "outputs": [],
   "source": [
    "# HELPER FUNCTION\n",
    "def import_parse(file):\n",
    "\n",
    "    data = pd.read_csv(file, index_col = 'date', parse_dates=True)\n",
    "    df = pd.DataFrame(data)\n",
    "    \n",
    "    # Rename Column to 'sales'\n",
    "    df = df.rename(columns={df.columns[0]: 'sales',\n",
    "                           'dinner_covers': 'covers'})\n",
    "    \n",
    "    # Drop NaN\n",
    "    #df = df.query('sales > 0').copy()\n",
    "    df.fillna(0, inplace=True)\n",
    "    \n",
    "    print(f'\"{file}\" has been imported + parsed. The file has {len(df)} rows.')\n",
    "    \n",
    "    return df"
   ]
  },
  {
   "cell_type": "code",
   "execution_count": 10165,
   "metadata": {},
   "outputs": [],
   "source": [
    "# HELPER FUNCTION\n",
    "def prepare_data(current_file, weather_file):\n",
    "    \n",
    "    df = filter_df(import_parse(current_file), start_date, end_date)\n",
    "    weather_df_csv = pd.read_csv(weather_csv_file, parse_dates=True, index_col='date')\n",
    "    weather_df_csv['summary'].fillna(value='none', inplace=True)\n",
    "    \n",
    "    df = pd.merge(df, weather_df_csv, how='left', on='date')\n",
    "    \n",
    "    return df"
   ]
  },
  {
   "cell_type": "markdown",
   "metadata": {},
   "source": [
    "### Encode Closed Days"
   ]
  },
  {
   "cell_type": "code",
   "execution_count": 10856,
   "metadata": {},
   "outputs": [],
   "source": [
    "# Set Closed Dates using Sales\n",
    "\n",
    "## REST 1 CLOSED DATES\n",
    "additional_closed_dates = ['2018-12-24', '2017-12-24', '2017-02-05', '2017-03-14', '2018-01-01', '2018-02-04', '2019-02-03']\n",
    "\n",
    "## BAR CLOSED DATES\n",
    "#additional_closed_dates = ['2018-12-24', '2017-12-24', '2017-10-22']\n",
    "\n",
    "closed_dates = [pd.to_datetime(date) for date in additional_closed_dates]\n",
    "\n",
    "\n",
    "# Drop or Encode Closed Days\n",
    "def encode_closed_days(df):\n",
    "\n",
    "    # CLOSED FEATURE\n",
    "    cal = calendar()\n",
    "\n",
    "    # Local list of days with zero sales\n",
    "    potential_closed_dates = df[df['sales'] == 0].index\n",
    "\n",
    "    # Enocodes closed days with 1\n",
    "    df['closed'] = np.where((((df.index.isin(potential_closed_dates)) & \\\n",
    "                              (df.index.isin(cal.holidays(start_date, end_date)))) | df.index.isin(closed_dates)), 1, 0)\n",
    "\n",
    "    df['sales'] = np.where(df['closed'] == 1, 0, df['sales'])\n",
    "    \n",
    "    return df"
   ]
  },
  {
   "cell_type": "markdown",
   "metadata": {},
   "source": [
    "### Replace Outliers in Training Data"
   ]
  },
  {
   "cell_type": "code",
   "execution_count": 10857,
   "metadata": {},
   "outputs": [],
   "source": [
    "# Replace Outliers with Medians\n",
    "## Targets for Outliers\n",
    "\n",
    "z_thresh = 3\n",
    "\n",
    "def impute_outliers(df, *col):\n",
    "    \n",
    "    # Check for Outliers in Sales + Covers\n",
    "    for c in col:\n",
    "        \n",
    "        # Impute Median for Sales & Covers Based on Day of Week Outiers\n",
    "        for d in df['day_of_week'].unique():\n",
    "            \n",
    "            # Median / Mean / STD for each day of the week\n",
    "            daily_median = np.median(df[df['day_of_week'] == d][c])\n",
    "            daily_mean = np.mean(df[df['day_of_week'] == d][c])\n",
    "            daily_std = np.std(df[df['day_of_week'] ==d ][c])\n",
    "            \n",
    "            # Temporary column encoded if Target Columns have an Outlier\n",
    "            df['temp_col'] = np.where((df['day_of_week'] == d) & (df['closed'] == 0) & ((np.abs(df[c] - daily_mean)) > (daily_std * z_thresh)), 1, 0)\n",
    "            \n",
    "            # Replace Outlier with Median\n",
    "            df[c] = np.where(df['temp_col'] == 1, daily_median, df[c])\n",
    "            df = df.drop(['temp_col'], axis=1)\n",
    "        \n",
    "    \n",
    "    return df"
   ]
  },
  {
   "cell_type": "code",
   "execution_count": 10858,
   "metadata": {},
   "outputs": [],
   "source": [
    "def add_ppa(df):\n",
    "    \n",
    "    df['ppa'] = np.where(df['covers'] > 0, df['sales'] / df['covers'], 0)\n",
    "    \n",
    "    return df"
   ]
  },
  {
   "cell_type": "markdown",
   "metadata": {},
   "source": [
    "## Clean File Here"
   ]
  },
  {
   "cell_type": "code",
   "execution_count": 10859,
   "metadata": {},
   "outputs": [
    {
     "name": "stdout",
     "output_type": "stream",
     "text": [
      "\"rest_1_dinner_sales_w_covers_061619.csv\" has been imported + parsed. The file has 896 rows.\n"
     ]
    }
   ],
   "source": [
    "data = add_ppa(impute_outliers(encode_closed_days(prepare_data(current_file, weather_csv_file)), 'sales', 'covers'))"
   ]
  },
  {
   "cell_type": "markdown",
   "metadata": {},
   "source": [
    "### Download CSV for EDA"
   ]
  },
  {
   "cell_type": "code",
   "execution_count": 10860,
   "metadata": {},
   "outputs": [],
   "source": [
    "data.to_csv('CSV_for_EDA.csv')"
   ]
  },
  {
   "cell_type": "code",
   "execution_count": 10861,
   "metadata": {},
   "outputs": [],
   "source": [
    "df_outside = data['outside']"
   ]
  },
  {
   "cell_type": "markdown",
   "metadata": {},
   "source": [
    "## CHOOSE TARGET --> SALES OR COVERS"
   ]
  },
  {
   "cell_type": "code",
   "execution_count": 11040,
   "metadata": {},
   "outputs": [],
   "source": [
    "target = 'sales'"
   ]
  },
  {
   "cell_type": "code",
   "execution_count": 11041,
   "metadata": {},
   "outputs": [
    {
     "data": {
      "text/html": [
       "<div>\n",
       "<style scoped>\n",
       "    .dataframe tbody tr th:only-of-type {\n",
       "        vertical-align: middle;\n",
       "    }\n",
       "\n",
       "    .dataframe tbody tr th {\n",
       "        vertical-align: top;\n",
       "    }\n",
       "\n",
       "    .dataframe thead tr th {\n",
       "        text-align: left;\n",
       "    }\n",
       "\n",
       "    .dataframe thead tr:last-of-type th {\n",
       "        text-align: right;\n",
       "    }\n",
       "</style>\n",
       "<table border=\"1\" class=\"dataframe\">\n",
       "  <thead>\n",
       "    <tr>\n",
       "      <th></th>\n",
       "      <th></th>\n",
       "      <th colspan=\"12\" halign=\"left\">sales</th>\n",
       "    </tr>\n",
       "    <tr>\n",
       "      <th></th>\n",
       "      <th>month</th>\n",
       "      <th>1</th>\n",
       "      <th>2</th>\n",
       "      <th>3</th>\n",
       "      <th>4</th>\n",
       "      <th>5</th>\n",
       "      <th>6</th>\n",
       "      <th>7</th>\n",
       "      <th>8</th>\n",
       "      <th>9</th>\n",
       "      <th>10</th>\n",
       "      <th>11</th>\n",
       "      <th>12</th>\n",
       "    </tr>\n",
       "    <tr>\n",
       "      <th>day</th>\n",
       "      <th>year</th>\n",
       "      <th></th>\n",
       "      <th></th>\n",
       "      <th></th>\n",
       "      <th></th>\n",
       "      <th></th>\n",
       "      <th></th>\n",
       "      <th></th>\n",
       "      <th></th>\n",
       "      <th></th>\n",
       "      <th></th>\n",
       "      <th></th>\n",
       "      <th></th>\n",
       "    </tr>\n",
       "  </thead>\n",
       "  <tbody>\n",
       "    <tr>\n",
       "      <th rowspan=\"3\" valign=\"top\">0</th>\n",
       "      <th>2017</th>\n",
       "      <td>13114.55800</td>\n",
       "      <td>13057.45500</td>\n",
       "      <td>13456.6600</td>\n",
       "      <td>15420.8150</td>\n",
       "      <td>15619.40400</td>\n",
       "      <td>15633.550000</td>\n",
       "      <td>17677.0800</td>\n",
       "      <td>16662.3000</td>\n",
       "      <td>16909.1325</td>\n",
       "      <td>14552.7500</td>\n",
       "      <td>13434.9525</td>\n",
       "      <td>10682.9575</td>\n",
       "    </tr>\n",
       "    <tr>\n",
       "      <th>2018</th>\n",
       "      <td>10022.58400</td>\n",
       "      <td>15325.09000</td>\n",
       "      <td>12548.1350</td>\n",
       "      <td>14636.8100</td>\n",
       "      <td>18291.70500</td>\n",
       "      <td>17216.857500</td>\n",
       "      <td>17534.5060</td>\n",
       "      <td>16256.8325</td>\n",
       "      <td>15988.9975</td>\n",
       "      <td>14562.8210</td>\n",
       "      <td>13030.6625</td>\n",
       "      <td>11005.9500</td>\n",
       "    </tr>\n",
       "    <tr>\n",
       "      <th>2019</th>\n",
       "      <td>14084.39250</td>\n",
       "      <td>13828.36500</td>\n",
       "      <td>13939.3850</td>\n",
       "      <td>13946.5600</td>\n",
       "      <td>16315.49750</td>\n",
       "      <td>16209.750000</td>\n",
       "      <td>NaN</td>\n",
       "      <td>NaN</td>\n",
       "      <td>NaN</td>\n",
       "      <td>NaN</td>\n",
       "      <td>NaN</td>\n",
       "      <td>NaN</td>\n",
       "    </tr>\n",
       "    <tr>\n",
       "      <th rowspan=\"3\" valign=\"top\">1</th>\n",
       "      <th>2017</th>\n",
       "      <td>13402.58600</td>\n",
       "      <td>14033.11750</td>\n",
       "      <td>10172.2475</td>\n",
       "      <td>14505.2125</td>\n",
       "      <td>16682.69600</td>\n",
       "      <td>16493.927500</td>\n",
       "      <td>17217.5900</td>\n",
       "      <td>14951.4600</td>\n",
       "      <td>15740.6050</td>\n",
       "      <td>15490.4700</td>\n",
       "      <td>14671.3850</td>\n",
       "      <td>14065.7975</td>\n",
       "    </tr>\n",
       "    <tr>\n",
       "      <th>2018</th>\n",
       "      <td>12947.57000</td>\n",
       "      <td>13145.94250</td>\n",
       "      <td>12696.3975</td>\n",
       "      <td>12921.6200</td>\n",
       "      <td>16359.00000</td>\n",
       "      <td>17901.260000</td>\n",
       "      <td>17031.8700</td>\n",
       "      <td>15350.9375</td>\n",
       "      <td>15872.9700</td>\n",
       "      <td>14856.9520</td>\n",
       "      <td>13332.8125</td>\n",
       "      <td>11669.2100</td>\n",
       "    </tr>\n",
       "    <tr>\n",
       "      <th>2019</th>\n",
       "      <td>10344.81800</td>\n",
       "      <td>14092.96000</td>\n",
       "      <td>13846.2950</td>\n",
       "      <td>15379.8380</td>\n",
       "      <td>16028.10000</td>\n",
       "      <td>18669.965000</td>\n",
       "      <td>NaN</td>\n",
       "      <td>NaN</td>\n",
       "      <td>NaN</td>\n",
       "      <td>NaN</td>\n",
       "      <td>NaN</td>\n",
       "      <td>NaN</td>\n",
       "    </tr>\n",
       "    <tr>\n",
       "      <th rowspan=\"3\" valign=\"top\">2</th>\n",
       "      <th>2017</th>\n",
       "      <td>13454.25500</td>\n",
       "      <td>13987.35000</td>\n",
       "      <td>13533.9540</td>\n",
       "      <td>14666.2425</td>\n",
       "      <td>16861.93200</td>\n",
       "      <td>19167.895000</td>\n",
       "      <td>16988.6350</td>\n",
       "      <td>18485.1660</td>\n",
       "      <td>17022.6025</td>\n",
       "      <td>16328.0075</td>\n",
       "      <td>14458.0520</td>\n",
       "      <td>14516.3950</td>\n",
       "    </tr>\n",
       "    <tr>\n",
       "      <th>2018</th>\n",
       "      <td>13389.51800</td>\n",
       "      <td>13188.99000</td>\n",
       "      <td>13296.6500</td>\n",
       "      <td>15260.8800</td>\n",
       "      <td>17667.23400</td>\n",
       "      <td>16877.925000</td>\n",
       "      <td>16634.2000</td>\n",
       "      <td>17567.9500</td>\n",
       "      <td>15378.0450</td>\n",
       "      <td>15861.5330</td>\n",
       "      <td>14508.1100</td>\n",
       "      <td>13369.2325</td>\n",
       "    </tr>\n",
       "    <tr>\n",
       "      <th>2019</th>\n",
       "      <td>13250.45600</td>\n",
       "      <td>15253.36875</td>\n",
       "      <td>14176.3775</td>\n",
       "      <td>16343.3250</td>\n",
       "      <td>15137.79400</td>\n",
       "      <td>16822.975000</td>\n",
       "      <td>NaN</td>\n",
       "      <td>NaN</td>\n",
       "      <td>NaN</td>\n",
       "      <td>NaN</td>\n",
       "      <td>NaN</td>\n",
       "      <td>NaN</td>\n",
       "    </tr>\n",
       "    <tr>\n",
       "      <th rowspan=\"3\" valign=\"top\">3</th>\n",
       "      <th>2017</th>\n",
       "      <td>14265.43750</td>\n",
       "      <td>14967.14500</td>\n",
       "      <td>13729.5960</td>\n",
       "      <td>15276.0850</td>\n",
       "      <td>16670.66500</td>\n",
       "      <td>18556.538000</td>\n",
       "      <td>16449.4375</td>\n",
       "      <td>19084.5960</td>\n",
       "      <td>17664.6325</td>\n",
       "      <td>18379.7050</td>\n",
       "      <td>12801.6120</td>\n",
       "      <td>15899.8825</td>\n",
       "    </tr>\n",
       "    <tr>\n",
       "      <th>2018</th>\n",
       "      <td>13364.30000</td>\n",
       "      <td>15426.34750</td>\n",
       "      <td>14020.2340</td>\n",
       "      <td>15511.2350</td>\n",
       "      <td>17473.57600</td>\n",
       "      <td>18458.622500</td>\n",
       "      <td>18586.1150</td>\n",
       "      <td>18142.5180</td>\n",
       "      <td>16496.7250</td>\n",
       "      <td>15051.5950</td>\n",
       "      <td>11564.6680</td>\n",
       "      <td>15804.0925</td>\n",
       "    </tr>\n",
       "    <tr>\n",
       "      <th>2019</th>\n",
       "      <td>13954.05600</td>\n",
       "      <td>14821.20750</td>\n",
       "      <td>14426.3725</td>\n",
       "      <td>15997.7475</td>\n",
       "      <td>16693.79600</td>\n",
       "      <td>16815.505000</td>\n",
       "      <td>NaN</td>\n",
       "      <td>NaN</td>\n",
       "      <td>NaN</td>\n",
       "      <td>NaN</td>\n",
       "      <td>NaN</td>\n",
       "      <td>NaN</td>\n",
       "    </tr>\n",
       "    <tr>\n",
       "      <th rowspan=\"3\" valign=\"top\">4</th>\n",
       "      <th>2017</th>\n",
       "      <td>15365.20000</td>\n",
       "      <td>16154.25750</td>\n",
       "      <td>15387.7400</td>\n",
       "      <td>18623.9575</td>\n",
       "      <td>19017.47250</td>\n",
       "      <td>20566.622000</td>\n",
       "      <td>18752.2725</td>\n",
       "      <td>20013.3825</td>\n",
       "      <td>22247.2960</td>\n",
       "      <td>20541.6400</td>\n",
       "      <td>16945.6025</td>\n",
       "      <td>16113.0820</td>\n",
       "    </tr>\n",
       "    <tr>\n",
       "      <th>2018</th>\n",
       "      <td>15648.67250</td>\n",
       "      <td>15652.01000</td>\n",
       "      <td>15554.3760</td>\n",
       "      <td>17807.9300</td>\n",
       "      <td>22055.25000</td>\n",
       "      <td>20221.266000</td>\n",
       "      <td>16952.3425</td>\n",
       "      <td>19176.4480</td>\n",
       "      <td>19581.7550</td>\n",
       "      <td>17417.3800</td>\n",
       "      <td>15269.1100</td>\n",
       "      <td>15496.3750</td>\n",
       "    </tr>\n",
       "    <tr>\n",
       "      <th>2019</th>\n",
       "      <td>16052.32750</td>\n",
       "      <td>16212.22250</td>\n",
       "      <td>15922.3040</td>\n",
       "      <td>16607.2825</td>\n",
       "      <td>21530.88400</td>\n",
       "      <td>19356.130000</td>\n",
       "      <td>NaN</td>\n",
       "      <td>NaN</td>\n",
       "      <td>NaN</td>\n",
       "      <td>NaN</td>\n",
       "      <td>NaN</td>\n",
       "      <td>NaN</td>\n",
       "    </tr>\n",
       "    <tr>\n",
       "      <th rowspan=\"3\" valign=\"top\">5</th>\n",
       "      <th>2017</th>\n",
       "      <td>17373.33250</td>\n",
       "      <td>16653.08250</td>\n",
       "      <td>17840.6575</td>\n",
       "      <td>19667.3140</td>\n",
       "      <td>20002.47000</td>\n",
       "      <td>22854.090000</td>\n",
       "      <td>21847.6520</td>\n",
       "      <td>21851.1525</td>\n",
       "      <td>21502.4160</td>\n",
       "      <td>22722.6350</td>\n",
       "      <td>16811.7825</td>\n",
       "      <td>15389.6660</td>\n",
       "    </tr>\n",
       "    <tr>\n",
       "      <th>2018</th>\n",
       "      <td>16401.76750</td>\n",
       "      <td>17866.38500</td>\n",
       "      <td>17624.0680</td>\n",
       "      <td>20923.9000</td>\n",
       "      <td>17995.36500</td>\n",
       "      <td>20513.356000</td>\n",
       "      <td>21149.9750</td>\n",
       "      <td>18947.4775</td>\n",
       "      <td>19292.8500</td>\n",
       "      <td>18130.2825</td>\n",
       "      <td>17109.2550</td>\n",
       "      <td>16158.6640</td>\n",
       "    </tr>\n",
       "    <tr>\n",
       "      <th>2019</th>\n",
       "      <td>17121.93375</td>\n",
       "      <td>17911.15500</td>\n",
       "      <td>18092.5980</td>\n",
       "      <td>20543.9300</td>\n",
       "      <td>21555.81375</td>\n",
       "      <td>21856.606667</td>\n",
       "      <td>NaN</td>\n",
       "      <td>NaN</td>\n",
       "      <td>NaN</td>\n",
       "      <td>NaN</td>\n",
       "      <td>NaN</td>\n",
       "      <td>NaN</td>\n",
       "    </tr>\n",
       "    <tr>\n",
       "      <th rowspan=\"3\" valign=\"top\">6</th>\n",
       "      <th>2017</th>\n",
       "      <td>13335.43000</td>\n",
       "      <td>10632.74000</td>\n",
       "      <td>14822.8375</td>\n",
       "      <td>15458.3660</td>\n",
       "      <td>18028.23750</td>\n",
       "      <td>17394.157500</td>\n",
       "      <td>20702.2360</td>\n",
       "      <td>19243.2350</td>\n",
       "      <td>20489.9300</td>\n",
       "      <td>18160.3160</td>\n",
       "      <td>14798.4825</td>\n",
       "      <td>12591.4140</td>\n",
       "    </tr>\n",
       "    <tr>\n",
       "      <th>2018</th>\n",
       "      <td>14212.37500</td>\n",
       "      <td>11812.92000</td>\n",
       "      <td>14151.9750</td>\n",
       "      <td>16077.8440</td>\n",
       "      <td>17126.27750</td>\n",
       "      <td>17023.780000</td>\n",
       "      <td>17943.3780</td>\n",
       "      <td>17080.4275</td>\n",
       "      <td>16844.8920</td>\n",
       "      <td>16786.3175</td>\n",
       "      <td>14390.9875</td>\n",
       "      <td>14159.6660</td>\n",
       "    </tr>\n",
       "    <tr>\n",
       "      <th>2019</th>\n",
       "      <td>14322.28500</td>\n",
       "      <td>11145.84000</td>\n",
       "      <td>14410.9540</td>\n",
       "      <td>16448.1125</td>\n",
       "      <td>16313.34000</td>\n",
       "      <td>18770.656667</td>\n",
       "      <td>NaN</td>\n",
       "      <td>NaN</td>\n",
       "      <td>NaN</td>\n",
       "      <td>NaN</td>\n",
       "      <td>NaN</td>\n",
       "      <td>NaN</td>\n",
       "    </tr>\n",
       "  </tbody>\n",
       "</table>\n",
       "</div>"
      ],
      "text/plain": [
       "                sales                                                    \\\n",
       "month              1            2           3           4            5    \n",
       "day year                                                                  \n",
       "0   2017  13114.55800  13057.45500  13456.6600  15420.8150  15619.40400   \n",
       "    2018  10022.58400  15325.09000  12548.1350  14636.8100  18291.70500   \n",
       "    2019  14084.39250  13828.36500  13939.3850  13946.5600  16315.49750   \n",
       "1   2017  13402.58600  14033.11750  10172.2475  14505.2125  16682.69600   \n",
       "    2018  12947.57000  13145.94250  12696.3975  12921.6200  16359.00000   \n",
       "    2019  10344.81800  14092.96000  13846.2950  15379.8380  16028.10000   \n",
       "2   2017  13454.25500  13987.35000  13533.9540  14666.2425  16861.93200   \n",
       "    2018  13389.51800  13188.99000  13296.6500  15260.8800  17667.23400   \n",
       "    2019  13250.45600  15253.36875  14176.3775  16343.3250  15137.79400   \n",
       "3   2017  14265.43750  14967.14500  13729.5960  15276.0850  16670.66500   \n",
       "    2018  13364.30000  15426.34750  14020.2340  15511.2350  17473.57600   \n",
       "    2019  13954.05600  14821.20750  14426.3725  15997.7475  16693.79600   \n",
       "4   2017  15365.20000  16154.25750  15387.7400  18623.9575  19017.47250   \n",
       "    2018  15648.67250  15652.01000  15554.3760  17807.9300  22055.25000   \n",
       "    2019  16052.32750  16212.22250  15922.3040  16607.2825  21530.88400   \n",
       "5   2017  17373.33250  16653.08250  17840.6575  19667.3140  20002.47000   \n",
       "    2018  16401.76750  17866.38500  17624.0680  20923.9000  17995.36500   \n",
       "    2019  17121.93375  17911.15500  18092.5980  20543.9300  21555.81375   \n",
       "6   2017  13335.43000  10632.74000  14822.8375  15458.3660  18028.23750   \n",
       "    2018  14212.37500  11812.92000  14151.9750  16077.8440  17126.27750   \n",
       "    2019  14322.28500  11145.84000  14410.9540  16448.1125  16313.34000   \n",
       "\n",
       "                                                                        \\\n",
       "month               6           7           8           9           10   \n",
       "day year                                                                 \n",
       "0   2017  15633.550000  17677.0800  16662.3000  16909.1325  14552.7500   \n",
       "    2018  17216.857500  17534.5060  16256.8325  15988.9975  14562.8210   \n",
       "    2019  16209.750000         NaN         NaN         NaN         NaN   \n",
       "1   2017  16493.927500  17217.5900  14951.4600  15740.6050  15490.4700   \n",
       "    2018  17901.260000  17031.8700  15350.9375  15872.9700  14856.9520   \n",
       "    2019  18669.965000         NaN         NaN         NaN         NaN   \n",
       "2   2017  19167.895000  16988.6350  18485.1660  17022.6025  16328.0075   \n",
       "    2018  16877.925000  16634.2000  17567.9500  15378.0450  15861.5330   \n",
       "    2019  16822.975000         NaN         NaN         NaN         NaN   \n",
       "3   2017  18556.538000  16449.4375  19084.5960  17664.6325  18379.7050   \n",
       "    2018  18458.622500  18586.1150  18142.5180  16496.7250  15051.5950   \n",
       "    2019  16815.505000         NaN         NaN         NaN         NaN   \n",
       "4   2017  20566.622000  18752.2725  20013.3825  22247.2960  20541.6400   \n",
       "    2018  20221.266000  16952.3425  19176.4480  19581.7550  17417.3800   \n",
       "    2019  19356.130000         NaN         NaN         NaN         NaN   \n",
       "5   2017  22854.090000  21847.6520  21851.1525  21502.4160  22722.6350   \n",
       "    2018  20513.356000  21149.9750  18947.4775  19292.8500  18130.2825   \n",
       "    2019  21856.606667         NaN         NaN         NaN         NaN   \n",
       "6   2017  17394.157500  20702.2360  19243.2350  20489.9300  18160.3160   \n",
       "    2018  17023.780000  17943.3780  17080.4275  16844.8920  16786.3175   \n",
       "    2019  18770.656667         NaN         NaN         NaN         NaN   \n",
       "\n",
       "                                  \n",
       "month             11          12  \n",
       "day year                          \n",
       "0   2017  13434.9525  10682.9575  \n",
       "    2018  13030.6625  11005.9500  \n",
       "    2019         NaN         NaN  \n",
       "1   2017  14671.3850  14065.7975  \n",
       "    2018  13332.8125  11669.2100  \n",
       "    2019         NaN         NaN  \n",
       "2   2017  14458.0520  14516.3950  \n",
       "    2018  14508.1100  13369.2325  \n",
       "    2019         NaN         NaN  \n",
       "3   2017  12801.6120  15899.8825  \n",
       "    2018  11564.6680  15804.0925  \n",
       "    2019         NaN         NaN  \n",
       "4   2017  16945.6025  16113.0820  \n",
       "    2018  15269.1100  15496.3750  \n",
       "    2019         NaN         NaN  \n",
       "5   2017  16811.7825  15389.6660  \n",
       "    2018  17109.2550  16158.6640  \n",
       "    2019         NaN         NaN  \n",
       "6   2017  14798.4825  12591.4140  \n",
       "    2018  14390.9875  14159.6660  \n",
       "    2019         NaN         NaN  "
      ]
     },
     "execution_count": 11041,
     "metadata": {},
     "output_type": "execute_result"
    }
   ],
   "source": [
    "def daily_average_matrix_ann(df, target):\n",
    "    \n",
    "    matrix = df.groupby([df.index.dayofweek, df.index.month, df.index.year]).agg({target: 'mean'})\n",
    "    matrix = matrix.rename_axis(['day', 'month', 'year'])\n",
    "    return matrix.unstack(level=1)\n",
    "\n",
    "daily_average_matrix_ann(data, target)"
   ]
  },
  {
   "cell_type": "markdown",
   "metadata": {},
   "source": [
    "### Create Month Clusters"
   ]
  },
  {
   "cell_type": "code",
   "execution_count": 11042,
   "metadata": {},
   "outputs": [],
   "source": [
    "from sklearn.cluster import KMeans\n",
    "\n",
    "day_k = 7\n",
    "mo_k = 3\n",
    "\n",
    "def create_clusters(df, target, col, k):\n",
    "    \n",
    "    # MAKE DATAFRAME USING CENTRAL TENDENCIES AS FEATURES\n",
    "    describe = df.groupby(col)[target].aggregate(['median', 'std', 'max'])\n",
    "    df = describe.reset_index()\n",
    "    \n",
    "    # SCALE TEMPORARY DF\n",
    "    scaler = MinMaxScaler()\n",
    "    f = scaler.fit_transform(df)\n",
    "    \n",
    "    # INSTANTIATE MODEL\n",
    "    km = KMeans(n_clusters=k, random_state=0).fit(f)\n",
    "    \n",
    "    # GET KMEANS CLUSTER PREDICTIONS\n",
    "    labels = km.predict(f)\n",
    "    \n",
    "    # MAKE SERIES FROM PREDICTIONS\n",
    "    temp = pd.DataFrame(labels, columns = ['cluster'], index=df.index)\n",
    "    \n",
    "    # CONCAT CLUSTERS TO DATAFRAME\n",
    "    df = pd.concat([df, temp], axis=1)\n",
    "    \n",
    "    # CREATE CLUSTER DICTIONARY\n",
    "    temp_dict = {}\n",
    "    for i in list(df[col]):\n",
    "        \n",
    "        temp_dict[i] = df.loc[df[col] == i, 'cluster'].iloc[0]\n",
    "    \n",
    "    return temp_dict\n",
    "\n",
    "# Create Global Dictionaries to Categorize Day / Month\n",
    "#day_dict = create_clusters(data, 'day_of_week', day_k)\n",
    "month_dict = create_clusters(data, target, 'month', mo_k)"
   ]
  },
  {
   "cell_type": "code",
   "execution_count": 11043,
   "metadata": {},
   "outputs": [
    {
     "name": "stdout",
     "output_type": "stream",
     "text": [
      "Month Clusters:  {1: 2, 2: 2, 3: 2, 4: 0, 5: 0, 6: 0, 7: 0, 8: 0, 9: 0, 10: 0, 11: 1, 12: 1} \n",
      " Total Clusters:  3\n"
     ]
    }
   ],
   "source": [
    "# Print Clusters\n",
    "#print('Day Clusters: ', day_dict, '\\n', 'Total Clusters: ', len(set(day_dict.values())), '\\n')\n",
    "print('Month Clusters: ', month_dict, '\\n', 'Total Clusters: ', len(set(month_dict.values())))"
   ]
  },
  {
   "cell_type": "markdown",
   "metadata": {},
   "source": [
    "### Add Temperature Onehot Categories"
   ]
  },
  {
   "cell_type": "code",
   "execution_count": 11044,
   "metadata": {},
   "outputs": [],
   "source": [
    "def encode_temp(df):\n",
    "\n",
    "    temp_enc = KBinsDiscretizer(n_bins=5, encode='onehot', strategy='kmeans')\n",
    "    temp_enc.fit(df[['apparent_temperature']])\n",
    "    \n",
    "    return temp_enc\n",
    "    \n",
    "def one_hot_temp(df, temp_enc):\n",
    "    \n",
    "    binned_transform = temp_enc.transform(df[['apparent_temperature']])\n",
    "    binned_df = pd.DataFrame(binned_transform.toarray(), index=df.index, columns=['temp_very_cold', 'temp_cold', 'temp_warm', 'temp_hot', 'temp_very_hot'])\n",
    "    df = df.merge(binned_df, how='left', on='date')\n",
    "    df.drop(['apparent_temperature', 'temperature'], axis=1, inplace=True)\n",
    "\n",
    "    return df, temp_enc"
   ]
  },
  {
   "cell_type": "markdown",
   "metadata": {},
   "source": [
    "## Feature Engineering"
   ]
  },
  {
   "cell_type": "code",
   "execution_count": 11045,
   "metadata": {},
   "outputs": [],
   "source": [
    "# Add Clusters to DataFrame to use as Features\n",
    "def add_clusters(df):\n",
    "    \n",
    "    #df['day_cluster'] = df['day_of_week'].apply(lambda x: day_dict[x]).astype('category')\n",
    "    df['month_cluster'] = df['month'].apply(lambda x: month_dict[x]).astype('category')\n",
    "    \n",
    "    return df"
   ]
  },
  {
   "cell_type": "markdown",
   "metadata": {},
   "source": [
    "### Add Weather Features"
   ]
  },
  {
   "cell_type": "code",
   "execution_count": 11046,
   "metadata": {},
   "outputs": [],
   "source": [
    "hours_start = '05:00PM'\n",
    "hours_end = '11:59PM'\n",
    "\n",
    "hs_dt = datetime.strptime(hours_start, \"%I:%M%p\")\n",
    "he_dt = datetime.strptime(hours_end, \"%I:%M%p\")\n",
    "\n",
    "def between_time(check_time):\n",
    "        \n",
    "    if hs_dt <= datetime.strptime(check_time, \"%I:%M%p\") <= he_dt:\n",
    "\n",
    "        return 1\n",
    "\n",
    "    else:\n",
    "\n",
    "        return 0"
   ]
  },
  {
   "cell_type": "code",
   "execution_count": 11047,
   "metadata": {},
   "outputs": [],
   "source": [
    "add_weather = True\n",
    "\n",
    "temp_delta_window = 1\n",
    "\n",
    "def add_weather_features(df):\n",
    "    \n",
    "    if add_weather:\n",
    "        \n",
    "        # POOR WEATHER FEATURES\n",
    "        df['precip_while_open'] = df['precip_max_time'].apply(lambda x: between_time(x))\n",
    "    \n",
    "        # DROP FEATURES\n",
    "        features_to_drop = ['precip_max_time']\n",
    "        df.drop(features_to_drop, axis=1, inplace=True)\n",
    "        \n",
    "    return df"
   ]
  },
  {
   "cell_type": "markdown",
   "metadata": {},
   "source": [
    "### Add Calendar Features"
   ]
  },
  {
   "cell_type": "code",
   "execution_count": 11048,
   "metadata": {},
   "outputs": [],
   "source": [
    "def add_cal_features(df):\n",
    "    \n",
    "    cal = calendar()\n",
    "\n",
    "    # THREE DAY WEEKEND FEATURE\n",
    "    sunday_three_days = [date + pd.DateOffset(-1) for date in cal.holidays(start_date, end_date) if date.dayofweek == 0]\n",
    "    df['sunday_three_day'] = np.where(df.index.isin(sunday_three_days), 1, 0)\n",
    "    \n",
    "    return df"
   ]
  },
  {
   "cell_type": "markdown",
   "metadata": {},
   "source": [
    "### Add Dummies"
   ]
  },
  {
   "cell_type": "code",
   "execution_count": 11049,
   "metadata": {},
   "outputs": [],
   "source": [
    "def add_dummies(df):\n",
    "    \n",
    "    df['day_of_week'] = df['day_of_week'].astype('category')\n",
    "    \n",
    "    df = pd.get_dummies(data=df, columns=['day_of_week', 'month_cluster'])\n",
    "    \n",
    "    return df"
   ]
  },
  {
   "cell_type": "markdown",
   "metadata": {},
   "source": [
    "### Add Interactions"
   ]
  },
  {
   "cell_type": "code",
   "execution_count": 11050,
   "metadata": {},
   "outputs": [],
   "source": [
    "def add_interactions(df):\n",
    "    \n",
    "    apply_this_interaction = False\n",
    "    \n",
    "    if apply_this_interaction:\n",
    "        \n",
    "        for d in [col for col in df.columns if col.startswith('day_cluster')]:\n",
    "            \n",
    "            for m in [col for col in df.columns if col.startswith('month_cluster')]:\n",
    "                \n",
    "                col_name = d + '_X_' + m\n",
    "                \n",
    "                df[col_name] = df[d] * df[m]\n",
    "                \n",
    "            df.drop([d], axis=1, inplace=True)\n",
    "        \n",
    "        df.drop([col for col in df.columns if col.startswith('month_cluster')], axis=1, inplace=True)\n",
    "                \n",
    "        return df\n",
    "    \n",
    "    else:\n",
    "        \n",
    "        return df"
   ]
  },
  {
   "cell_type": "code",
   "execution_count": 11051,
   "metadata": {},
   "outputs": [],
   "source": [
    "def add_weather_interactions(df):\n",
    "    \n",
    "    apply_this_interaction = True\n",
    "    \n",
    "    if apply_this_interaction:\n",
    "        \n",
    "        try:\n",
    "            \n",
    "            df['outside_X_precip_open'] = df['outside'] * df['precip_while_open']\n",
    "            \n",
    "            \n",
    "            for w in [col for col in df.columns if col.startswith('temp_')]:\n",
    "\n",
    "                col_name = w + '_X_' + 'outside'\n",
    "                df[col_name] = df[w] * df['outside']\n",
    "\n",
    "            df.drop(['outside'], axis=1, inplace=True)\n",
    "            \n",
    "        except:\n",
    "            \n",
    "            pass\n",
    "        \n",
    "        return df\n",
    "    \n",
    "    else:\n",
    "        \n",
    "        return df"
   ]
  },
  {
   "cell_type": "markdown",
   "metadata": {},
   "source": [
    "### Feature Selection"
   ]
  },
  {
   "cell_type": "code",
   "execution_count": 11052,
   "metadata": {},
   "outputs": [],
   "source": [
    "def feature_selection(df):\n",
    "    \n",
    "    try:\n",
    "        target_list = ['sales', 'covers', 'ppa']\n",
    "\n",
    "        target_to_drop = [t for t in target_list if t != target]\n",
    "\n",
    "        df = df.drop(target_to_drop, axis=1)\n",
    "        \n",
    "    except:\n",
    "        pass\n",
    "        \n",
    "    # Feature Selection / Drop unnecessary or correlated columns\n",
    "    cols_to_drop = ['month', 'precip_type', 'summary', 'pressure', 'precip_intensity_max', 'day_of_week_0', 'temp_warm', 'temp_warm_X_outside']\n",
    "    \n",
    "    df = df.drop(cols_to_drop, axis=1)\n",
    "    \n",
    "    return df"
   ]
  },
  {
   "cell_type": "markdown",
   "metadata": {},
   "source": [
    "### Add Target Trend Feature Engineering"
   ]
  },
  {
   "cell_type": "code",
   "execution_count": 11053,
   "metadata": {},
   "outputs": [],
   "source": [
    "trend_days_rolling = 28\n",
    "trend_days_shift = 7\n",
    "days_fwd = trend_days_rolling + trend_days_shift + 1\n",
    "\n",
    "def target_trend_engineering(df):\n",
    "    \n",
    "    df['target_trend'] = df[target].rolling(trend_days_rolling).mean() / df[target].shift(trend_days_shift).rolling(trend_days_rolling).mean()\n",
    "    #df['target_delta'] = df[target].shift(7) + df[target].shift(14) - df[target].shift(21) - df[target].shift(28)\n",
    "        \n",
    "    return df"
   ]
  },
  {
   "cell_type": "markdown",
   "metadata": {},
   "source": [
    "## Start Here"
   ]
  },
  {
   "cell_type": "code",
   "execution_count": 11054,
   "metadata": {},
   "outputs": [
    {
     "name": "stdout",
     "output_type": "stream",
     "text": [
      "\"rest_1_dinner_sales_w_covers_061619.csv\" has been imported + parsed. The file has 896 rows.\n"
     ]
    }
   ],
   "source": [
    "# IMPORT & PARSE CLEAN TRAINING SET\n",
    "data = add_ppa(impute_outliers(encode_closed_days(prepare_data(current_file, weather_csv_file)), 'sales', 'covers'));"
   ]
  },
  {
   "cell_type": "code",
   "execution_count": 11055,
   "metadata": {},
   "outputs": [],
   "source": [
    "# One Hot Encode Temperature Data\n",
    "data, temp_enc = one_hot_temp(data, encode_temp(data))"
   ]
  },
  {
   "cell_type": "code",
   "execution_count": 11056,
   "metadata": {},
   "outputs": [],
   "source": [
    "# Create CSV\n",
    "data.to_csv('csv_before_features.csv')"
   ]
  },
  {
   "cell_type": "code",
   "execution_count": 11057,
   "metadata": {},
   "outputs": [],
   "source": [
    "def feature_engineering(df):\n",
    "    \n",
    "    df.columns = df.columns.map(str)\n",
    "    \n",
    "    # Add day & Month Clusters // Dicts with data held in Global Variable\n",
    "    df = add_clusters(df)\n",
    "    \n",
    "    # Add Engineered Features for Weather & Calendar\n",
    "    df = add_weather_features(df)\n",
    "    df = add_cal_features(df)\n",
    "    \n",
    "    # Create Dummies\n",
    "    df = add_dummies(df)\n",
    "    \n",
    "    # Add Interactions\n",
    "    df = add_interactions(df)\n",
    "    df = add_weather_interactions(df)\n",
    "    \n",
    "    # Drop Selected Columns\n",
    "    df = feature_selection(df)\n",
    "    \n",
    "    return df\n",
    "\n",
    "dfx = feature_engineering(data)"
   ]
  },
  {
   "cell_type": "code",
   "execution_count": 11058,
   "metadata": {},
   "outputs": [],
   "source": [
    "dfx = target_trend_engineering(dfx)"
   ]
  },
  {
   "cell_type": "code",
   "execution_count": 11059,
   "metadata": {},
   "outputs": [
    {
     "data": {
      "image/png": "[encoded data removed]",
      "text/plain": [
       "<Figure size 1152x864 with 2 Axes>"
      ]
     },
     "metadata": {},
     "output_type": "display_data"
    }
   ],
   "source": [
    "def corr_chart(df):\n",
    "    \n",
    "    corr = dfx.corr()\n",
    "\n",
    "    mask = np.zeros_like(corr, dtype=np.bool)\n",
    "    mask[np.triu_indices_from(mask)] = True\n",
    "\n",
    "    # Set up the matplotlib figure\n",
    "    sns.set_style('whitegrid')\n",
    "    f, ax = plt.subplots(figsize=(16, 12))\n",
    "\n",
    "    # Generate a custom diverging colormap\n",
    "    cmap = sns.diverging_palette(220, 10, as_cmap=True)\n",
    "\n",
    "    # Draw the heatmap with the mask and correct aspect ratio\n",
    "    sns.heatmap(corr, mask=mask, cmap=cmap, vmax=1, vmin=-1, center=0,\n",
    "                square=True, linewidths=.75, annot=False, cbar_kws={\"shrink\": .75});\n",
    "    \n",
    "corr_chart(dfx)"
   ]
  },
  {
   "cell_type": "markdown",
   "metadata": {},
   "source": [
    "## Update Sales"
   ]
  },
  {
   "cell_type": "code",
   "execution_count": 11060,
   "metadata": {},
   "outputs": [],
   "source": [
    "# # File from Start based on Target Variable\n",
    "# current_sales_df = import_parse(rest_1_file)"
   ]
  },
  {
   "cell_type": "code",
   "execution_count": 11061,
   "metadata": {},
   "outputs": [],
   "source": [
    "# date = '2019-06-13'\n",
    "# sales = 15209.75\n",
    "# covers = 207\n",
    "# outside = 1\n",
    "# closed = 0\n",
    "\n",
    "# def add_sales_row(date, sales):\n",
    "    \n",
    "#     df = pd.DataFrame({'sales': sales,\n",
    "#                        'covers': covers,\n",
    "#                       'outside': outside,\n",
    "#                       'closed': closed},\n",
    "#                        index=[date])\n",
    "    \n",
    "#     return df\n",
    "\n",
    "# temp = add_sales_row(date, sales)"
   ]
  },
  {
   "cell_type": "code",
   "execution_count": 11062,
   "metadata": {},
   "outputs": [],
   "source": [
    "# def build_sales_df(df, temp):\n",
    "    \n",
    "#     df = df.append(temp)\n",
    "    \n",
    "#     return df\n",
    "    \n",
    "# current_sales_df = build_sales_df(current_sales_df, temp)"
   ]
  },
  {
   "cell_type": "code",
   "execution_count": 11063,
   "metadata": {},
   "outputs": [],
   "source": [
    "# # Download Current DataFrame to CSV\n",
    "# current_sales_df.to_csv(f'rest_1_clean_updated_{start_date}_to_{end_date}.csv')"
   ]
  },
  {
   "cell_type": "code",
   "execution_count": 11064,
   "metadata": {},
   "outputs": [],
   "source": [
    "# df_import = pd.read_csv('rest_1_clean_updated_2017-01-01_to_2019-06-17.csv', parse_dates=True, index_col='Unnamed: 0')\n",
    "\n",
    "# def import_current(df):\n",
    "    \n",
    "#     df.index = pd.to_datetime(df.index)\n",
    "    \n",
    "#     df = add_ppa(df)\n",
    "    \n",
    "#     target_list = ['sales', 'covers', 'ppa']\n",
    "\n",
    "#     target_to_drop = [t for t in target_list if t != target]\n",
    "\n",
    "#     df = df.drop(target_to_drop, axis=1)\n",
    "    \n",
    "#     return df\n",
    "\n",
    "# current_df = import_current(df_import)"
   ]
  },
  {
   "cell_type": "markdown",
   "metadata": {},
   "source": [
    "### Add Recent Sales Data"
   ]
  },
  {
   "cell_type": "code",
   "execution_count": 11065,
   "metadata": {},
   "outputs": [],
   "source": [
    "# # Import Most Recent DataFrame\n",
    "# df_before_features = pd.read_csv('csv_before_features.csv', index_col='date', parse_dates=True)\n",
    "\n",
    "# # Create New Weather DataFrame with Updated Data\n",
    "# new_date_start = '2019-06-15'\n",
    "# new_date_end = '2019-06-17'\n",
    "\n",
    "# def update_current_df(sales_df, df_before_features, new_date_start, new_end_date):\n",
    "    \n",
    "#     sales_df = sales_df[new_date_start:]\n",
    "    \n",
    "#     sales_df = sales_df.rename_axis(index = 'date')\n",
    "#     sales_df.index = pd.to_datetime(sales_df.index)\n",
    "\n",
    "#     ## Find Lat Long for Business\n",
    "#     lat, long = yelp_lat_long(search_business, location)\n",
    "\n",
    "#     ## Pull Weather Data / Forecast\n",
    "#     weather_df = build_weather_df(weather_call(new_date_start, new_date_end, lat, long))\n",
    "    \n",
    "#     ## Parse, Clean, Engineer\n",
    "#     df = pd.merge(sales_df, weather_df, how='left', on='date')\n",
    "#     df, _ = one_hot_temp(df, temp_enc)\n",
    "#     df = pd.concat([df_before_features, df])\n",
    "#     df = target_trend_engineering(feature_engineering(df))\n",
    "    \n",
    "#     return df\n",
    "    \n",
    "# current_df = update_current_df(current_df, df_before_features, new_date_start, new_date_end)"
   ]
  },
  {
   "cell_type": "markdown",
   "metadata": {},
   "source": [
    "## Test / Train / Split"
   ]
  },
  {
   "cell_type": "markdown",
   "metadata": {},
   "source": [
    "### Drop Closed Days?"
   ]
  },
  {
   "cell_type": "code",
   "execution_count": 11066,
   "metadata": {},
   "outputs": [],
   "source": [
    "drop_all_closed = False\n",
    "\n",
    "if drop_all_closed:\n",
    "    \n",
    "    current_df = current_df[current_df['closed'] == 0]"
   ]
  },
  {
   "cell_type": "code",
   "execution_count": 11067,
   "metadata": {},
   "outputs": [
    {
     "data": {
      "text/plain": [
       "Index(['sales', 'humidity', 'precip_prob', 'closed', 'temp_very_cold',\n",
       "       'temp_cold', 'temp_hot', 'temp_very_hot', 'precip_while_open',\n",
       "       'sunday_three_day', 'day_of_week_1', 'day_of_week_2', 'day_of_week_3',\n",
       "       'day_of_week_4', 'day_of_week_5', 'day_of_week_6', 'month_cluster_0',\n",
       "       'month_cluster_1', 'month_cluster_2', 'outside_X_precip_open',\n",
       "       'temp_very_cold_X_outside', 'temp_cold_X_outside', 'temp_hot_X_outside',\n",
       "       'temp_very_hot_X_outside', 'target_trend'],\n",
       "      dtype='object')"
      ]
     },
     "execution_count": 11067,
     "metadata": {},
     "output_type": "execute_result"
    }
   ],
   "source": [
    "dfx.columns"
   ]
  },
  {
   "cell_type": "code",
   "execution_count": 11068,
   "metadata": {},
   "outputs": [
    {
     "data": {
      "text/html": [
       "<div>\n",
       "<style scoped>\n",
       "    .dataframe tbody tr th:only-of-type {\n",
       "        vertical-align: middle;\n",
       "    }\n",
       "\n",
       "    .dataframe tbody tr th {\n",
       "        vertical-align: top;\n",
       "    }\n",
       "\n",
       "    .dataframe thead th {\n",
       "        text-align: right;\n",
       "    }\n",
       "</style>\n",
       "<table border=\"1\" class=\"dataframe\">\n",
       "  <thead>\n",
       "    <tr style=\"text-align: right;\">\n",
       "      <th></th>\n",
       "      <th>sales</th>\n",
       "      <th>humidity</th>\n",
       "      <th>precip_prob</th>\n",
       "      <th>closed</th>\n",
       "      <th>temp_very_cold</th>\n",
       "      <th>temp_cold</th>\n",
       "      <th>temp_hot</th>\n",
       "      <th>temp_very_hot</th>\n",
       "      <th>precip_while_open</th>\n",
       "      <th>sunday_three_day</th>\n",
       "      <th>...</th>\n",
       "      <th>day_of_week_6</th>\n",
       "      <th>month_cluster_0</th>\n",
       "      <th>month_cluster_1</th>\n",
       "      <th>month_cluster_2</th>\n",
       "      <th>outside_X_precip_open</th>\n",
       "      <th>temp_very_cold_X_outside</th>\n",
       "      <th>temp_cold_X_outside</th>\n",
       "      <th>temp_hot_X_outside</th>\n",
       "      <th>temp_very_hot_X_outside</th>\n",
       "      <th>target_trend</th>\n",
       "    </tr>\n",
       "    <tr>\n",
       "      <th>date</th>\n",
       "      <th></th>\n",
       "      <th></th>\n",
       "      <th></th>\n",
       "      <th></th>\n",
       "      <th></th>\n",
       "      <th></th>\n",
       "      <th></th>\n",
       "      <th></th>\n",
       "      <th></th>\n",
       "      <th></th>\n",
       "      <th></th>\n",
       "      <th></th>\n",
       "      <th></th>\n",
       "      <th></th>\n",
       "      <th></th>\n",
       "      <th></th>\n",
       "      <th></th>\n",
       "      <th></th>\n",
       "      <th></th>\n",
       "      <th></th>\n",
       "      <th></th>\n",
       "    </tr>\n",
       "  </thead>\n",
       "  <tbody>\n",
       "    <tr>\n",
       "      <th>2017-01-02</th>\n",
       "      <td>12814.84</td>\n",
       "      <td>0.93</td>\n",
       "      <td>0.74</td>\n",
       "      <td>0</td>\n",
       "      <td>0.0</td>\n",
       "      <td>1.0</td>\n",
       "      <td>0.0</td>\n",
       "      <td>0.0</td>\n",
       "      <td>0</td>\n",
       "      <td>0</td>\n",
       "      <td>...</td>\n",
       "      <td>0</td>\n",
       "      <td>0</td>\n",
       "      <td>0</td>\n",
       "      <td>1</td>\n",
       "      <td>0</td>\n",
       "      <td>0.0</td>\n",
       "      <td>0.0</td>\n",
       "      <td>0.0</td>\n",
       "      <td>0.0</td>\n",
       "      <td>NaN</td>\n",
       "    </tr>\n",
       "    <tr>\n",
       "      <th>2017-01-03</th>\n",
       "      <td>12442.11</td>\n",
       "      <td>0.95</td>\n",
       "      <td>0.70</td>\n",
       "      <td>0</td>\n",
       "      <td>0.0</td>\n",
       "      <td>0.0</td>\n",
       "      <td>0.0</td>\n",
       "      <td>0.0</td>\n",
       "      <td>1</td>\n",
       "      <td>0</td>\n",
       "      <td>...</td>\n",
       "      <td>0</td>\n",
       "      <td>0</td>\n",
       "      <td>0</td>\n",
       "      <td>1</td>\n",
       "      <td>0</td>\n",
       "      <td>0.0</td>\n",
       "      <td>0.0</td>\n",
       "      <td>0.0</td>\n",
       "      <td>0.0</td>\n",
       "      <td>NaN</td>\n",
       "    </tr>\n",
       "    <tr>\n",
       "      <th>2017-01-04</th>\n",
       "      <td>11877.64</td>\n",
       "      <td>0.37</td>\n",
       "      <td>0.00</td>\n",
       "      <td>0</td>\n",
       "      <td>0.0</td>\n",
       "      <td>1.0</td>\n",
       "      <td>0.0</td>\n",
       "      <td>0.0</td>\n",
       "      <td>0</td>\n",
       "      <td>0</td>\n",
       "      <td>...</td>\n",
       "      <td>0</td>\n",
       "      <td>0</td>\n",
       "      <td>0</td>\n",
       "      <td>1</td>\n",
       "      <td>0</td>\n",
       "      <td>0.0</td>\n",
       "      <td>0.0</td>\n",
       "      <td>0.0</td>\n",
       "      <td>0.0</td>\n",
       "      <td>NaN</td>\n",
       "    </tr>\n",
       "    <tr>\n",
       "      <th>2017-01-05</th>\n",
       "      <td>14057.79</td>\n",
       "      <td>0.49</td>\n",
       "      <td>0.00</td>\n",
       "      <td>0</td>\n",
       "      <td>0.0</td>\n",
       "      <td>1.0</td>\n",
       "      <td>0.0</td>\n",
       "      <td>0.0</td>\n",
       "      <td>0</td>\n",
       "      <td>0</td>\n",
       "      <td>...</td>\n",
       "      <td>0</td>\n",
       "      <td>0</td>\n",
       "      <td>0</td>\n",
       "      <td>1</td>\n",
       "      <td>0</td>\n",
       "      <td>0.0</td>\n",
       "      <td>0.0</td>\n",
       "      <td>0.0</td>\n",
       "      <td>0.0</td>\n",
       "      <td>NaN</td>\n",
       "    </tr>\n",
       "    <tr>\n",
       "      <th>2017-01-06</th>\n",
       "      <td>14531.97</td>\n",
       "      <td>0.49</td>\n",
       "      <td>0.00</td>\n",
       "      <td>0</td>\n",
       "      <td>0.0</td>\n",
       "      <td>1.0</td>\n",
       "      <td>0.0</td>\n",
       "      <td>0.0</td>\n",
       "      <td>0</td>\n",
       "      <td>0</td>\n",
       "      <td>...</td>\n",
       "      <td>0</td>\n",
       "      <td>0</td>\n",
       "      <td>0</td>\n",
       "      <td>1</td>\n",
       "      <td>0</td>\n",
       "      <td>0.0</td>\n",
       "      <td>0.0</td>\n",
       "      <td>0.0</td>\n",
       "      <td>0.0</td>\n",
       "      <td>NaN</td>\n",
       "    </tr>\n",
       "  </tbody>\n",
       "</table>\n",
       "<p>5 rows × 25 columns</p>\n",
       "</div>"
      ],
      "text/plain": [
       "               sales  humidity  precip_prob  closed  temp_very_cold  \\\n",
       "date                                                                  \n",
       "2017-01-02  12814.84      0.93         0.74       0             0.0   \n",
       "2017-01-03  12442.11      0.95         0.70       0             0.0   \n",
       "2017-01-04  11877.64      0.37         0.00       0             0.0   \n",
       "2017-01-05  14057.79      0.49         0.00       0             0.0   \n",
       "2017-01-06  14531.97      0.49         0.00       0             0.0   \n",
       "\n",
       "            temp_cold  temp_hot  temp_very_hot  precip_while_open  \\\n",
       "date                                                                \n",
       "2017-01-02        1.0       0.0            0.0                  0   \n",
       "2017-01-03        0.0       0.0            0.0                  1   \n",
       "2017-01-04        1.0       0.0            0.0                  0   \n",
       "2017-01-05        1.0       0.0            0.0                  0   \n",
       "2017-01-06        1.0       0.0            0.0                  0   \n",
       "\n",
       "            sunday_three_day  ...  day_of_week_6  month_cluster_0  \\\n",
       "date                          ...                                   \n",
       "2017-01-02                 0  ...              0                0   \n",
       "2017-01-03                 0  ...              0                0   \n",
       "2017-01-04                 0  ...              0                0   \n",
       "2017-01-05                 0  ...              0                0   \n",
       "2017-01-06                 0  ...              0                0   \n",
       "\n",
       "            month_cluster_1  month_cluster_2  outside_X_precip_open  \\\n",
       "date                                                                  \n",
       "2017-01-02                0                1                      0   \n",
       "2017-01-03                0                1                      0   \n",
       "2017-01-04                0                1                      0   \n",
       "2017-01-05                0                1                      0   \n",
       "2017-01-06                0                1                      0   \n",
       "\n",
       "            temp_very_cold_X_outside  temp_cold_X_outside  temp_hot_X_outside  \\\n",
       "date                                                                            \n",
       "2017-01-02                       0.0                  0.0                 0.0   \n",
       "2017-01-03                       0.0                  0.0                 0.0   \n",
       "2017-01-04                       0.0                  0.0                 0.0   \n",
       "2017-01-05                       0.0                  0.0                 0.0   \n",
       "2017-01-06                       0.0                  0.0                 0.0   \n",
       "\n",
       "            temp_very_hot_X_outside  target_trend  \n",
       "date                                               \n",
       "2017-01-02                      0.0           NaN  \n",
       "2017-01-03                      0.0           NaN  \n",
       "2017-01-04                      0.0           NaN  \n",
       "2017-01-05                      0.0           NaN  \n",
       "2017-01-06                      0.0           NaN  \n",
       "\n",
       "[5 rows x 25 columns]"
      ]
     },
     "execution_count": 11068,
     "metadata": {},
     "output_type": "execute_result"
    }
   ],
   "source": [
    "def drop_weather(df):\n",
    "    \n",
    "    no_weather = False\n",
    "\n",
    "    if no_weather:\n",
    "\n",
    "        df = df.drop(['humidity', 'precip_prob', 'temp_very_cold', 'temp_cold', 'temp_hot', 'temp_very_hot', 'precip_while_open', \\\n",
    "                     'temp_very_cold_X_outside', 'temp_cold_X_outside', 'temp_hot_X_outside','temp_very_hot_X_outside', 'outside_X_precip_open'], axis=1)\n",
    "        \n",
    "        df = df.merge(df_outside, on='date', how='left')\n",
    "        \n",
    "        return df\n",
    "    \n",
    "    else:\n",
    "        \n",
    "        return df\n",
    "    \n",
    "dfx = drop_weather(dfx)\n",
    "dfx.head()\n",
    "    "
   ]
  },
  {
   "cell_type": "code",
   "execution_count": 11069,
   "metadata": {},
   "outputs": [],
   "source": [
    "def cv_split(df):\n",
    "    \n",
    "    features = dfx.drop([target], axis=1)[days_fwd:]\n",
    "    y = dfx[target][days_fwd:]\n",
    "    \n",
    "    return features, y\n",
    "\n",
    "cv_features, cv_y = cv_split(dfx)"
   ]
  },
  {
   "cell_type": "code",
   "execution_count": 11070,
   "metadata": {},
   "outputs": [
    {
     "name": "stdout",
     "output_type": "stream",
     "text": [
      "Train set:  694\n",
      "Test set:  167\n"
     ]
    }
   ],
   "source": [
    "def train_test_split(df):\n",
    "    \n",
    "    # Separate Target & Features\n",
    "    y = df[target]\n",
    "    features = df.drop([target], axis=1)\n",
    "    \n",
    "    # Test / Train / Split\n",
    "    train_date_start = '2017-01-01'\n",
    "    train_date_end = '2018-12-31'\n",
    "    \n",
    "    X_train = features[pd.to_datetime(train_date_start) + pd.DateOffset(days_fwd):train_date_end]\n",
    "    X_test = features[pd.to_datetime(train_date_end) + pd.DateOffset(1): ]\n",
    "    \n",
    "    y_train = y[pd.to_datetime(train_date_start) + pd.DateOffset(days_fwd):train_date_end]\n",
    "    y_test = y[pd.to_datetime(train_date_end) + pd.DateOffset(1): ]\n",
    "    \n",
    "    # Scale\n",
    "    scaler = MinMaxScaler()\n",
    "    X_train_scaled = scaler.fit_transform(X_train)\n",
    "    X_test_scaled = scaler.transform(X_test)\n",
    "    \n",
    "    X_train = pd.DataFrame(X_train_scaled, columns=X_train.columns)\n",
    "    X_test = pd.DataFrame(X_test_scaled, columns=X_train.columns)\n",
    "    \n",
    "    print('Train set: ', len(X_train))\n",
    "    print('Test set: ', len(X_test))\n",
    "    \n",
    "    return X_train, X_test, y_train, y_test, scaler\n",
    "    \n",
    "X_train, X_test, y_train, y_test, scaler = train_test_split(dfx)"
   ]
  },
  {
   "cell_type": "markdown",
   "metadata": {},
   "source": [
    "### Linear Regression"
   ]
  },
  {
   "cell_type": "code",
   "execution_count": 11083,
   "metadata": {},
   "outputs": [],
   "source": [
    "def linear_regression_model(X_train, y_train):\n",
    "    \n",
    "    lr = LinearRegression(fit_intercept=True)\n",
    "    lr_rgr = lr.fit(X_train, y_train)\n",
    "    \n",
    "    return lr_rgr"
   ]
  },
  {
   "cell_type": "code",
   "execution_count": 11084,
   "metadata": {},
   "outputs": [],
   "source": [
    "lr_rgr = linear_regression_model(X_train, y_train)"
   ]
  },
  {
   "cell_type": "code",
   "execution_count": 11099,
   "metadata": {
    "scrolled": true
   },
   "outputs": [],
   "source": [
    "def rgr_score(rgr, X_train, y_train, X_test, y_test, cv_features, cv_y):\n",
    "    \n",
    "    y_hat = rgr.predict(X_test)\n",
    "    sum_squares_residual = sum((y_test - y_hat)**2)\n",
    "    sum_squares_total = sum((y_test - np.mean(y_test))**2)\n",
    "    r_squared = 1 - (float(sum_squares_residual))/sum_squares_total\n",
    "    adjusted_r_squared = 1 - (1-r_squared)*(len(y_test)-1)/(len(y_test)-X_test.shape[1]-1)\n",
    "    print('Formula Scores - R-Squared: ', r_squared, 'Adjusted R-Squared: ', adjusted_r_squared, '\\n')\n",
    "    \n",
    "    train_score = rgr.score(X_train, y_train)\n",
    "    test_score = rgr.score(X_test, y_test)\n",
    "    \n",
    "    y_pred = rgr.predict(X_test)\n",
    "    rmse = np.sqrt(mean_squared_error(y_test, y_pred))\n",
    "    \n",
    "    pred_df = pd.DataFrame(y_pred, index=y_test.index)\n",
    "    pred_df = pred_df.rename(columns={0: target})\n",
    "    \n",
    "    print('Train R-Squared:  ', train_score)\n",
    "    print('Test R-Squared:  ', test_score, '\\n')\n",
    "    \n",
    "    print('Root Mean Squared Error: ', rmse, '\\n')\n",
    "    \n",
    "    print('Cross Val Avg R-Squared: ',  \\\n",
    "          np.mean(cross_val_score(rgr, cv_features, cv_y, cv=10, scoring='r2')), '\\n')\n",
    "    \n",
    "    print('Intercept:  ', rgr.intercept_, '\\n')\n",
    "    print('Coefficients:  \\n')\n",
    "    \n",
    "    for index, col_name in enumerate(X_test.columns):\n",
    "        print(col_name, ' --> ', rgr.coef_[index])\n",
    "        \n",
    "    return pred_df"
   ]
  },
  {
   "cell_type": "code",
   "execution_count": 11100,
   "metadata": {},
   "outputs": [
    {
     "name": "stdout",
     "output_type": "stream",
     "text": [
      "Formula Scores - R-Squared:  0.8363022823103554 Adjusted R-Squared:  0.8086350624191478 \n",
      "\n",
      "Train R-Squared:   0.776665470464297\n",
      "Test R-Squared:   0.8363022823103555 \n",
      "\n",
      "Root Mean Squared Error:  1280.1068029805763 \n",
      "\n",
      "Cross Val Avg R-Squared:  0.6744766271945245 \n",
      "\n",
      "Intercept:   13465.849765498651 \n",
      "\n",
      "Coefficients:  \n",
      "\n",
      "humidity  -->  -1226.7337694537487\n",
      "precip_prob  -->  -525.0397241302782\n",
      "closed  -->  -13871.749691030194\n",
      "temp_very_cold  -->  -437.4308356153664\n",
      "temp_cold  -->  -366.5266751394199\n",
      "temp_hot  -->  169.30524155012432\n",
      "temp_very_hot  -->  -623.7120109044068\n",
      "precip_while_open  -->  397.26608559439944\n",
      "sunday_three_day  -->  1398.0503418934488\n",
      "day_of_week_1  -->  -112.88235140869043\n",
      "day_of_week_2  -->  305.56116185753353\n",
      "day_of_week_3  -->  908.4044419947082\n",
      "day_of_week_4  -->  2597.8530745707376\n",
      "day_of_week_5  -->  3773.0535821875515\n",
      "day_of_week_6  -->  1131.5668466716668\n",
      "month_cluster_0  -->  157.41083356057382\n",
      "month_cluster_1  -->  229.51736385427233\n",
      "month_cluster_2  -->  -386.92819741483703\n",
      "outside_X_precip_open  -->  -1320.8095405693434\n",
      "temp_very_cold_X_outside  -->  -1041.5734403267152\n",
      "temp_cold_X_outside  -->  338.01234921195686\n",
      "temp_hot_X_outside  -->  2645.6556155040876\n",
      "temp_very_hot_X_outside  -->  4159.290573773184\n",
      "target_trend  -->  2208.408960474997\n"
     ]
    }
   ],
   "source": [
    "pred_df = rgr_score(lr_rgr, X_train, y_train, X_test, y_test, cv_features, cv_y)"
   ]
  },
  {
   "cell_type": "markdown",
   "metadata": {},
   "source": [
    "### Prediction Function"
   ]
  },
  {
   "cell_type": "code",
   "execution_count": 11094,
   "metadata": {},
   "outputs": [],
   "source": [
    "outside = 1\n",
    "\n",
    "def predict_df(clf, scaler, X_train, current_df, date_1, date_2):\n",
    "    \n",
    "    # Find Lat Long for Business\n",
    "    lat, long = yelp_lat_long(search_business, location)\n",
    "    \n",
    "    # Pull Weather Data / Forecast\n",
    "    weather_df = build_weather_df(weather_call(date_1, date_2, lat, long))\n",
    "    \n",
    "    day_of_week, apparent_temperature = weather_df['day_of_week'], weather_df['apparent_temperature']\n",
    "    weather_df['outside'] = outside\n",
    "    \n",
    "    # One Hot Encode Temperature Using Fitted Encoder\n",
    "    df, _ = one_hot_temp(weather_df, temp_enc)\n",
    "    \n",
    "    df['closed'] = 0\n",
    "    \n",
    "    # Add Feature Engineering\n",
    "    df = feature_engineering(df)\n",
    "    \n",
    "    # Add Sales Data for Sales Trend Engineering\n",
    "    current_df = current_df[target]\n",
    "    df = pd.merge(df, current_df, on='date', how='left')\n",
    "    df[target] = df[target].fillna(method='ffill')\n",
    "    \n",
    "    df = target_trend_engineering(df)\n",
    "    df = df.drop([target], axis=1)\n",
    "    \n",
    "    # Ensure Column Parity\n",
    "    missing_cols = set(X_train.columns) - set(df.columns)\n",
    "    \n",
    "    for c in missing_cols:\n",
    "        df[c] = 0\n",
    "        \n",
    "    df = df[X_train.columns][-2:]\n",
    "    \n",
    "    # Scale Transform\n",
    "    df_scaled = scaler.transform(df)\n",
    "    df = pd.DataFrame(df_scaled, columns=df.columns, index=df.index)\n",
    "    \n",
    "    # Predict and Build Prediction DataFrame for Review\n",
    "    pred_array = pd.DataFrame(clf.predict(df), index=df.index, columns=[target])\n",
    "    pred_df = df[df.columns[(df != 0).any()]]\n",
    "    pred_df = pd.concat([pred_df, day_of_week, apparent_temperature], axis=1)\n",
    "    \n",
    "    final_predict = pd.concat([pred_array, pred_df], axis=1)\n",
    "    \n",
    "    return final_predict"
   ]
  },
  {
   "cell_type": "code",
   "execution_count": 11012,
   "metadata": {},
   "outputs": [
    {
     "data": {
      "text/html": [
       "<div>\n",
       "<style scoped>\n",
       "    .dataframe tbody tr th:only-of-type {\n",
       "        vertical-align: middle;\n",
       "    }\n",
       "\n",
       "    .dataframe tbody tr th {\n",
       "        vertical-align: top;\n",
       "    }\n",
       "\n",
       "    .dataframe thead th {\n",
       "        text-align: right;\n",
       "    }\n",
       "</style>\n",
       "<table border=\"1\" class=\"dataframe\">\n",
       "  <thead>\n",
       "    <tr style=\"text-align: right;\">\n",
       "      <th></th>\n",
       "      <th>sales</th>\n",
       "      <th>humidity</th>\n",
       "      <th>precip_prob</th>\n",
       "      <th>temp_very_hot</th>\n",
       "      <th>precip_while_open</th>\n",
       "      <th>day_of_week_1</th>\n",
       "      <th>month_cluster_0</th>\n",
       "      <th>outside_X_precip_open</th>\n",
       "      <th>temp_very_hot_X_outside</th>\n",
       "      <th>target_trend</th>\n",
       "      <th>day_of_week</th>\n",
       "      <th>apparent_temperature</th>\n",
       "    </tr>\n",
       "    <tr>\n",
       "      <th>date</th>\n",
       "      <th></th>\n",
       "      <th></th>\n",
       "      <th></th>\n",
       "      <th></th>\n",
       "      <th></th>\n",
       "      <th></th>\n",
       "      <th></th>\n",
       "      <th></th>\n",
       "      <th></th>\n",
       "      <th></th>\n",
       "      <th></th>\n",
       "      <th></th>\n",
       "    </tr>\n",
       "  </thead>\n",
       "  <tbody>\n",
       "    <tr>\n",
       "      <th>2019-06-17</th>\n",
       "      <td>17271.785286</td>\n",
       "      <td>0.689189</td>\n",
       "      <td>0.00</td>\n",
       "      <td>1.0</td>\n",
       "      <td>0.0</td>\n",
       "      <td>0.0</td>\n",
       "      <td>1.0</td>\n",
       "      <td>0.0</td>\n",
       "      <td>1.0</td>\n",
       "      <td>0.424460</td>\n",
       "      <td>0</td>\n",
       "      <td>72.89</td>\n",
       "    </tr>\n",
       "    <tr>\n",
       "      <th>2019-06-18</th>\n",
       "      <td>14989.955588</td>\n",
       "      <td>0.837838</td>\n",
       "      <td>0.39</td>\n",
       "      <td>1.0</td>\n",
       "      <td>1.0</td>\n",
       "      <td>1.0</td>\n",
       "      <td>1.0</td>\n",
       "      <td>1.0</td>\n",
       "      <td>1.0</td>\n",
       "      <td>0.356883</td>\n",
       "      <td>1</td>\n",
       "      <td>71.21</td>\n",
       "    </tr>\n",
       "  </tbody>\n",
       "</table>\n",
       "</div>"
      ],
      "text/plain": [
       "                   sales  humidity  precip_prob  temp_very_hot  \\\n",
       "date                                                             \n",
       "2019-06-17  17271.785286  0.689189         0.00            1.0   \n",
       "2019-06-18  14989.955588  0.837838         0.39            1.0   \n",
       "\n",
       "            precip_while_open  day_of_week_1  month_cluster_0  \\\n",
       "date                                                            \n",
       "2019-06-17                0.0            0.0              1.0   \n",
       "2019-06-18                1.0            1.0              1.0   \n",
       "\n",
       "            outside_X_precip_open  temp_very_hot_X_outside  target_trend  \\\n",
       "date                                                                       \n",
       "2019-06-17                    0.0                      1.0      0.424460   \n",
       "2019-06-18                    1.0                      1.0      0.356883   \n",
       "\n",
       "            day_of_week  apparent_temperature  \n",
       "date                                           \n",
       "2019-06-17            0                 72.89  \n",
       "2019-06-18            1                 71.21  "
      ]
     },
     "execution_count": 11012,
     "metadata": {},
     "output_type": "execute_result"
    }
   ],
   "source": [
    "##### tonight = predict_df(lr_rgr, scaler, X_train, dfx, pd.datetime.now().date() + pd.DateOffset(-days_fwd), pd.datetime.now().date())\n",
    "tonight[-2:]"
   ]
  },
  {
   "cell_type": "markdown",
   "metadata": {},
   "source": [
    "## Lasso"
   ]
  },
  {
   "cell_type": "code",
   "execution_count": 11095,
   "metadata": {
    "scrolled": true
   },
   "outputs": [],
   "source": [
    "def lasso_model(X_train, y_train):\n",
    "\n",
    "    lassoReg = Lasso(fit_intercept=True, alpha=.05)\n",
    "    lasso_rgr = lassoReg.fit(X_train,y_train)\n",
    "\n",
    "    return lasso_rgr\n",
    "\n",
    "lasso_rgr = lasso_model(X_train, y_train)"
   ]
  },
  {
   "cell_type": "code",
   "execution_count": 11096,
   "metadata": {
    "scrolled": false
   },
   "outputs": [
    {
     "name": "stdout",
     "output_type": "stream",
     "text": [
      "Formula Scores - R-Squared:  0.8362950676641026 Adjusted R-Squared:  0.8086266283960635 \n",
      "\n",
      "Train R-Squared:   0.776665128427749\n",
      "Test R-Squared:   0.8362950676641027 \n",
      "\n",
      "Root Mean Squared Error:  1280.1350117305906 \n",
      "\n",
      "Cross Val Avg R-Squared:  0.6744443609807466 \n",
      "\n",
      "Intercept:   13359.630689389376 \n",
      "\n",
      "Coefficients:  \n",
      "\n",
      "humidity  -->  -1225.828899676084\n",
      "precip_prob  -->  -523.7638923557989\n",
      "closed  -->  -13867.711165338429\n",
      "temp_very_cold  -->  -437.1952846654935\n",
      "temp_cold  -->  -365.05582217248656\n",
      "temp_hot  -->  169.6873399150527\n",
      "temp_very_hot  -->  -615.0869144790602\n",
      "precip_while_open  -->  393.6500814197901\n",
      "sunday_three_day  -->  1393.5344380359372\n",
      "day_of_week_1  -->  -114.2906330306442\n",
      "day_of_week_2  -->  303.9564580142907\n",
      "day_of_week_3  -->  906.5896148917041\n",
      "day_of_week_4  -->  2596.178613566494\n",
      "day_of_week_5  -->  3771.418005306698\n",
      "day_of_week_6  -->  1130.335559613496\n",
      "month_cluster_0  -->  265.46305090901876\n",
      "month_cluster_1  -->  336.5260491007807\n",
      "month_cluster_2  -->  -278.72905025057906\n",
      "outside_X_precip_open  -->  -1316.5030879624858\n",
      "temp_very_cold_X_outside  -->  -1028.714692853558\n",
      "temp_cold_X_outside  -->  318.29143760618416\n",
      "temp_hot_X_outside  -->  2645.2444687855586\n",
      "temp_very_hot_X_outside  -->  4150.597309964684\n",
      "target_trend  -->  2206.024875306471\n"
     ]
    }
   ],
   "source": [
    "pred_df_ppa_lasso = rgr_score(lasso_rgr, X_train, y_train, X_test, y_test, cv_features, cv_y)"
   ]
  },
  {
   "cell_type": "code",
   "execution_count": 11015,
   "metadata": {},
   "outputs": [
    {
     "name": "stdout",
     "output_type": "stream",
     "text": [
      "Weather Location: Jupiter Disco\n"
     ]
    },
    {
     "data": {
      "text/html": [
       "<div>\n",
       "<style scoped>\n",
       "    .dataframe tbody tr th:only-of-type {\n",
       "        vertical-align: middle;\n",
       "    }\n",
       "\n",
       "    .dataframe tbody tr th {\n",
       "        vertical-align: top;\n",
       "    }\n",
       "\n",
       "    .dataframe thead th {\n",
       "        text-align: right;\n",
       "    }\n",
       "</style>\n",
       "<table border=\"1\" class=\"dataframe\">\n",
       "  <thead>\n",
       "    <tr style=\"text-align: right;\">\n",
       "      <th></th>\n",
       "      <th>covers</th>\n",
       "      <th>humidity</th>\n",
       "      <th>precip_prob</th>\n",
       "      <th>temp_very_hot</th>\n",
       "      <th>precip_while_open</th>\n",
       "      <th>day_of_week_1</th>\n",
       "      <th>month_cluster_1</th>\n",
       "      <th>outside_X_precip_open</th>\n",
       "      <th>temp_very_hot_X_outside</th>\n",
       "      <th>target_trend</th>\n",
       "      <th>day_of_week</th>\n",
       "      <th>apparent_temperature</th>\n",
       "    </tr>\n",
       "    <tr>\n",
       "      <th>date</th>\n",
       "      <th></th>\n",
       "      <th></th>\n",
       "      <th></th>\n",
       "      <th></th>\n",
       "      <th></th>\n",
       "      <th></th>\n",
       "      <th></th>\n",
       "      <th></th>\n",
       "      <th></th>\n",
       "      <th></th>\n",
       "      <th></th>\n",
       "      <th></th>\n",
       "    </tr>\n",
       "  </thead>\n",
       "  <tbody>\n",
       "    <tr>\n",
       "      <th>2019-06-17</th>\n",
       "      <td>253.079322</td>\n",
       "      <td>0.689189</td>\n",
       "      <td>0.00</td>\n",
       "      <td>1.0</td>\n",
       "      <td>0.0</td>\n",
       "      <td>0.0</td>\n",
       "      <td>1.0</td>\n",
       "      <td>0.0</td>\n",
       "      <td>1.0</td>\n",
       "      <td>0.403458</td>\n",
       "      <td>0</td>\n",
       "      <td>72.89</td>\n",
       "    </tr>\n",
       "    <tr>\n",
       "      <th>2019-06-18</th>\n",
       "      <td>224.598564</td>\n",
       "      <td>0.837838</td>\n",
       "      <td>0.39</td>\n",
       "      <td>1.0</td>\n",
       "      <td>1.0</td>\n",
       "      <td>1.0</td>\n",
       "      <td>1.0</td>\n",
       "      <td>1.0</td>\n",
       "      <td>1.0</td>\n",
       "      <td>0.361748</td>\n",
       "      <td>1</td>\n",
       "      <td>71.21</td>\n",
       "    </tr>\n",
       "  </tbody>\n",
       "</table>\n",
       "</div>"
      ],
      "text/plain": [
       "                covers  humidity  precip_prob  temp_very_hot  \\\n",
       "date                                                           \n",
       "2019-06-17  253.079322  0.689189         0.00            1.0   \n",
       "2019-06-18  224.598564  0.837838         0.39            1.0   \n",
       "\n",
       "            precip_while_open  day_of_week_1  month_cluster_1  \\\n",
       "date                                                            \n",
       "2019-06-17                0.0            0.0              1.0   \n",
       "2019-06-18                1.0            1.0              1.0   \n",
       "\n",
       "            outside_X_precip_open  temp_very_hot_X_outside  target_trend  \\\n",
       "date                                                                       \n",
       "2019-06-17                    0.0                      1.0      0.403458   \n",
       "2019-06-18                    1.0                      1.0      0.361748   \n",
       "\n",
       "            day_of_week  apparent_temperature  \n",
       "date                                           \n",
       "2019-06-17            0                 72.89  \n",
       "2019-06-18            1                 71.21  "
      ]
     },
     "execution_count": 11015,
     "metadata": {},
     "output_type": "execute_result"
    }
   ],
   "source": [
    "tonight = predict_df(lasso_rgr, scaler, X_train, dfx, pd.datetime.now().date() + pd.DateOffset(-days_fwd), pd.datetime.now().date())\n",
    "tonight[-2:]"
   ]
  },
  {
   "cell_type": "code",
   "execution_count": 11016,
   "metadata": {},
   "outputs": [
    {
     "data": {
      "text/plain": [
       "<Figure size 864x576 with 0 Axes>"
      ]
     },
     "execution_count": 11016,
     "metadata": {},
     "output_type": "execute_result"
    },
    {
     "data": {
      "text/plain": [
       "ResidualsPlot(alpha=0.75,\n",
       "       ax=<matplotlib.axes._subplots.AxesSubplot object at 0x1c3953a128>,\n",
       "       hist=False, line_color=None, model=None, test_color=None,\n",
       "       train_color=None)"
      ]
     },
     "execution_count": 11016,
     "metadata": {},
     "output_type": "execute_result"
    },
    {
     "data": {
      "text/plain": [
       "0.8315237935143288"
      ]
     },
     "execution_count": 11016,
     "metadata": {},
     "output_type": "execute_result"
    },
    {
     "data": {
      "image/png": "[encoded data removed]",
      "text/plain": [
       "<Figure size 864x576 with 1 Axes>"
      ]
     },
     "metadata": {},
     "output_type": "display_data"
    }
   ],
   "source": [
    "from yellowbrick.regressor import ResidualsPlot\n",
    "from yellowbrick.features.importances import FeatureImportances\n",
    "\n",
    "plt.figure(figsize=(12,8))\n",
    "\n",
    "visualizer = ResidualsPlot(lasso_rgr, hist=False)\n",
    "\n",
    "visualizer.fit(X_train, y_train)\n",
    "visualizer.score(X_test, y_test)\n",
    "visualizer.poof()"
   ]
  },
  {
   "cell_type": "code",
   "execution_count": 11017,
   "metadata": {},
   "outputs": [
    {
     "data": {
      "text/plain": [
       "FeatureImportances(absolute=False,\n",
       "          ax=<matplotlib.axes._subplots.AxesSubplot object at 0x1c37e65630>,\n",
       "          labels=['Humidity', 'Precip_Prob', 'Closed', 'Temp_Very_Cold', 'Temp_Cold', 'Temp_Hot', 'Temp_Very_Hot', 'Precip_While_Open', 'Sunday_Three_Day', 'Day_Of_Week_1', 'Day_Of_Week_2', 'Day_Of_Week_3', 'Day_Of_Week_4', 'Day_Of_Week_5', 'Day_Of_Week_6', 'Month_Cluster_0', 'Month_Cluster_1', 'Month_Cluster_2', 'Outside_X_Precip_Open', 'Temp_Very_Cold_X_Outside', 'Temp_Cold_X_Outside', 'Temp_Hot_X_Outside', 'Temp_Very_Hot_X_Outside', 'Target_Trend'],\n",
       "          model=None, relative=False, stack=False, xlabel=None)"
      ]
     },
     "execution_count": 11017,
     "metadata": {},
     "output_type": "execute_result"
    },
    {
     "data": {
      "image/png": "[encoded data removed]",
      "text/plain": [
       "<Figure size 864x576 with 1 Axes>"
      ]
     },
     "metadata": {},
     "output_type": "display_data"
    }
   ],
   "source": [
    "features = list(X_train.columns)\n",
    "\n",
    "fig = plt.figure(figsize=(12,8))\n",
    "ax = fig.add_subplot()\n",
    "\n",
    "labels = list(map(lambda x: x.title(), features))\n",
    "visualizer = FeatureImportances(lasso_rgr, ax=ax, labels=labels, relative=False)\n",
    "\n",
    "visualizer.fit(X_train, y_train)\n",
    "visualizer.poof()"
   ]
  },
  {
   "cell_type": "markdown",
   "metadata": {},
   "source": [
    "### Random Forest Regression"
   ]
  },
  {
   "cell_type": "code",
   "execution_count": 11102,
   "metadata": {},
   "outputs": [],
   "source": [
    "def rf_regression_model(X_train, y_train):\n",
    "    \n",
    "    rfr = RandomForestRegressor(max_depth= 11, \n",
    "                                max_features= 0.60, \n",
    "                                min_impurity_decrease= 0.005, \n",
    "                                n_estimators= 300,\n",
    "                                min_samples_leaf = 2,\n",
    "                                min_samples_split = 2,\n",
    "                                random_state = 0)\n",
    "    \n",
    "    rfr_rgr = rfr.fit(X_train, y_train)\n",
    "    \n",
    "    return rfr_rgr"
   ]
  },
  {
   "cell_type": "code",
   "execution_count": 11103,
   "metadata": {},
   "outputs": [],
   "source": [
    "rfr_rgr = rf_regression_model(X_train, y_train)"
   ]
  },
  {
   "cell_type": "code",
   "execution_count": 11104,
   "metadata": {},
   "outputs": [
    {
     "name": "stdout",
     "output_type": "stream",
     "text": [
      "Formula Scores - R-Squared:  0.8260886604222548 Adjusted R-Squared:  0.7966951945781289 \n",
      "\n",
      "Train R-Squared:   0.8901034470289777\n",
      "Test R-Squared:   0.8260886604222548 \n",
      "\n",
      "Root Mean Squared Error:  1319.4375621324423 \n",
      "\n",
      "Cross Val Avg R-Squared:  0.648814926941405 \n",
      "\n"
     ]
    }
   ],
   "source": [
    "def rfr_score(rgr, X_test, y_test, cv_features, cv_y):\n",
    "    \n",
    "    y_hat = rgr.predict(X_test)\n",
    "    sum_squares_residual = sum((y_test - y_hat)**2)\n",
    "    sum_squares_total = sum((y_test - np.mean(y_test))**2)\n",
    "    r_squared = 1 - (float(sum_squares_residual))/sum_squares_total\n",
    "    adjusted_r_squared = 1 - (1-r_squared)*(len(y_test)-1)/(len(y_test)-X_test.shape[1]-1)\n",
    "    print('Formula Scores - R-Squared: ', r_squared, 'Adjusted R-Squared: ', adjusted_r_squared, '\\n')\n",
    "    \n",
    "    train_score = rgr.score(X_train, y_train)\n",
    "    test_score = rgr.score(X_test, y_test)\n",
    "    \n",
    "    y_pred = rgr.predict(X_test)\n",
    "    rmse = np.sqrt(mean_squared_error(y_test, y_pred))\n",
    "    \n",
    "    pred_df = pd.DataFrame(y_pred, index=y_test.index)\n",
    "    pred_df = pred_df.rename(columns={0: target})\n",
    "    \n",
    "    print('Train R-Squared:  ', train_score)\n",
    "    print('Test R-Squared:  ', test_score, '\\n')\n",
    "    \n",
    "    print('Root Mean Squared Error: ', rmse, '\\n')\n",
    "    \n",
    "    print('Cross Val Avg R-Squared: ',  \\\n",
    "          np.mean(cross_val_score(rgr, cv_features, cv_y, cv=10, scoring='r2')), '\\n')\n",
    "        \n",
    "    return pred_df\n",
    "\n",
    "pred_df = rfr_score(rfr_rgr, X_test, y_test, cv_features, cv_y) "
   ]
  },
  {
   "cell_type": "markdown",
   "metadata": {},
   "source": [
    "# Random Forest Regression Prediction"
   ]
  },
  {
   "cell_type": "code",
   "execution_count": 11025,
   "metadata": {},
   "outputs": [
    {
     "name": "stdout",
     "output_type": "stream",
     "text": [
      "Weather Location: Jupiter Disco\n"
     ]
    },
    {
     "data": {
      "text/html": [
       "<div>\n",
       "<style scoped>\n",
       "    .dataframe tbody tr th:only-of-type {\n",
       "        vertical-align: middle;\n",
       "    }\n",
       "\n",
       "    .dataframe tbody tr th {\n",
       "        vertical-align: top;\n",
       "    }\n",
       "\n",
       "    .dataframe thead th {\n",
       "        text-align: right;\n",
       "    }\n",
       "</style>\n",
       "<table border=\"1\" class=\"dataframe\">\n",
       "  <thead>\n",
       "    <tr style=\"text-align: right;\">\n",
       "      <th></th>\n",
       "      <th>covers</th>\n",
       "      <th>humidity</th>\n",
       "      <th>precip_prob</th>\n",
       "      <th>temp_very_hot</th>\n",
       "      <th>precip_while_open</th>\n",
       "      <th>day_of_week_1</th>\n",
       "      <th>month_cluster_1</th>\n",
       "      <th>outside_X_precip_open</th>\n",
       "      <th>temp_very_hot_X_outside</th>\n",
       "      <th>target_trend</th>\n",
       "      <th>day_of_week</th>\n",
       "      <th>apparent_temperature</th>\n",
       "    </tr>\n",
       "    <tr>\n",
       "      <th>date</th>\n",
       "      <th></th>\n",
       "      <th></th>\n",
       "      <th></th>\n",
       "      <th></th>\n",
       "      <th></th>\n",
       "      <th></th>\n",
       "      <th></th>\n",
       "      <th></th>\n",
       "      <th></th>\n",
       "      <th></th>\n",
       "      <th></th>\n",
       "      <th></th>\n",
       "    </tr>\n",
       "  </thead>\n",
       "  <tbody>\n",
       "    <tr>\n",
       "      <th>2019-06-17</th>\n",
       "      <td>257.478279</td>\n",
       "      <td>0.689189</td>\n",
       "      <td>0.00</td>\n",
       "      <td>1.0</td>\n",
       "      <td>0.0</td>\n",
       "      <td>0.0</td>\n",
       "      <td>1.0</td>\n",
       "      <td>0.0</td>\n",
       "      <td>1.0</td>\n",
       "      <td>0.403458</td>\n",
       "      <td>0</td>\n",
       "      <td>72.89</td>\n",
       "    </tr>\n",
       "    <tr>\n",
       "      <th>2019-06-18</th>\n",
       "      <td>208.705976</td>\n",
       "      <td>0.837838</td>\n",
       "      <td>0.39</td>\n",
       "      <td>1.0</td>\n",
       "      <td>1.0</td>\n",
       "      <td>1.0</td>\n",
       "      <td>1.0</td>\n",
       "      <td>1.0</td>\n",
       "      <td>1.0</td>\n",
       "      <td>0.361748</td>\n",
       "      <td>1</td>\n",
       "      <td>71.09</td>\n",
       "    </tr>\n",
       "  </tbody>\n",
       "</table>\n",
       "</div>"
      ],
      "text/plain": [
       "                covers  humidity  precip_prob  temp_very_hot  \\\n",
       "date                                                           \n",
       "2019-06-17  257.478279  0.689189         0.00            1.0   \n",
       "2019-06-18  208.705976  0.837838         0.39            1.0   \n",
       "\n",
       "            precip_while_open  day_of_week_1  month_cluster_1  \\\n",
       "date                                                            \n",
       "2019-06-17                0.0            0.0              1.0   \n",
       "2019-06-18                1.0            1.0              1.0   \n",
       "\n",
       "            outside_X_precip_open  temp_very_hot_X_outside  target_trend  \\\n",
       "date                                                                       \n",
       "2019-06-17                    0.0                      1.0      0.403458   \n",
       "2019-06-18                    1.0                      1.0      0.361748   \n",
       "\n",
       "            day_of_week  apparent_temperature  \n",
       "date                                           \n",
       "2019-06-17            0                 72.89  \n",
       "2019-06-18            1                 71.09  "
      ]
     },
     "execution_count": 11025,
     "metadata": {},
     "output_type": "execute_result"
    }
   ],
   "source": [
    "tonight = predict_df(rfr_rgr, scaler, X_train, dfx, pd.datetime.now().date() + pd.DateOffset(-days_fwd), pd.datetime.now().date())\n",
    "tonight[-2:]"
   ]
  },
  {
   "cell_type": "markdown",
   "metadata": {},
   "source": [
    "### Grid Search Helper Function"
   ]
  },
  {
   "cell_type": "code",
   "execution_count": 10673,
   "metadata": {},
   "outputs": [],
   "source": [
    "def run_grid_search(rgr, params, X_train, y_train):\n",
    "    \n",
    "    cv = 5\n",
    "    n_jobs = -1\n",
    "    scoring = 'neg_mean_squared_error'\n",
    "    \n",
    "    grid = GridSearchCV(rgr, params, cv=cv, n_jobs=n_jobs, scoring=scoring, verbose=10)\n",
    "    grid = grid.fit(X_train, y_train)\n",
    "    \n",
    "    best_grid_rgr = grid.best_estimator_\n",
    "    \n",
    "    print('Grid Search: ', rgr.__class__.__name__, '\\n')\n",
    "    print('Grid Search Best Score: ', grid.best_score_)\n",
    "    print('Grid Search Best Params: ', grid.best_params_)\n",
    "    print('Grid Search Best Estimator: ', grid.best_estimator_)\n",
    "\n",
    "    return best_grid_rgr\n"
   ]
  },
  {
   "cell_type": "code",
   "execution_count": 10674,
   "metadata": {
    "collapsed": true
   },
   "outputs": [
    {
     "name": "stdout",
     "output_type": "stream",
     "text": [
      "Fitting 5 folds for each of 540 candidates, totalling 2700 fits\n"
     ]
    },
    {
     "name": "stderr",
     "output_type": "stream",
     "text": [
      "[Parallel(n_jobs=-1)]: Using backend LokyBackend with 4 concurrent workers.\n",
      "[Parallel(n_jobs=-1)]: Done   5 tasks      | elapsed:    5.8s\n",
      "[Parallel(n_jobs=-1)]: Done  10 tasks      | elapsed:    6.7s\n",
      "[Parallel(n_jobs=-1)]: Done  17 tasks      | elapsed:    8.4s\n",
      "[Parallel(n_jobs=-1)]: Done  24 tasks      | elapsed:    9.7s\n",
      "[Parallel(n_jobs=-1)]: Done  33 tasks      | elapsed:   12.0s\n",
      "[Parallel(n_jobs=-1)]: Done  42 tasks      | elapsed:   13.4s\n",
      "[Parallel(n_jobs=-1)]: Done  53 tasks      | elapsed:   15.9s\n",
      "[Parallel(n_jobs=-1)]: Done  64 tasks      | elapsed:   18.5s\n",
      "[Parallel(n_jobs=-1)]: Done  77 tasks      | elapsed:   20.8s\n",
      "[Parallel(n_jobs=-1)]: Done  90 tasks      | elapsed:   24.0s\n",
      "[Parallel(n_jobs=-1)]: Done 105 tasks      | elapsed:   26.6s\n",
      "[Parallel(n_jobs=-1)]: Done 120 tasks      | elapsed:   30.1s\n",
      "[Parallel(n_jobs=-1)]: Done 137 tasks      | elapsed:   33.0s\n",
      "[Parallel(n_jobs=-1)]: Done 154 tasks      | elapsed:   36.9s\n",
      "[Parallel(n_jobs=-1)]: Done 173 tasks      | elapsed:   40.9s\n",
      "[Parallel(n_jobs=-1)]: Done 192 tasks      | elapsed:   46.0s\n",
      "[Parallel(n_jobs=-1)]: Done 213 tasks      | elapsed:   52.2s\n",
      "[Parallel(n_jobs=-1)]: Done 234 tasks      | elapsed:   58.6s\n",
      "[Parallel(n_jobs=-1)]: Done 257 tasks      | elapsed:  1.1min\n",
      "[Parallel(n_jobs=-1)]: Done 280 tasks      | elapsed:  1.2min\n",
      "[Parallel(n_jobs=-1)]: Done 305 tasks      | elapsed:  1.3min\n",
      "[Parallel(n_jobs=-1)]: Done 330 tasks      | elapsed:  1.4min\n",
      "[Parallel(n_jobs=-1)]: Done 357 tasks      | elapsed:  1.6min\n",
      "[Parallel(n_jobs=-1)]: Done 384 tasks      | elapsed:  1.7min\n",
      "[Parallel(n_jobs=-1)]: Done 413 tasks      | elapsed:  1.8min\n",
      "[Parallel(n_jobs=-1)]: Done 442 tasks      | elapsed:  2.0min\n",
      "[Parallel(n_jobs=-1)]: Done 473 tasks      | elapsed:  2.2min\n",
      "[Parallel(n_jobs=-1)]: Done 504 tasks      | elapsed:  2.4min\n",
      "[Parallel(n_jobs=-1)]: Done 537 tasks      | elapsed:  2.6min\n",
      "[Parallel(n_jobs=-1)]: Done 570 tasks      | elapsed:  2.8min\n",
      "[Parallel(n_jobs=-1)]: Done 605 tasks      | elapsed:  3.0min\n",
      "[Parallel(n_jobs=-1)]: Done 640 tasks      | elapsed:  3.1min\n",
      "[Parallel(n_jobs=-1)]: Done 677 tasks      | elapsed:  3.3min\n",
      "[Parallel(n_jobs=-1)]: Done 714 tasks      | elapsed:  3.6min\n",
      "[Parallel(n_jobs=-1)]: Done 753 tasks      | elapsed:  3.8min\n",
      "[Parallel(n_jobs=-1)]: Done 792 tasks      | elapsed:  4.0min\n",
      "[Parallel(n_jobs=-1)]: Done 833 tasks      | elapsed:  4.3min\n",
      "[Parallel(n_jobs=-1)]: Done 874 tasks      | elapsed:  4.6min\n",
      "[Parallel(n_jobs=-1)]: Done 917 tasks      | elapsed:  4.9min\n",
      "[Parallel(n_jobs=-1)]: Done 960 tasks      | elapsed:  5.2min\n",
      "[Parallel(n_jobs=-1)]: Done 1005 tasks      | elapsed:  5.5min\n",
      "[Parallel(n_jobs=-1)]: Done 1050 tasks      | elapsed:  5.7min\n",
      "[Parallel(n_jobs=-1)]: Done 1097 tasks      | elapsed:  5.9min\n",
      "[Parallel(n_jobs=-1)]: Done 1144 tasks      | elapsed:  6.2min\n",
      "[Parallel(n_jobs=-1)]: Done 1193 tasks      | elapsed:  6.4min\n",
      "[Parallel(n_jobs=-1)]: Done 1242 tasks      | elapsed:  6.7min\n",
      "[Parallel(n_jobs=-1)]: Done 1293 tasks      | elapsed:  7.0min\n",
      "[Parallel(n_jobs=-1)]: Done 1344 tasks      | elapsed:  7.3min\n",
      "[Parallel(n_jobs=-1)]: Done 1397 tasks      | elapsed:  7.7min\n",
      "[Parallel(n_jobs=-1)]: Done 1450 tasks      | elapsed:  8.1min\n",
      "[Parallel(n_jobs=-1)]: Done 1505 tasks      | elapsed:  8.4min\n",
      "[Parallel(n_jobs=-1)]: Done 1560 tasks      | elapsed:  8.8min\n",
      "[Parallel(n_jobs=-1)]: Done 1617 tasks      | elapsed:  9.1min\n",
      "[Parallel(n_jobs=-1)]: Done 1674 tasks      | elapsed:  9.4min\n",
      "[Parallel(n_jobs=-1)]: Done 1733 tasks      | elapsed:  9.8min\n",
      "[Parallel(n_jobs=-1)]: Done 1792 tasks      | elapsed: 10.2min\n",
      "[Parallel(n_jobs=-1)]: Done 1853 tasks      | elapsed: 10.6min\n",
      "[Parallel(n_jobs=-1)]: Done 1914 tasks      | elapsed: 11.0min\n",
      "[Parallel(n_jobs=-1)]: Done 1977 tasks      | elapsed: 11.4min\n",
      "[Parallel(n_jobs=-1)]: Done 2040 tasks      | elapsed: 11.8min\n",
      "[Parallel(n_jobs=-1)]: Done 2105 tasks      | elapsed: 12.2min\n",
      "[Parallel(n_jobs=-1)]: Done 2170 tasks      | elapsed: 12.7min\n",
      "[Parallel(n_jobs=-1)]: Done 2237 tasks      | elapsed: 13.2min\n",
      "[Parallel(n_jobs=-1)]: Done 2304 tasks      | elapsed: 13.8min\n",
      "[Parallel(n_jobs=-1)]: Done 2373 tasks      | elapsed: 14.3min\n",
      "[Parallel(n_jobs=-1)]: Done 2442 tasks      | elapsed: 14.8min\n",
      "[Parallel(n_jobs=-1)]: Done 2513 tasks      | elapsed: 15.2min\n",
      "[Parallel(n_jobs=-1)]: Done 2584 tasks      | elapsed: 15.6min\n",
      "[Parallel(n_jobs=-1)]: Done 2657 tasks      | elapsed: 16.1min\n",
      "[Parallel(n_jobs=-1)]: Done 2700 out of 2700 | elapsed: 16.4min finished\n"
     ]
    },
    {
     "name": "stdout",
     "output_type": "stream",
     "text": [
      "Grid Search:  RandomForestRegressor \n",
      "\n",
      "Grid Search Best Score:  -3289951.744367258\n",
      "Grid Search Best Params:  {'max_depth': 9, 'max_features': 0.65, 'min_impurity_decrease': 0.005, 'n_estimators': 275}\n",
      "Grid Search Best Estimator:  RandomForestRegressor(bootstrap=True, criterion='mse', max_depth=9,\n",
      "           max_features=0.65, max_leaf_nodes=None,\n",
      "           min_impurity_decrease=0.005, min_impurity_split=None,\n",
      "           min_samples_leaf=2, min_samples_split=2,\n",
      "           min_weight_fraction_leaf=0.0, n_estimators=275, n_jobs=None,\n",
      "           oob_score=False, random_state=None, verbose=0, warm_start=False)\n"
     ]
    }
   ],
   "source": [
    "params = {\n",
    "          'n_estimators': [250, 275, 300, 350, 400,500],\n",
    "          'max_depth': [5, 7, 9, 11, 13, 15],\n",
    "          'min_impurity_decrease': [0.005, 0.001, 0.0001],\n",
    "          'max_features': ['auto', 0.65, 0.75, 0.85, 0.95]\n",
    "        }\n",
    "\n",
    "best_grid_rgr = run_grid_search(rfr_rgr, params, X_train, y_train)"
   ]
  },
  {
   "cell_type": "markdown",
   "metadata": {},
   "source": [
    "### OLS Model"
   ]
  },
  {
   "cell_type": "code",
   "execution_count": 10675,
   "metadata": {},
   "outputs": [],
   "source": [
    "import statsmodels.api as sm\n",
    "from statsmodels.formula.api import ols"
   ]
  },
  {
   "cell_type": "code",
   "execution_count": 11105,
   "metadata": {},
   "outputs": [],
   "source": [
    "f = ''\n",
    "\n",
    "for c in dfx.columns:\n",
    "    \n",
    "    f += c + '+'\n",
    "    \n",
    "x = f[6:-1]"
   ]
  },
  {
   "cell_type": "code",
   "execution_count": 11106,
   "metadata": {},
   "outputs": [
    {
     "data": {
      "text/html": [
       "<table class=\"simpletable\">\n",
       "<caption>OLS Regression Results</caption>\n",
       "<tr>\n",
       "  <th>Dep. Variable:</th>          <td>sales</td>      <th>  R-squared:         </th> <td>   0.794</td> \n",
       "</tr>\n",
       "<tr>\n",
       "  <th>Model:</th>                   <td>OLS</td>       <th>  Adj. R-squared:    </th> <td>   0.788</td> \n",
       "</tr>\n",
       "<tr>\n",
       "  <th>Method:</th>             <td>Least Squares</td>  <th>  F-statistic:       </th> <td>   140.4</td> \n",
       "</tr>\n",
       "<tr>\n",
       "  <th>Date:</th>             <td>Tue, 18 Jun 2019</td> <th>  Prob (F-statistic):</th> <td>1.12e-268</td>\n",
       "</tr>\n",
       "<tr>\n",
       "  <th>Time:</th>                 <td>15:02:52</td>     <th>  Log-Likelihood:    </th> <td> -7559.4</td> \n",
       "</tr>\n",
       "<tr>\n",
       "  <th>No. Observations:</th>      <td>   862</td>      <th>  AIC:               </th> <td>1.517e+04</td>\n",
       "</tr>\n",
       "<tr>\n",
       "  <th>Df Residuals:</th>          <td>   838</td>      <th>  BIC:               </th> <td>1.528e+04</td>\n",
       "</tr>\n",
       "<tr>\n",
       "  <th>Df Model:</th>              <td>    23</td>      <th>                     </th>     <td> </td>    \n",
       "</tr>\n",
       "<tr>\n",
       "  <th>Covariance Type:</th>      <td>nonrobust</td>    <th>                     </th>     <td> </td>    \n",
       "</tr>\n",
       "</table>\n",
       "<table class=\"simpletable\">\n",
       "<tr>\n",
       "              <td></td>                <th>coef</th>     <th>std err</th>      <th>t</th>      <th>P>|t|</th>  <th>[0.025</th>    <th>0.975]</th>  \n",
       "</tr>\n",
       "<tr>\n",
       "  <th>Intercept</th>                <td> 2433.2761</td> <td> 1585.975</td> <td>    1.534</td> <td> 0.125</td> <td> -679.674</td> <td> 5546.227</td>\n",
       "</tr>\n",
       "<tr>\n",
       "  <th>humidity</th>                 <td>-1670.0241</td> <td>  360.979</td> <td>   -4.626</td> <td> 0.000</td> <td>-2378.554</td> <td> -961.495</td>\n",
       "</tr>\n",
       "<tr>\n",
       "  <th>precip_prob</th>              <td> -431.0440</td> <td>  313.999</td> <td>   -1.373</td> <td> 0.170</td> <td>-1047.361</td> <td>  185.273</td>\n",
       "</tr>\n",
       "<tr>\n",
       "  <th>closed</th>                   <td>-1.394e+04</td> <td>  473.907</td> <td>  -29.410</td> <td> 0.000</td> <td>-1.49e+04</td> <td> -1.3e+04</td>\n",
       "</tr>\n",
       "<tr>\n",
       "  <th>temp_very_cold</th>           <td> -316.4260</td> <td>  271.562</td> <td>   -1.165</td> <td> 0.244</td> <td> -849.447</td> <td>  216.595</td>\n",
       "</tr>\n",
       "<tr>\n",
       "  <th>temp_cold</th>                <td> -263.0141</td> <td>  182.982</td> <td>   -1.437</td> <td> 0.151</td> <td> -622.172</td> <td>   96.144</td>\n",
       "</tr>\n",
       "<tr>\n",
       "  <th>temp_hot</th>                 <td>  136.7550</td> <td>  255.007</td> <td>    0.536</td> <td> 0.592</td> <td> -363.772</td> <td>  637.282</td>\n",
       "</tr>\n",
       "<tr>\n",
       "  <th>temp_very_hot</th>            <td> -659.7001</td> <td>  541.134</td> <td>   -1.219</td> <td> 0.223</td> <td>-1721.837</td> <td>  402.437</td>\n",
       "</tr>\n",
       "<tr>\n",
       "  <th>precip_while_open</th>        <td>  444.8344</td> <td>  250.530</td> <td>    1.776</td> <td> 0.076</td> <td>  -46.906</td> <td>  936.575</td>\n",
       "</tr>\n",
       "<tr>\n",
       "  <th>sunday_three_day</th>         <td> 1671.9757</td> <td>  443.174</td> <td>    3.773</td> <td> 0.000</td> <td>  802.114</td> <td> 2541.837</td>\n",
       "</tr>\n",
       "<tr>\n",
       "  <th>day_of_week_1</th>            <td>  -90.0522</td> <td>  202.640</td> <td>   -0.444</td> <td> 0.657</td> <td> -487.794</td> <td>  307.689</td>\n",
       "</tr>\n",
       "<tr>\n",
       "  <th>day_of_week_2</th>            <td>  273.5812</td> <td>  203.805</td> <td>    1.342</td> <td> 0.180</td> <td> -126.447</td> <td>  673.610</td>\n",
       "</tr>\n",
       "<tr>\n",
       "  <th>day_of_week_3</th>            <td>  861.4009</td> <td>  202.891</td> <td>    4.246</td> <td> 0.000</td> <td>  463.166</td> <td> 1259.636</td>\n",
       "</tr>\n",
       "<tr>\n",
       "  <th>day_of_week_4</th>            <td> 2654.5748</td> <td>  204.174</td> <td>   13.002</td> <td> 0.000</td> <td> 2253.823</td> <td> 3055.327</td>\n",
       "</tr>\n",
       "<tr>\n",
       "  <th>day_of_week_5</th>            <td> 3882.1529</td> <td>  203.910</td> <td>   19.039</td> <td> 0.000</td> <td> 3481.919</td> <td> 4282.387</td>\n",
       "</tr>\n",
       "<tr>\n",
       "  <th>day_of_week_6</th>            <td> 1049.2263</td> <td>  208.934</td> <td>    5.022</td> <td> 0.000</td> <td>  639.131</td> <td> 1459.321</td>\n",
       "</tr>\n",
       "<tr>\n",
       "  <th>month_cluster_0</th>          <td>  969.3728</td> <td>  570.335</td> <td>    1.700</td> <td> 0.090</td> <td> -150.080</td> <td> 2088.826</td>\n",
       "</tr>\n",
       "<tr>\n",
       "  <th>month_cluster_1</th>          <td>  989.9195</td> <td>  503.060</td> <td>    1.968</td> <td> 0.049</td> <td>    2.514</td> <td> 1977.325</td>\n",
       "</tr>\n",
       "<tr>\n",
       "  <th>month_cluster_2</th>          <td>  473.9837</td> <td>  551.178</td> <td>    0.860</td> <td> 0.390</td> <td> -607.868</td> <td> 1555.835</td>\n",
       "</tr>\n",
       "<tr>\n",
       "  <th>outside_X_precip_open</th>    <td>-1287.3620</td> <td>  320.566</td> <td>   -4.016</td> <td> 0.000</td> <td>-1916.569</td> <td> -658.155</td>\n",
       "</tr>\n",
       "<tr>\n",
       "  <th>temp_very_cold_X_outside</th> <td>-1258.5555</td> <td>  952.746</td> <td>   -1.321</td> <td> 0.187</td> <td>-3128.604</td> <td>  611.493</td>\n",
       "</tr>\n",
       "<tr>\n",
       "  <th>temp_cold_X_outside</th>      <td>  229.3352</td> <td> 1131.523</td> <td>    0.203</td> <td> 0.839</td> <td>-1991.617</td> <td> 2450.288</td>\n",
       "</tr>\n",
       "<tr>\n",
       "  <th>temp_hot_X_outside</th>       <td> 2746.8833</td> <td>  268.335</td> <td>   10.237</td> <td> 0.000</td> <td> 2220.195</td> <td> 3273.572</td>\n",
       "</tr>\n",
       "<tr>\n",
       "  <th>temp_very_hot_X_outside</th>  <td> 4194.9946</td> <td>  535.092</td> <td>    7.840</td> <td> 0.000</td> <td> 3144.717</td> <td> 5245.272</td>\n",
       "</tr>\n",
       "<tr>\n",
       "  <th>target_trend</th>             <td> 1.163e+04</td> <td> 2095.388</td> <td>    5.551</td> <td> 0.000</td> <td> 7519.266</td> <td> 1.57e+04</td>\n",
       "</tr>\n",
       "</table>\n",
       "<table class=\"simpletable\">\n",
       "<tr>\n",
       "  <th>Omnibus:</th>       <td>28.565</td> <th>  Durbin-Watson:     </th> <td>   1.784</td>\n",
       "</tr>\n",
       "<tr>\n",
       "  <th>Prob(Omnibus):</th> <td> 0.000</td> <th>  Jarque-Bera (JB):  </th> <td>  43.127</td>\n",
       "</tr>\n",
       "<tr>\n",
       "  <th>Skew:</th>          <td> 0.293</td> <th>  Prob(JB):          </th> <td>4.32e-10</td>\n",
       "</tr>\n",
       "<tr>\n",
       "  <th>Kurtosis:</th>      <td> 3.926</td> <th>  Cond. No.          </th> <td>1.14e+16</td>\n",
       "</tr>\n",
       "</table><br/><br/>Warnings:<br/>[1] Standard Errors assume that the covariance matrix of the errors is correctly specified.<br/>[2] The smallest eigenvalue is 2.24e-29. This might indicate that there are<br/>strong multicollinearity problems or that the design matrix is singular."
      ],
      "text/plain": [
       "<class 'statsmodels.iolib.summary.Summary'>\n",
       "\"\"\"\n",
       "                            OLS Regression Results                            \n",
       "==============================================================================\n",
       "Dep. Variable:                  sales   R-squared:                       0.794\n",
       "Model:                            OLS   Adj. R-squared:                  0.788\n",
       "Method:                 Least Squares   F-statistic:                     140.4\n",
       "Date:                Tue, 18 Jun 2019   Prob (F-statistic):          1.12e-268\n",
       "Time:                        15:02:52   Log-Likelihood:                -7559.4\n",
       "No. Observations:                 862   AIC:                         1.517e+04\n",
       "Df Residuals:                     838   BIC:                         1.528e+04\n",
       "Df Model:                          23                                         \n",
       "Covariance Type:            nonrobust                                         \n",
       "============================================================================================\n",
       "                               coef    std err          t      P>|t|      [0.025      0.975]\n",
       "--------------------------------------------------------------------------------------------\n",
       "Intercept                 2433.2761   1585.975      1.534      0.125    -679.674    5546.227\n",
       "humidity                 -1670.0241    360.979     -4.626      0.000   -2378.554    -961.495\n",
       "precip_prob               -431.0440    313.999     -1.373      0.170   -1047.361     185.273\n",
       "closed                   -1.394e+04    473.907    -29.410      0.000   -1.49e+04    -1.3e+04\n",
       "temp_very_cold            -316.4260    271.562     -1.165      0.244    -849.447     216.595\n",
       "temp_cold                 -263.0141    182.982     -1.437      0.151    -622.172      96.144\n",
       "temp_hot                   136.7550    255.007      0.536      0.592    -363.772     637.282\n",
       "temp_very_hot             -659.7001    541.134     -1.219      0.223   -1721.837     402.437\n",
       "precip_while_open          444.8344    250.530      1.776      0.076     -46.906     936.575\n",
       "sunday_three_day          1671.9757    443.174      3.773      0.000     802.114    2541.837\n",
       "day_of_week_1              -90.0522    202.640     -0.444      0.657    -487.794     307.689\n",
       "day_of_week_2              273.5812    203.805      1.342      0.180    -126.447     673.610\n",
       "day_of_week_3              861.4009    202.891      4.246      0.000     463.166    1259.636\n",
       "day_of_week_4             2654.5748    204.174     13.002      0.000    2253.823    3055.327\n",
       "day_of_week_5             3882.1529    203.910     19.039      0.000    3481.919    4282.387\n",
       "day_of_week_6             1049.2263    208.934      5.022      0.000     639.131    1459.321\n",
       "month_cluster_0            969.3728    570.335      1.700      0.090    -150.080    2088.826\n",
       "month_cluster_1            989.9195    503.060      1.968      0.049       2.514    1977.325\n",
       "month_cluster_2            473.9837    551.178      0.860      0.390    -607.868    1555.835\n",
       "outside_X_precip_open    -1287.3620    320.566     -4.016      0.000   -1916.569    -658.155\n",
       "temp_very_cold_X_outside -1258.5555    952.746     -1.321      0.187   -3128.604     611.493\n",
       "temp_cold_X_outside        229.3352   1131.523      0.203      0.839   -1991.617    2450.288\n",
       "temp_hot_X_outside        2746.8833    268.335     10.237      0.000    2220.195    3273.572\n",
       "temp_very_hot_X_outside   4194.9946    535.092      7.840      0.000    3144.717    5245.272\n",
       "target_trend              1.163e+04   2095.388      5.551      0.000    7519.266    1.57e+04\n",
       "==============================================================================\n",
       "Omnibus:                       28.565   Durbin-Watson:                   1.784\n",
       "Prob(Omnibus):                  0.000   Jarque-Bera (JB):               43.127\n",
       "Skew:                           0.293   Prob(JB):                     4.32e-10\n",
       "Kurtosis:                       3.926   Cond. No.                     1.14e+16\n",
       "==============================================================================\n",
       "\n",
       "Warnings:\n",
       "[1] Standard Errors assume that the covariance matrix of the errors is correctly specified.\n",
       "[2] The smallest eigenvalue is 2.24e-29. This might indicate that there are\n",
       "strong multicollinearity problems or that the design matrix is singular.\n",
       "\"\"\""
      ]
     },
     "execution_count": 11106,
     "metadata": {},
     "output_type": "execute_result"
    }
   ],
   "source": [
    "f= target + '~' + x\n",
    "\n",
    "model = ols(formula=f, data=dfx).fit()\n",
    "model.summary()"
   ]
  },
  {
   "cell_type": "markdown",
   "metadata": {},
   "source": [
    "## XGB Regressor"
   ]
  },
  {
   "cell_type": "code",
   "execution_count": 11028,
   "metadata": {},
   "outputs": [],
   "source": [
    "from xgboost import XGBRegressor"
   ]
  },
  {
   "cell_type": "code",
   "execution_count": 11107,
   "metadata": {},
   "outputs": [],
   "source": [
    "def xgb_model(X_train, y_train):\n",
    "    \n",
    "    objective = 'reg:linear'\n",
    "    booster = 'gbtree'\n",
    "    nthread = 4\n",
    "    learning_rate = 0.02\n",
    "    max_depth = 3\n",
    "    colsample_bytree = 0.75\n",
    "    n_estimators = 450\n",
    "    min_child_weight = 2\n",
    "    \n",
    "    xgb_rgr= XGBRegressor(booster=booster, objective=objective, colsample_bytree=colsample_bytree, learning_rate=learning_rate, \\\n",
    "                                max_depth=max_depth, nthread=nthread, n_estimators=n_estimators, min_child_weight=min_child_weight, random_state = 0)\n",
    "    \n",
    "    xgb_rgr = xgb_rgr.fit(X_train, y_train)\n",
    "    \n",
    "    return xgb_rgr"
   ]
  },
  {
   "cell_type": "code",
   "execution_count": 11108,
   "metadata": {},
   "outputs": [],
   "source": [
    "xgb_rgr = xgb_model(X_train, y_train)"
   ]
  },
  {
   "cell_type": "code",
   "execution_count": 11109,
   "metadata": {},
   "outputs": [],
   "source": [
    "# Convert column names back to original\n",
    "X_test = X_test[X_train.columns]"
   ]
  },
  {
   "cell_type": "code",
   "execution_count": 11110,
   "metadata": {},
   "outputs": [
    {
     "name": "stdout",
     "output_type": "stream",
     "text": [
      "Formula Scores - R-Squared:  0.8413327056103217 Adjusted R-Squared:  0.8145156981078409 \n",
      "\n",
      "Train R-Squared:   0.8263102130186704\n",
      "Test R-Squared:   0.8413327056103217 \n",
      "\n",
      "Root Mean Squared Error:  1260.2845188087695 \n",
      "\n",
      "Cross Val Avg R-Squared:  0.669568545039526 \n",
      "\n"
     ]
    }
   ],
   "source": [
    "pred_df_covers_xgb = rfr_score(xgb_rgr, X_test, y_test, cv_features, cv_y) "
   ]
  },
  {
   "cell_type": "markdown",
   "metadata": {},
   "source": [
    "## HYBRID"
   ]
  },
  {
   "cell_type": "code",
   "execution_count": 11033,
   "metadata": {},
   "outputs": [],
   "source": [
    "filex = 'predicted_ppa_timeseries.csv'\n",
    "df_ts = pd.read_csv(filex,index_col='date',parse_dates=True)"
   ]
  },
  {
   "cell_type": "code",
   "execution_count": 11034,
   "metadata": {},
   "outputs": [
    {
     "data": {
      "text/html": [
       "<div>\n",
       "<style scoped>\n",
       "    .dataframe tbody tr th:only-of-type {\n",
       "        vertical-align: middle;\n",
       "    }\n",
       "\n",
       "    .dataframe tbody tr th {\n",
       "        vertical-align: top;\n",
       "    }\n",
       "\n",
       "    .dataframe thead th {\n",
       "        text-align: right;\n",
       "    }\n",
       "</style>\n",
       "<table border=\"1\" class=\"dataframe\">\n",
       "  <thead>\n",
       "    <tr style=\"text-align: right;\">\n",
       "      <th></th>\n",
       "      <th>covers</th>\n",
       "      <th>pred_ppa</th>\n",
       "    </tr>\n",
       "    <tr>\n",
       "      <th>date</th>\n",
       "      <th></th>\n",
       "      <th></th>\n",
       "    </tr>\n",
       "  </thead>\n",
       "  <tbody>\n",
       "    <tr>\n",
       "      <th>2019-01-01</th>\n",
       "      <td>2.557339</td>\n",
       "      <td>6.281795</td>\n",
       "    </tr>\n",
       "    <tr>\n",
       "      <th>2019-01-02</th>\n",
       "      <td>177.768433</td>\n",
       "      <td>80.328907</td>\n",
       "    </tr>\n",
       "    <tr>\n",
       "      <th>2019-01-03</th>\n",
       "      <td>179.258591</td>\n",
       "      <td>85.517093</td>\n",
       "    </tr>\n",
       "    <tr>\n",
       "      <th>2019-01-04</th>\n",
       "      <td>200.015045</td>\n",
       "      <td>83.712033</td>\n",
       "    </tr>\n",
       "    <tr>\n",
       "      <th>2019-01-05</th>\n",
       "      <td>228.479950</td>\n",
       "      <td>81.003838</td>\n",
       "    </tr>\n",
       "  </tbody>\n",
       "</table>\n",
       "</div>"
      ],
      "text/plain": [
       "                covers   pred_ppa\n",
       "date                             \n",
       "2019-01-01    2.557339   6.281795\n",
       "2019-01-02  177.768433  80.328907\n",
       "2019-01-03  179.258591  85.517093\n",
       "2019-01-04  200.015045  83.712033\n",
       "2019-01-05  228.479950  81.003838"
      ]
     },
     "execution_count": 11034,
     "metadata": {},
     "output_type": "execute_result"
    }
   ],
   "source": [
    "pred_df = pred_df_covers_xgb.merge(df_ts, on='date', how='left')\n",
    "pred_df.head()"
   ]
  },
  {
   "cell_type": "code",
   "execution_count": 11035,
   "metadata": {},
   "outputs": [],
   "source": [
    "pred_df['sales'] = pred_df['covers'] * pred_df['pred_ppa']"
   ]
  },
  {
   "cell_type": "code",
   "execution_count": 11036,
   "metadata": {},
   "outputs": [],
   "source": [
    "pred_df = pred_df[['sales']]"
   ]
  },
  {
   "cell_type": "code",
   "execution_count": 11071,
   "metadata": {},
   "outputs": [],
   "source": [
    "r2 = metrics.r2_score(y_test, pred_df)"
   ]
  },
  {
   "cell_type": "code",
   "execution_count": 11072,
   "metadata": {},
   "outputs": [
    {
     "data": {
      "text/plain": [
       "0.7827614707369226"
      ]
     },
     "execution_count": 11072,
     "metadata": {},
     "output_type": "execute_result"
    }
   ],
   "source": [
    "r2"
   ]
  },
  {
   "cell_type": "code",
   "execution_count": 11077,
   "metadata": {},
   "outputs": [
    {
     "data": {
      "text/plain": [
       "1474.664822041796"
      ]
     },
     "execution_count": 11077,
     "metadata": {},
     "output_type": "execute_result"
    }
   ],
   "source": [
    "rmse = np.sqrt(mean_squared_error(y_test, pred_df))\n",
    "rmse"
   ]
  },
  {
   "cell_type": "code",
   "execution_count": null,
   "metadata": {},
   "outputs": [],
   "source": [
    "##### tonight = predict_df(xgb_rgr, scaler, X_train, dfx, pd.datetime.now().date() + pd.DateOffset(-days_fwd), pd.datetime.now().date())\n",
    "tonight[-2:]"
   ]
  },
  {
   "cell_type": "code",
   "execution_count": 9940,
   "metadata": {},
   "outputs": [
    {
     "name": "stdout",
     "output_type": "stream",
     "text": [
      "Fitting 3 folds for each of 243 candidates, totalling 729 fits\n"
     ]
    },
    {
     "name": "stderr",
     "output_type": "stream",
     "text": [
      "[Parallel(n_jobs=5)]: Using backend LokyBackend with 5 concurrent workers.\n",
      "[Parallel(n_jobs=5)]: Done  40 tasks      | elapsed:   33.9s\n",
      "[Parallel(n_jobs=5)]: Done 190 tasks      | elapsed:  3.3min\n",
      "[Parallel(n_jobs=5)]: Done 440 tasks      | elapsed:  8.6min\n",
      "[Parallel(n_jobs=5)]: Done 729 out of 729 | elapsed: 12.9min finished\n"
     ]
    },
    {
     "data": {
      "text/plain": [
       "GridSearchCV(cv=3, error_score='raise-deprecating',\n",
       "       estimator=XGBRegressor(base_score=0.5, booster='gbtree', colsample_bylevel=1,\n",
       "       colsample_bytree=1, gamma=0, importance_type='gain',\n",
       "       learning_rate=0.1, max_delta_step=0, max_depth=3,\n",
       "       min_child_weight=1, missing=None, n_estimators=100, n_jobs=1,\n",
       "       nthread=None, objective='reg:linear', random_state=0, reg_alpha=0,\n",
       "       reg_lambda=1, scale_pos_weight=1, seed=None, silent=True,\n",
       "       subsample=1),\n",
       "       fit_params=None, iid='warn', n_jobs=5,\n",
       "       param_grid={'nthread': [4], 'objective': ['reg:linear'], 'learning_rate': [0.01, 0.02, 0.03], 'max_depth': [3, 4, 5], 'min_child_weight': [1, 2, 3], 'silent': [1], 'subsample': [0.7], 'colsample_bytree': [0.55, 0.6, 0.65], 'n_estimators': [400, 500, 600]},\n",
       "       pre_dispatch='2*n_jobs', refit=True, return_train_score='warn',\n",
       "       scoring='neg_mean_squared_error', verbose=True)"
      ]
     },
     "execution_count": 9940,
     "metadata": {},
     "output_type": "execute_result"
    },
    {
     "name": "stdout",
     "output_type": "stream",
     "text": [
      "-706.914114382183\n",
      "{'colsample_bytree': 0.65, 'learning_rate': 0.02, 'max_depth': 3, 'min_child_weight': 2, 'n_estimators': 500, 'nthread': 4, 'objective': 'reg:linear', 'silent': 1, 'subsample': 0.7}\n"
     ]
    }
   ],
   "source": [
    "xgb1 = XGBRegressor()\n",
    "parameters = {'nthread':[4], #when use hyperthread, xgboost may become slower\n",
    "              'objective':['reg:linear'],\n",
    "              'learning_rate': [.01, 0.02, .03], #so called `eta` value\n",
    "              'max_depth': [3, 4, 5],\n",
    "              'min_child_weight': [1, 2, 3],\n",
    "              'silent': [1],\n",
    "              'subsample': [0.7],\n",
    "              'colsample_bytree': [0.55, 0.60, 0.65],\n",
    "              'n_estimators': [400, 500, 600]}\n",
    "\n",
    "xgb_grid = GridSearchCV(xgb1,\n",
    "                        parameters,\n",
    "                        cv = 3,\n",
    "                        n_jobs = 5,\n",
    "                        verbose=True,\n",
    "                        scoring = 'neg_mean_squared_error')\n",
    "\n",
    "xgb_grid.fit(X_train,\n",
    "        y_train)\n",
    "\n",
    "print(xgb_grid.best_score_)\n",
    "print(xgb_grid.best_params_)"
   ]
  },
  {
   "cell_type": "markdown",
   "metadata": {},
   "source": [
    "## CLEAN RUN"
   ]
  },
  {
   "cell_type": "code",
   "execution_count": null,
   "metadata": {},
   "outputs": [],
   "source": []
  }
 ],
 "metadata": {
  "kernelspec": {
   "display_name": "Python 3",
   "language": "python",
   "name": "python3"
  },
  "language_info": {
   "codemirror_mode": {
    "name": "ipython",
    "version": 3
   },
   "file_extension": ".py",
   "mimetype": "text/x-python",
   "name": "python",
   "nbconvert_exporter": "python",
   "pygments_lexer": "ipython3",
   "version": "3.7.2"
  }
 },
 "nbformat": 4,
 "nbformat_minor": 2
}
