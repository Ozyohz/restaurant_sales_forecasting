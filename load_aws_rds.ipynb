{
 "cells": [
  {
   "cell_type": "code",
   "execution_count": 159,
   "metadata": {},
   "outputs": [],
   "source": [
    "import numpy as np \n",
    "import pandas as pd \n",
    "import warnings\n",
    "warnings.filterwarnings('ignore')\n",
    "import os\n",
    "\n",
    "from pandas.tseries.holiday import USFederalHolidayCalendar as calendar\n",
    "import psycopg2\n",
    "import sqlalchemy\n",
    "from sqlalchemy import create_engine\n",
    "\n",
    "from psycopg2.extensions import register_adapter, AsIs\n",
    "\n",
    "def addapt_numpy_float64(numpy_float64):\n",
    "    return AsIs(numpy_float64)\n",
    "\n",
    "def addapt_numpy_int64(numpy_int64):\n",
    "    return AsIs(numpy_int64)\n",
    "\n",
    "register_adapter(np.float64, addapt_numpy_float64)\n",
    "register_adapter(np.int64, addapt_numpy_int64)"
   ]
  },
  {
   "cell_type": "code",
   "execution_count": 160,
   "metadata": {},
   "outputs": [],
   "source": [
    "from config import yelp_api_key, darksky_api_key, PGHOST, PGDATABASE, PGUSER, PGPASSWORD\n",
    "from restaurant_info import restaurantLocation\n",
    "from weather import Weather"
   ]
  },
  {
   "cell_type": "markdown",
   "metadata": {},
   "source": [
    "### Get Latitude & Longitude from Yelp API"
   ]
  },
  {
   "cell_type": "code",
   "execution_count": 83,
   "metadata": {},
   "outputs": [],
   "source": [
    "search_business = 'The Counting Room' # Not the actual Restaurant \n",
    "location = 'Brooklyn, NY'"
   ]
  },
  {
   "cell_type": "code",
   "execution_count": 84,
   "metadata": {},
   "outputs": [
    {
     "name": "stdout",
     "output_type": "stream",
     "text": [
      "Weather Location: The Counting Room\n"
     ]
    }
   ],
   "source": [
    "# Make Yelp API Call to get Latitude & Longitude for Business\n",
    "rest_loc = restaurantLocation(search_business, location)\n",
    "lat, long = rest_loc.get_lat_long()"
   ]
  },
  {
   "cell_type": "markdown",
   "metadata": {},
   "source": [
    "### Import / Clean / Prep File"
   ]
  },
  {
   "cell_type": "code",
   "execution_count": 209,
   "metadata": {},
   "outputs": [],
   "source": [
    "w_start = '2017-01-01'\n",
    "w_end = '2019-06-30'\n",
    "\n",
    "# Restaurant File\n",
    "sales_file = 'csv/rest_1_both_pos_by_check.csv'\n",
    "\n",
    "# Reservations File\n",
    "resy_file = 'csv/resy_061019_through_063019.csv'\n",
    "\n",
    "# Weather File\n",
    "weather_csv_file = f'csv/weather_{w_start}_to_{w_end}.csv'"
   ]
  },
  {
   "cell_type": "code",
   "execution_count": 210,
   "metadata": {},
   "outputs": [],
   "source": [
    " # Read in Sales File\n",
    "data = pd.read_csv(sales_file, index_col = 'date', parse_dates=True)\n",
    "sales_df = pd.DataFrame(data)"
   ]
  },
  {
   "cell_type": "code",
   "execution_count": 211,
   "metadata": {},
   "outputs": [],
   "source": [
    "def prep_sales_df(df):\n",
    "    \n",
    "        # Dinner Only\n",
    "        df = df[df.day_part == 'Dinner']\n",
    "        \n",
    "        # Fill NaN\n",
    "        df.fillna(0, inplace=True)\n",
    "        \n",
    "        # Filter Out $0 Sales\n",
    "        df = df[df.net_sales > 0]\n",
    "        \n",
    "        # Create Unique Check ID\n",
    "        df['check_id'] = df.index.strftime('%Y%m%d') + '-' + df.index.strftime('%H%M') + '-' + df['check_no'].astype(int).astype(str)\n",
    "        \n",
    "        # Drop Covers, Day Part, & Check_No\n",
    "        df = df.drop(['covers', 'day_part', 'check_no'], axis=1)\n",
    "    \n",
    "        df.index = df.index.normalize()\n",
    "        \n",
    "        return df\n",
    "    \n",
    "sales_df = prep_sales_df(sales_df)"
   ]
  },
  {
   "cell_type": "code",
   "execution_count": 212,
   "metadata": {},
   "outputs": [
    {
     "data": {
      "text/html": [
       "<div>\n",
       "<style scoped>\n",
       "    .dataframe tbody tr th:only-of-type {\n",
       "        vertical-align: middle;\n",
       "    }\n",
       "\n",
       "    .dataframe tbody tr th {\n",
       "        vertical-align: top;\n",
       "    }\n",
       "\n",
       "    .dataframe thead th {\n",
       "        text-align: right;\n",
       "    }\n",
       "</style>\n",
       "<table border=\"1\" class=\"dataframe\">\n",
       "  <thead>\n",
       "    <tr style=\"text-align: right;\">\n",
       "      <th></th>\n",
       "      <th>net_sales</th>\n",
       "      <th>revenue_center</th>\n",
       "      <th>check_id</th>\n",
       "    </tr>\n",
       "    <tr>\n",
       "      <th>date</th>\n",
       "      <th></th>\n",
       "      <th></th>\n",
       "      <th></th>\n",
       "    </tr>\n",
       "  </thead>\n",
       "  <tbody>\n",
       "    <tr>\n",
       "      <th>2017-01-02</th>\n",
       "      <td>7.34</td>\n",
       "      <td>Window</td>\n",
       "      <td>20170102-0511-3364</td>\n",
       "    </tr>\n",
       "    <tr>\n",
       "      <th>2017-01-02</th>\n",
       "      <td>30.00</td>\n",
       "      <td>Window</td>\n",
       "      <td>20170102-0525-3367</td>\n",
       "    </tr>\n",
       "    <tr>\n",
       "      <th>2017-01-02</th>\n",
       "      <td>111.00</td>\n",
       "      <td>PDR</td>\n",
       "      <td>20170102-0528-3369</td>\n",
       "    </tr>\n",
       "    <tr>\n",
       "      <th>2017-01-02</th>\n",
       "      <td>112.00</td>\n",
       "      <td>Dining Room</td>\n",
       "      <td>20170102-0532-3370</td>\n",
       "    </tr>\n",
       "    <tr>\n",
       "      <th>2017-01-02</th>\n",
       "      <td>148.00</td>\n",
       "      <td>Dining Room</td>\n",
       "      <td>20170102-0533-3371</td>\n",
       "    </tr>\n",
       "  </tbody>\n",
       "</table>\n",
       "</div>"
      ],
      "text/plain": [
       "            net_sales revenue_center            check_id\n",
       "date                                                    \n",
       "2017-01-02       7.34         Window  20170102-0511-3364\n",
       "2017-01-02      30.00         Window  20170102-0525-3367\n",
       "2017-01-02     111.00            PDR  20170102-0528-3369\n",
       "2017-01-02     112.00    Dining Room  20170102-0532-3370\n",
       "2017-01-02     148.00    Dining Room  20170102-0533-3371"
      ]
     },
     "execution_count": 212,
     "metadata": {},
     "output_type": "execute_result"
    }
   ],
   "source": [
    "sales_df.head()"
   ]
  },
  {
   "cell_type": "code",
   "execution_count": 213,
   "metadata": {},
   "outputs": [],
   "source": [
    "# Send this Long Format File to CSV for Tableau\n",
    "sales_df.to_csv('csv/rest_1_sales_by_check_long_0117_0619.csv')"
   ]
  },
  {
   "cell_type": "code",
   "execution_count": 214,
   "metadata": {},
   "outputs": [
    {
     "data": {
      "text/html": [
       "<div>\n",
       "<style scoped>\n",
       "    .dataframe tbody tr th:only-of-type {\n",
       "        vertical-align: middle;\n",
       "    }\n",
       "\n",
       "    .dataframe tbody tr th {\n",
       "        vertical-align: top;\n",
       "    }\n",
       "\n",
       "    .dataframe thead th {\n",
       "        text-align: right;\n",
       "    }\n",
       "</style>\n",
       "<table border=\"1\" class=\"dataframe\">\n",
       "  <thead>\n",
       "    <tr style=\"text-align: right;\">\n",
       "      <th></th>\n",
       "      <th></th>\n",
       "      <th>net_sales</th>\n",
       "    </tr>\n",
       "    <tr>\n",
       "      <th>date</th>\n",
       "      <th>revenue_center</th>\n",
       "      <th></th>\n",
       "    </tr>\n",
       "  </thead>\n",
       "  <tbody>\n",
       "    <tr>\n",
       "      <th rowspan=\"5\" valign=\"top\">2017</th>\n",
       "      <th>Bar</th>\n",
       "      <td>1080561.72</td>\n",
       "    </tr>\n",
       "    <tr>\n",
       "      <th>Dining Room</th>\n",
       "      <td>2800349.31</td>\n",
       "    </tr>\n",
       "    <tr>\n",
       "      <th>Outside</th>\n",
       "      <td>866862.75</td>\n",
       "    </tr>\n",
       "    <tr>\n",
       "      <th>PDR</th>\n",
       "      <td>1210661.82</td>\n",
       "    </tr>\n",
       "    <tr>\n",
       "      <th>Window</th>\n",
       "      <td>151524.71</td>\n",
       "    </tr>\n",
       "    <tr>\n",
       "      <th rowspan=\"5\" valign=\"top\">2018</th>\n",
       "      <th>Bar</th>\n",
       "      <td>1074150.34</td>\n",
       "    </tr>\n",
       "    <tr>\n",
       "      <th>Dining Room</th>\n",
       "      <td>2791638.47</td>\n",
       "    </tr>\n",
       "    <tr>\n",
       "      <th>Outside</th>\n",
       "      <td>759544.82</td>\n",
       "    </tr>\n",
       "    <tr>\n",
       "      <th>PDR</th>\n",
       "      <td>1225295.67</td>\n",
       "    </tr>\n",
       "    <tr>\n",
       "      <th>Window</th>\n",
       "      <td>98340.87</td>\n",
       "    </tr>\n",
       "    <tr>\n",
       "      <th rowspan=\"5\" valign=\"top\">2019</th>\n",
       "      <th>Bar</th>\n",
       "      <td>551353.66</td>\n",
       "    </tr>\n",
       "    <tr>\n",
       "      <th>Dining Room</th>\n",
       "      <td>1562307.41</td>\n",
       "    </tr>\n",
       "    <tr>\n",
       "      <th>Outside</th>\n",
       "      <td>240349.88</td>\n",
       "    </tr>\n",
       "    <tr>\n",
       "      <th>PDR</th>\n",
       "      <td>616058.02</td>\n",
       "    </tr>\n",
       "    <tr>\n",
       "      <th>Window</th>\n",
       "      <td>9725.54</td>\n",
       "    </tr>\n",
       "  </tbody>\n",
       "</table>\n",
       "</div>"
      ],
      "text/plain": [
       "                      net_sales\n",
       "date revenue_center            \n",
       "2017 Bar             1080561.72\n",
       "     Dining Room     2800349.31\n",
       "     Outside          866862.75\n",
       "     PDR             1210661.82\n",
       "     Window           151524.71\n",
       "2018 Bar             1074150.34\n",
       "     Dining Room     2791638.47\n",
       "     Outside          759544.82\n",
       "     PDR             1225295.67\n",
       "     Window            98340.87\n",
       "2019 Bar              551353.66\n",
       "     Dining Room     1562307.41\n",
       "     Outside          240349.88\n",
       "     PDR              616058.02\n",
       "     Window             9725.54"
      ]
     },
     "execution_count": 214,
     "metadata": {},
     "output_type": "execute_result"
    }
   ],
   "source": [
    "sales_df.groupby([sales_df.index.year, 'revenue_center']).sum()"
   ]
  },
  {
   "cell_type": "code",
   "execution_count": 91,
   "metadata": {},
   "outputs": [],
   "source": [
    "dfw = pd.read_csv(weather_csv_file, index_col='date', parse_dates=True)"
   ]
  },
  {
   "cell_type": "code",
   "execution_count": 92,
   "metadata": {},
   "outputs": [],
   "source": [
    "dfw = prep_df(dfw)"
   ]
  },
  {
   "cell_type": "markdown",
   "metadata": {},
   "source": [
    "### Connect Notebook to AWS Postgres Instance"
   ]
  },
  {
   "cell_type": "code",
   "execution_count": 78,
   "metadata": {},
   "outputs": [
    {
     "name": "stdout",
     "output_type": "stream",
     "text": [
      "Connected!\n"
     ]
    }
   ],
   "source": [
    "# Connect to RDS-Postgres DB\n",
    "\n",
    "def connect():\n",
    "    \n",
    "    # Set up a connection to the postgres server.\n",
    "    conn_string = \"host=\"+ PGHOST +\" port=\"+ \"5432\" +\" dbname=\"+ PGDATABASE +\" user=\" + PGUSER \\\n",
    "                  +\" password=\"+ PGPASSWORD\n",
    "    \n",
    "    conn = psycopg2.connect(conn_string)\n",
    "    print(\"Connected!\")\n",
    "\n",
    "    # Create a cursor object\n",
    "    cursor = conn.cursor()\n",
    "    \n",
    "    return conn, cursor\n",
    "\n",
    "conn, cursor = connect()"
   ]
  },
  {
   "cell_type": "markdown",
   "metadata": {},
   "source": [
    "### Create Sales & Reservations Tables"
   ]
  },
  {
   "cell_type": "code",
   "execution_count": 80,
   "metadata": {},
   "outputs": [],
   "source": [
    "create rev_center_table = \"\"\"\n",
    "    CREATE TABLE IF NOT EXISTS rev_center(\n",
    "        id INTEGER PRIMARY KEY NOT NULL,\n",
    "        name NOT NULL)\n",
    "\"\"\"\n",
    "\n",
    "create_check_table = \"\"\"\n",
    "    CREATE TABLE IF NOT EXISTS checks(\n",
    "        id INTEGER PRIMARY KEY NOT NULL,\n",
    "        date DATE,\n",
    "        rev_center_id INTEGER REFERENCES rev_center(id),\n",
    "        net_sales NUMERIC (7, 2)\n",
    "    )\n",
    "    \"\"\"\n",
    "\n",
    "create_resy_table = \"\"\"\n",
    "    CREATE TABLE IF NOT EXISTS reservations(\n",
    "        id INTEGER PRIMARY KEY NOT NULL,\n",
    "        date DATE,\n",
    "        inside_covers INTEGER,\n",
    "        outside_covers INTEGER,\n",
    "        reserved_covers INTEGER,\n",
    "        walkin_covers INTEGER,\n",
    "        waitlist_covers INTEGER,\n",
    "        no_show_covers INTEGER,\n",
    "        no_show_parties INTEGER\n",
    "    )\n",
    "    \"\"\"\n",
    "\n",
    "cursor.execute(create_sales_table)\n",
    "cursor.execute(create_resy_table)\n",
    "conn.commit()"
   ]
  },
  {
   "cell_type": "code",
   "execution_count": 67,
   "metadata": {},
   "outputs": [],
   "source": [
    "cursor.execute(\"CREATE TABLE weather ( \\\n",
    "                DATE DATE, \\\n",
    "                date_id INT PRIMARY KEY, \\\n",
    "                apparent_temperature NUMERIC (4, 2), \\\n",
    "                humidity NUMERIC (3, 2), \\\n",
    "                precip_intensity_max NUMERIC (5, 4), \\\n",
    "                precip_max_time TIME, \\\n",
    "                precip_prob NUMERIC (3, 2), \\\n",
    "                precip_type TEXT, \\\n",
    "                pressure NUMERIC (6,2), \\\n",
    "                summary TEXT, \\\n",
    "                temperature NUMERIC (4, 2));\")\n",
    "\n",
    "conn.commit()"
   ]
  },
  {
   "cell_type": "markdown",
   "metadata": {},
   "source": [
    "### Populate Sales & Reservation Databases"
   ]
  },
  {
   "cell_type": "code",
   "execution_count": 93,
   "metadata": {},
   "outputs": [],
   "source": [
    "def populate_sales(df):\n",
    "    \n",
    "    for row in range(len(df)):\n",
    "            \n",
    "        cursor.execute(\"INSERT INTO sales (id, date, inside_sales, outside_sales) VALUES (%s, %s, %s, %s)\", \n",
    "            (df.iloc[row]['id'],\n",
    "            pd.to_datetime(df.index[row]),\n",
    "            df.iloc[row]['inside_sales'],\n",
    "            df.iloc[row]['outside_sales']) )\n",
    "        conn.commit()\n",
    "    \n",
    "populate_sales(df)\n",
    "                "
   ]
  },
  {
   "cell_type": "code",
   "execution_count": 94,
   "metadata": {},
   "outputs": [],
   "source": [
    "def populate_reservations(df):\n",
    "    \n",
    "    for row in range(len(df)):\n",
    "        \n",
    "        cursor.execute(\"\"\"\n",
    "            INSERT INTO reservations (id, date, inside_covers, outside_covers, reserved_covers,\n",
    "            walkin_covers, waitlist_covers, no_show_covers, no_show_parties) VALUES (%s, %s, %s, %s, %s, %s, %s, %s, %s)\"\"\",\n",
    "                (df.iloc[row]['id'],\n",
    "                pd.to_datetime(df.index[row]),\n",
    "                df.iloc[row]['inside_covers'],\n",
    "                df.iloc[row]['outside_covers'],\n",
    "                df.iloc[row]['reserved_covers'],\n",
    "                df.iloc[row]['walkin_covers'],\n",
    "                df.iloc[row]['waitlist_covers'],\n",
    "                df.iloc[row]['no_show_covers'],\n",
    "                df.iloc[row]['no_show_parties']) )\n",
    "        conn.commit()\n",
    "        \n",
    "populate_reservations(df)"
   ]
  },
  {
   "cell_type": "code",
   "execution_count": 96,
   "metadata": {},
   "outputs": [],
   "source": [
    "def populate_weather(df):\n",
    "    \n",
    "    for row in range(len(df)):\n",
    "        \n",
    "        cursor.execute(\"\"\"\n",
    "            INSERT INTO weather (date, date_id, apparent_temperature, humidity, precip_intensity_max, precip_max_time,\n",
    "            precip_prob, precip_type, pressure, summary, temperature) VALUES (%s, %s, %s, %s, %s, %s, %s, %s, %s, %s, %s)\"\"\",\n",
    "                (pd.to_datetime(df.index[row]),\n",
    "                 df.iloc[row]['id'],\n",
    "                 df.iloc[row]['apparent_temperature'],\n",
    "                 df.iloc[row]['humidity'],\n",
    "                 df.iloc[row]['precip_intensity_max'],\n",
    "                 df.iloc[row]['precip_max_time'],\n",
    "                 df.iloc[row]['precip_prob'],\n",
    "                 df.iloc[row]['precip_type'],\n",
    "                 df.iloc[row]['pressure'],\n",
    "                 df.iloc[row]['summary'],\n",
    "                 df.iloc[row]['temperature']) )\n",
    "        conn.commit()\n",
    "\n",
    "populate_weather(dfw)\n",
    "        "
   ]
  },
  {
   "cell_type": "code",
   "execution_count": 98,
   "metadata": {},
   "outputs": [],
   "source": [
    "conn.close()"
   ]
  },
  {
   "cell_type": "markdown",
   "metadata": {},
   "source": [
    "### "
   ]
  }
 ],
 "metadata": {
  "kernelspec": {
   "display_name": "Python 3",
   "language": "python",
   "name": "python3"
  },
  "language_info": {
   "codemirror_mode": {
    "name": "ipython",
    "version": 3
   },
   "file_extension": ".py",
   "mimetype": "text/x-python",
   "name": "python",
   "nbconvert_exporter": "python",
   "pygments_lexer": "ipython3",
   "version": "3.7.3"
  }
 },
 "nbformat": 4,
 "nbformat_minor": 4
}
