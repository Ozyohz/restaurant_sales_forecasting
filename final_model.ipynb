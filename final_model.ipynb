{
 "cells": [
  {
   "cell_type": "code",
   "execution_count": 1,
   "metadata": {},
   "outputs": [],
   "source": [
    "import numpy as np \n",
    "import pandas as pd \n",
    "import warnings\n",
    "warnings.filterwarnings('ignore')"
   ]
  },
  {
   "cell_type": "code",
   "execution_count": 2,
   "metadata": {},
   "outputs": [],
   "source": [
    "import seaborn as sns\n",
    "sns.set_palette('Set2')\n",
    "\n",
    "import matplotlib.pyplot as plt\n",
    "import matplotlib.dates as mdates\n",
    "%matplotlib inline"
   ]
  },
  {
   "cell_type": "code",
   "execution_count": 3,
   "metadata": {},
   "outputs": [],
   "source": [
    "from sklearn.metrics import confusion_matrix, mean_squared_error\n",
    "from sklearn.preprocessing import LabelEncoder, MinMaxScaler, StandardScaler\n",
    "from sklearn.model_selection import train_test_split, cross_val_score\n",
    "from sklearn.linear_model import LinearRegression, Lasso, Ridge\n",
    "from sklearn.preprocessing import KBinsDiscretizer\n",
    "from sklearn.ensemble import RandomForestRegressor\n",
    "from sklearn.svm import LinearSVC, SVC\n",
    "from sklearn.tree import DecisionTreeRegressor\n",
    "from sklearn.model_selection import GridSearchCV\n",
    "from scipy.stats import zscore\n",
    "from sklearn.metrics import mean_squared_error\n",
    "from xgboost import XGBRegressor\n",
    "\n",
    "from yellowbrick.regressor import ResidualsPlot\n",
    "from yellowbrick.features.importances import FeatureImportances"
   ]
  },
  {
   "cell_type": "code",
   "execution_count": 4,
   "metadata": {},
   "outputs": [],
   "source": [
    "import requests\n",
    "import json\n",
    "from datetime import datetime\n",
    "import time"
   ]
  },
  {
   "cell_type": "code",
   "execution_count": 5,
   "metadata": {},
   "outputs": [],
   "source": [
    "import os\n",
    "from pandas.tseries.holiday import USFederalHolidayCalendar as calendar"
   ]
  },
  {
   "cell_type": "markdown",
   "metadata": {},
   "source": [
    "### Import Custom Modules"
   ]
  },
  {
   "cell_type": "code",
   "execution_count": 6,
   "metadata": {},
   "outputs": [],
   "source": [
    "from config import yelp_api_key\n",
    "from config import darksky_api_key\n",
    "from restaurant_info import Location, Weather"
   ]
  },
  {
   "cell_type": "markdown",
   "metadata": {},
   "source": [
    "## Set Up"
   ]
  },
  {
   "cell_type": "code",
   "execution_count": 7,
   "metadata": {},
   "outputs": [],
   "source": [
    "# Analysis Dates\n",
    "start_date = '2017-01-01' # Start Date Inclusive\n",
    "end_date = '2019-06-19' # End Date Exclusive\n",
    "\n",
    "search_business = 'The Counting Room' # Not the actual Restaurant \n",
    "location = 'Brooklyn, NY'"
   ]
  },
  {
   "cell_type": "markdown",
   "metadata": {},
   "source": [
    "## Pull Weather Data"
   ]
  },
  {
   "cell_type": "markdown",
   "metadata": {},
   "source": [
    "### Get Latitude & Longitude from Yelp API"
   ]
  },
  {
   "cell_type": "code",
   "execution_count": 61,
   "metadata": {},
   "outputs": [
    {
     "name": "stdout",
     "output_type": "stream",
     "text": [
      "Weather Location: The Counting Room\n"
     ]
    }
   ],
   "source": [
    "rest_loc = Location(search_business, location)\n",
    "lat, long = rest_loc.get_lat_long()"
   ]
  },
  {
   "cell_type": "markdown",
   "metadata": {},
   "source": [
    "### Darksky API Call"
   ]
  },
  {
   "cell_type": "code",
   "execution_count": 62,
   "metadata": {},
   "outputs": [],
   "source": [
    "rest_weather = Weather(lat, long,'19:30:00')\n",
    "weather_df = rest_weather.weather_df(start_date, end_date)"
   ]
  },
  {
   "cell_type": "code",
   "execution_count": 64,
   "metadata": {},
   "outputs": [],
   "source": [
    "weather_df.to_csv(f'weather_{start_date}_to_{end_date}.csv')\n",
    "weather_csv_file = f'weather_{start_date}_to_{end_date}.csv'"
   ]
  },
  {
   "cell_type": "markdown",
   "metadata": {},
   "source": [
    "## Import / Clean / Prep File"
   ]
  },
  {
   "cell_type": "code",
   "execution_count": 65,
   "metadata": {},
   "outputs": [],
   "source": [
    "# Restaurant File\n",
    "current_file = 'rest_1_dinner_sales_w_covers_061819.csv'\n",
    "\n",
    "# Weather File\n",
    "weather_csv_file = 'weather_2017-01-01_to_2019-06-18.csv'"
   ]
  },
  {
   "cell_type": "code",
   "execution_count": 66,
   "metadata": {},
   "outputs": [],
   "source": [
    "# HELPER FUNCTION\n",
    "def filter_df(df, start_date, end_date):\n",
    "    \n",
    "    return df[(df.index > start_date) & (df.index < end_date)]"
   ]
  },
  {
   "cell_type": "code",
   "execution_count": 67,
   "metadata": {},
   "outputs": [],
   "source": [
    "# HELPER FUNCTION\n",
    "def import_parse(file):\n",
    "\n",
    "    data = pd.read_csv(file, index_col = 'date', parse_dates=True)\n",
    "    df = pd.DataFrame(data)\n",
    "    \n",
    "    # Rename Column to 'sales'\n",
    "    df = df.rename(columns={df.columns[0]: 'sales',\n",
    "                           'dinner_covers': 'covers'})\n",
    "    \n",
    "    # Drop NaN\n",
    "    #df = df.query('sales > 0').copy()\n",
    "    df.fillna(0, inplace=True)\n",
    "    \n",
    "    print(f'\"{file}\" has been imported + parsed. The file has {len(df)} rows.')\n",
    "    \n",
    "    return df"
   ]
  },
  {
   "cell_type": "code",
   "execution_count": 68,
   "metadata": {},
   "outputs": [],
   "source": [
    "# HELPER FUNCTION\n",
    "def prepare_data(current_file, weather_file):\n",
    "    \n",
    "    df = filter_df(import_parse(current_file), start_date, end_date)\n",
    "    weather_df_csv = pd.read_csv(weather_csv_file, parse_dates=True, index_col='date')\n",
    "    weather_df_csv['summary'].fillna(value='none', inplace=True)\n",
    "    \n",
    "    df = pd.merge(df, weather_df_csv, how='left', on='date')\n",
    "    \n",
    "    return df"
   ]
  },
  {
   "cell_type": "markdown",
   "metadata": {},
   "source": [
    "### Encode Closed Days"
   ]
  },
  {
   "cell_type": "code",
   "execution_count": 69,
   "metadata": {},
   "outputs": [],
   "source": [
    "# Set Closed Dates using Sales & User Input\n",
    "\n",
    "# CLOSED DATES\n",
    "additional_closed_dates = ['2018-12-24', '2017-12-24', '2017-02-05', '2017-03-14', '2018-01-01', '2018-02-04', '2019-02-03']\n",
    "closed_dates = [pd.to_datetime(date) for date in additional_closed_dates]\n",
    "\n",
    "# Drop or Encode Closed Days\n",
    "def encode_closed_days(df):\n",
    "\n",
    "    # CLOSED FEATURE\n",
    "    cal = calendar()\n",
    "\n",
    "    # Local list of days with zero sales\n",
    "    potential_closed_dates = df[df['sales'] == 0].index\n",
    "\n",
    "    # Enocodes closed days with 1\n",
    "    df['closed'] = np.where((((df.index.isin(potential_closed_dates)) & \\\n",
    "                              (df.index.isin(cal.holidays(start_date, end_date)))) | df.index.isin(closed_dates)), 1, 0)\n",
    "\n",
    "    df['sales'] = np.where(df['closed'] == 1, 0, df['sales'])\n",
    "    \n",
    "    return df"
   ]
  },
  {
   "cell_type": "markdown",
   "metadata": {},
   "source": [
    "### Impute Outliers in Data"
   ]
  },
  {
   "cell_type": "code",
   "execution_count": 70,
   "metadata": {},
   "outputs": [],
   "source": [
    " #Replace Outliers with Medians\n",
    "## Targets for Outliers\n",
    "\n",
    "z_thresh = 3\n",
    "\n",
    "def impute_outliers(df, *col):\n",
    "    \n",
    "    # Check for Outliers in Sales + Covers\n",
    "    for c in col:\n",
    "        \n",
    "        # Impute Median for Sales & Covers Based on Day of Week Outiers\n",
    "        for d in df['day_of_week'].unique():\n",
    "            \n",
    "            # Median / Mean / STD for each day of the week\n",
    "            daily_median = np.median(df[df['day_of_week'] == d][c])\n",
    "            daily_mean = np.mean(df[df['day_of_week'] == d][c])\n",
    "            daily_std = np.std(df[df['day_of_week'] ==d ][c])\n",
    "            \n",
    "            # Temporary column encoded if Target Columns have an Outlier\n",
    "            df['temp_col'] = np.where((df['day_of_week'] == d) & (df['closed'] == 0) & ((np.abs(df[c] - daily_mean)) > (daily_std * z_thresh)), 1, 0)\n",
    "            \n",
    "            # Replace Outlier with Median\n",
    "            df[c] = np.where(df['temp_col'] == 1, daily_median, df[c])\n",
    "            df = df.drop(['temp_col'], axis=1)\n",
    "        \n",
    "    \n",
    "    return df"
   ]
  },
  {
   "cell_type": "markdown",
   "metadata": {},
   "source": [
    "### Add Per Person Average (PPA)"
   ]
  },
  {
   "cell_type": "code",
   "execution_count": 71,
   "metadata": {},
   "outputs": [],
   "source": [
    "# Add column with Per Person Average (Sales per Cover)\n",
    "def add_ppa(df):\n",
    "    \n",
    "    df['ppa'] = np.where(df['covers'] > 0, df['sales'] / df['covers'], 0)\n",
    "    \n",
    "    return df"
   ]
  },
  {
   "cell_type": "markdown",
   "metadata": {},
   "source": [
    "## Clean File Here"
   ]
  },
  {
   "cell_type": "code",
   "execution_count": 136,
   "metadata": {},
   "outputs": [
    {
     "name": "stdout",
     "output_type": "stream",
     "text": [
      "\"rest_1_dinner_sales_w_covers_061819.csv\" has been imported + parsed. The file has 899 rows.\n"
     ]
    }
   ],
   "source": [
    "data = add_ppa(impute_outliers(encode_closed_days(prepare_data(current_file, weather_csv_file)), 'sales', 'covers'))"
   ]
  },
  {
   "cell_type": "code",
   "execution_count": 165,
   "metadata": {},
   "outputs": [
    {
     "data": {
      "text/html": [
       "<div>\n",
       "<style scoped>\n",
       "    .dataframe tbody tr th:only-of-type {\n",
       "        vertical-align: middle;\n",
       "    }\n",
       "\n",
       "    .dataframe tbody tr th {\n",
       "        vertical-align: top;\n",
       "    }\n",
       "\n",
       "    .dataframe thead th {\n",
       "        text-align: right;\n",
       "    }\n",
       "</style>\n",
       "<table border=\"1\" class=\"dataframe\">\n",
       "  <thead>\n",
       "    <tr style=\"text-align: right;\">\n",
       "      <th></th>\n",
       "      <th>sales</th>\n",
       "      <th>covers</th>\n",
       "      <th>outside</th>\n",
       "      <th>apparent_temperature</th>\n",
       "      <th>humidity</th>\n",
       "      <th>precip_intensity_max</th>\n",
       "      <th>precip_max_time</th>\n",
       "      <th>precip_prob</th>\n",
       "      <th>precip_type</th>\n",
       "      <th>pressure</th>\n",
       "      <th>summary</th>\n",
       "      <th>temperature</th>\n",
       "      <th>day_of_week</th>\n",
       "      <th>month</th>\n",
       "      <th>closed</th>\n",
       "      <th>ppa</th>\n",
       "    </tr>\n",
       "    <tr>\n",
       "      <th>date</th>\n",
       "      <th></th>\n",
       "      <th></th>\n",
       "      <th></th>\n",
       "      <th></th>\n",
       "      <th></th>\n",
       "      <th></th>\n",
       "      <th></th>\n",
       "      <th></th>\n",
       "      <th></th>\n",
       "      <th></th>\n",
       "      <th></th>\n",
       "      <th></th>\n",
       "      <th></th>\n",
       "      <th></th>\n",
       "      <th></th>\n",
       "      <th></th>\n",
       "    </tr>\n",
       "  </thead>\n",
       "  <tbody>\n",
       "    <tr>\n",
       "      <th>2019-06-14</th>\n",
       "      <td>19688.38</td>\n",
       "      <td>292.0</td>\n",
       "      <td>1.0</td>\n",
       "      <td>74.34</td>\n",
       "      <td>0.32</td>\n",
       "      <td>0.0217</td>\n",
       "      <td>12:00AM</td>\n",
       "      <td>0.00</td>\n",
       "      <td>rain</td>\n",
       "      <td>1014.42</td>\n",
       "      <td>partly-cloudy-day</td>\n",
       "      <td>74.34</td>\n",
       "      <td>4</td>\n",
       "      <td>6</td>\n",
       "      <td>0</td>\n",
       "      <td>67.425959</td>\n",
       "    </tr>\n",
       "    <tr>\n",
       "      <th>2019-06-15</th>\n",
       "      <td>21059.31</td>\n",
       "      <td>306.0</td>\n",
       "      <td>1.0</td>\n",
       "      <td>77.48</td>\n",
       "      <td>0.42</td>\n",
       "      <td>0.0063</td>\n",
       "      <td>12:00AM</td>\n",
       "      <td>0.00</td>\n",
       "      <td>rain</td>\n",
       "      <td>1015.07</td>\n",
       "      <td>partly-cloudy-day</td>\n",
       "      <td>77.48</td>\n",
       "      <td>5</td>\n",
       "      <td>6</td>\n",
       "      <td>0</td>\n",
       "      <td>68.821275</td>\n",
       "    </tr>\n",
       "    <tr>\n",
       "      <th>2019-06-16</th>\n",
       "      <td>17805.29</td>\n",
       "      <td>242.0</td>\n",
       "      <td>1.0</td>\n",
       "      <td>76.35</td>\n",
       "      <td>0.74</td>\n",
       "      <td>0.0092</td>\n",
       "      <td>08:00PM</td>\n",
       "      <td>0.15</td>\n",
       "      <td>rain</td>\n",
       "      <td>1009.46</td>\n",
       "      <td>partly-cloudy-day</td>\n",
       "      <td>75.63</td>\n",
       "      <td>6</td>\n",
       "      <td>6</td>\n",
       "      <td>0</td>\n",
       "      <td>73.575579</td>\n",
       "    </tr>\n",
       "    <tr>\n",
       "      <th>2019-06-17</th>\n",
       "      <td>18532.47</td>\n",
       "      <td>265.0</td>\n",
       "      <td>1.0</td>\n",
       "      <td>74.00</td>\n",
       "      <td>0.74</td>\n",
       "      <td>0.0037</td>\n",
       "      <td>02:00AM</td>\n",
       "      <td>0.00</td>\n",
       "      <td>rain</td>\n",
       "      <td>1015.15</td>\n",
       "      <td>partly-cloudy-day</td>\n",
       "      <td>73.47</td>\n",
       "      <td>0</td>\n",
       "      <td>6</td>\n",
       "      <td>0</td>\n",
       "      <td>69.933849</td>\n",
       "    </tr>\n",
       "    <tr>\n",
       "      <th>2019-06-18</th>\n",
       "      <td>14957.13</td>\n",
       "      <td>192.0</td>\n",
       "      <td>0.0</td>\n",
       "      <td>70.50</td>\n",
       "      <td>0.95</td>\n",
       "      <td>0.1560</td>\n",
       "      <td>06:00PM</td>\n",
       "      <td>0.86</td>\n",
       "      <td>rain</td>\n",
       "      <td>1010.87</td>\n",
       "      <td>rain</td>\n",
       "      <td>69.38</td>\n",
       "      <td>1</td>\n",
       "      <td>6</td>\n",
       "      <td>0</td>\n",
       "      <td>77.901719</td>\n",
       "    </tr>\n",
       "  </tbody>\n",
       "</table>\n",
       "</div>"
      ],
      "text/plain": [
       "               sales  covers  outside  apparent_temperature  humidity  \\\n",
       "date                                                                    \n",
       "2019-06-14  19688.38   292.0      1.0                 74.34      0.32   \n",
       "2019-06-15  21059.31   306.0      1.0                 77.48      0.42   \n",
       "2019-06-16  17805.29   242.0      1.0                 76.35      0.74   \n",
       "2019-06-17  18532.47   265.0      1.0                 74.00      0.74   \n",
       "2019-06-18  14957.13   192.0      0.0                 70.50      0.95   \n",
       "\n",
       "            precip_intensity_max precip_max_time  precip_prob precip_type  \\\n",
       "date                                                                        \n",
       "2019-06-14                0.0217         12:00AM         0.00        rain   \n",
       "2019-06-15                0.0063         12:00AM         0.00        rain   \n",
       "2019-06-16                0.0092         08:00PM         0.15        rain   \n",
       "2019-06-17                0.0037         02:00AM         0.00        rain   \n",
       "2019-06-18                0.1560         06:00PM         0.86        rain   \n",
       "\n",
       "            pressure            summary  temperature  day_of_week  month  \\\n",
       "date                                                                       \n",
       "2019-06-14   1014.42  partly-cloudy-day        74.34            4      6   \n",
       "2019-06-15   1015.07  partly-cloudy-day        77.48            5      6   \n",
       "2019-06-16   1009.46  partly-cloudy-day        75.63            6      6   \n",
       "2019-06-17   1015.15  partly-cloudy-day        73.47            0      6   \n",
       "2019-06-18   1010.87               rain        69.38            1      6   \n",
       "\n",
       "            closed        ppa  \n",
       "date                           \n",
       "2019-06-14       0  67.425959  \n",
       "2019-06-15       0  68.821275  \n",
       "2019-06-16       0  73.575579  \n",
       "2019-06-17       0  69.933849  \n",
       "2019-06-18       0  77.901719  "
      ]
     },
     "execution_count": 165,
     "metadata": {},
     "output_type": "execute_result"
    }
   ],
   "source": [
    "data.tail()"
   ]
  },
  {
   "cell_type": "markdown",
   "metadata": {},
   "source": [
    "### Export CSV for EDA"
   ]
  },
  {
   "cell_type": "code",
   "execution_count": 137,
   "metadata": {},
   "outputs": [],
   "source": [
    "data.to_csv('CSV_for_EDA.csv')"
   ]
  },
  {
   "cell_type": "markdown",
   "metadata": {},
   "source": [
    "## CHOOSE TARGET --> SALES OR COVERS"
   ]
  },
  {
   "cell_type": "code",
   "execution_count": 138,
   "metadata": {},
   "outputs": [],
   "source": [
    "target = 'sales'"
   ]
  },
  {
   "cell_type": "markdown",
   "metadata": {},
   "source": [
    "### Create Month Clusters"
   ]
  },
  {
   "cell_type": "code",
   "execution_count": 139,
   "metadata": {},
   "outputs": [
    {
     "name": "stderr",
     "output_type": "stream",
     "text": [
      "/anaconda3/lib/python3.7/site-packages/sklearn/preprocessing/data.py:323: DataConversionWarning: Data with input dtype int64, float64 were all converted to float64 by MinMaxScaler.\n",
      "  return self.partial_fit(X, y)\n"
     ]
    }
   ],
   "source": [
    "from sklearn.cluster import KMeans\n",
    "\n",
    "day_k = 7\n",
    "mo_k = 3\n",
    "\n",
    "def create_clusters(df, target, col, k):\n",
    "    \n",
    "    # MAKE DATAFRAME USING CENTRAL TENDENCIES AS FEATURES\n",
    "    describe = df.groupby(col)[target].aggregate(['median', 'std', 'max'])\n",
    "    df = describe.reset_index()\n",
    "    \n",
    "    # SCALE TEMPORARY DF\n",
    "    scaler = MinMaxScaler()\n",
    "    f = scaler.fit_transform(df)\n",
    "    \n",
    "    # INSTANTIATE MODEL\n",
    "    km = KMeans(n_clusters=k, random_state=0).fit(f)\n",
    "    \n",
    "    # GET KMEANS CLUSTER PREDICTIONS\n",
    "    labels = km.predict(f)\n",
    "    \n",
    "    # MAKE SERIES FROM PREDICTIONS\n",
    "    temp = pd.DataFrame(labels, columns = ['cluster'], index=df.index)\n",
    "    \n",
    "    # CONCAT CLUSTERS TO DATAFRAME\n",
    "    df = pd.concat([df, temp], axis=1)\n",
    "    \n",
    "    # CREATE CLUSTER DICTIONARY\n",
    "    temp_dict = {}\n",
    "    for i in list(df[col]):\n",
    "        \n",
    "        temp_dict[i] = df.loc[df[col] == i, 'cluster'].iloc[0]\n",
    "    \n",
    "    return temp_dict\n",
    "\n",
    "# Create Global Dictionaries to Categorize Day / Month\n",
    "#day_dict = create_clusters(data, 'day_of_week', day_k)\n",
    "month_dict = create_clusters(data, target, 'month', mo_k)"
   ]
  },
  {
   "cell_type": "code",
   "execution_count": 140,
   "metadata": {},
   "outputs": [
    {
     "name": "stdout",
     "output_type": "stream",
     "text": [
      "Month Clusters:  {1: 2, 2: 2, 3: 2, 4: 0, 5: 0, 6: 0, 7: 0, 8: 0, 9: 0, 10: 0, 11: 1, 12: 1} \n",
      " Total Clusters:  3\n"
     ]
    }
   ],
   "source": [
    "# Print Clusters\n",
    "print('Month Clusters: ', month_dict, '\\n', 'Total Clusters: ', len(set(month_dict.values())))"
   ]
  },
  {
   "cell_type": "markdown",
   "metadata": {},
   "source": [
    "### Add Temperature Onehot Categories"
   ]
  },
  {
   "cell_type": "code",
   "execution_count": 141,
   "metadata": {},
   "outputs": [],
   "source": [
    "def encode_temp(df):\n",
    "    \n",
    "    #Onehot encoder\n",
    "    temp_enc = KBinsDiscretizer(n_bins=5, encode='onehot', strategy='kmeans')\n",
    "    temp_enc.fit(df[['apparent_temperature']])\n",
    "    \n",
    "    return temp_enc\n",
    "    \n",
    "def one_hot_temp(df, temp_enc):\n",
    "    \n",
    "    #Bin temps into five categories\n",
    "    binned_transform = temp_enc.transform(df[['apparent_temperature']])\n",
    "    binned_df = pd.DataFrame(binned_transform.toarray(), index=df.index, columns=['temp_very_cold', 'temp_cold', 'temp_warm', 'temp_hot', 'temp_very_hot'])\n",
    "    df = df.merge(binned_df, how='left', on='date')\n",
    "    df.drop(['apparent_temperature', 'temperature'], axis=1, inplace=True)\n",
    "\n",
    "    return df, temp_enc"
   ]
  },
  {
   "cell_type": "markdown",
   "metadata": {},
   "source": [
    "## Feature Engineering"
   ]
  },
  {
   "cell_type": "code",
   "execution_count": 162,
   "metadata": {},
   "outputs": [],
   "source": [
    "# Add Clusters to DataFrame to use as Features\n",
    "def add_clusters(df):\n",
    "    \n",
    "    #df['day_cluster'] = df['day_of_week'].apply(lambda x: day_dict[x]).astype('category')\n",
    "    df['month_cluster'] = df['month'].apply(lambda x: month_dict[x]).astype('category')\n",
    "    df = df.drop(['month'], axis=1)\n",
    "    \n",
    "    return df"
   ]
  },
  {
   "cell_type": "markdown",
   "metadata": {},
   "source": [
    "### Add Weather Features"
   ]
  },
  {
   "cell_type": "code",
   "execution_count": 143,
   "metadata": {},
   "outputs": [],
   "source": [
    "hours_start = '05:00PM'\n",
    "hours_end = '11:59PM'\n",
    "\n",
    "hs_dt = datetime.strptime(hours_start, \"%I:%M%p\")\n",
    "he_dt = datetime.strptime(hours_end, \"%I:%M%p\")\n",
    "\n",
    "def between_time(check_time):\n",
    "        \n",
    "    if hs_dt <= datetime.strptime(check_time, \"%I:%M%p\") <= he_dt:\n",
    "\n",
    "        return 1\n",
    "\n",
    "    else:\n",
    "\n",
    "        return 0"
   ]
  },
  {
   "cell_type": "code",
   "execution_count": 144,
   "metadata": {},
   "outputs": [],
   "source": [
    "add_weather = True\n",
    "\n",
    "temp_delta_window = 1\n",
    "\n",
    "def add_weather_features(df):\n",
    "    \n",
    "    if add_weather:\n",
    "        \n",
    "        # POOR WEATHER FEATURES\n",
    "        df['precip_while_open'] = np.where(df['precip_intensity_max'] > 0, df['precip_max_time'].apply(lambda x: between_time(x)), 0)\n",
    "    \n",
    "        # DROP FEATURES\n",
    "        features_to_drop = ['precip_max_time']\n",
    "        df.drop(features_to_drop, axis=1, inplace=True)\n",
    "        \n",
    "    return df"
   ]
  },
  {
   "cell_type": "markdown",
   "metadata": {},
   "source": [
    "### Add Calendar Features"
   ]
  },
  {
   "cell_type": "code",
   "execution_count": 145,
   "metadata": {},
   "outputs": [],
   "source": [
    "def add_cal_features(df):\n",
    "    \n",
    "    cal = calendar()\n",
    "\n",
    "    # THREE DAY WEEKEND FEATURE\n",
    "    sunday_three_days = [date + pd.DateOffset(-1) for date in cal.holidays(start_date, end_date) if date.dayofweek == 0]\n",
    "    df['sunday_three_day'] = np.where(df.index.isin(sunday_three_days), 1, 0)\n",
    "    \n",
    "    return df"
   ]
  },
  {
   "cell_type": "markdown",
   "metadata": {},
   "source": [
    "### Add Dummies"
   ]
  },
  {
   "cell_type": "code",
   "execution_count": 146,
   "metadata": {},
   "outputs": [],
   "source": [
    "def add_dummies(df):\n",
    "    \n",
    "    df['day_of_week'] = df['day_of_week'].astype('category')\n",
    "    \n",
    "    df = pd.get_dummies(data=df, columns=['day_of_week', 'month_cluster'])\n",
    "    \n",
    "    return df"
   ]
  },
  {
   "cell_type": "markdown",
   "metadata": {},
   "source": [
    "### Add Interactions"
   ]
  },
  {
   "cell_type": "code",
   "execution_count": 147,
   "metadata": {},
   "outputs": [],
   "source": [
    "def add_interactions(df):\n",
    "    \n",
    "    apply_this_interaction = False\n",
    "    \n",
    "    if apply_this_interaction:\n",
    "        \n",
    "        for d in [col for col in df.columns if col.startswith('day_of_week')]:\n",
    "            \n",
    "            for m in [col for col in df.columns if col.startswith('month_cluster')]:\n",
    "                \n",
    "                col_name = d + '_X_' + m\n",
    "                \n",
    "                df[col_name] = df[d] * df[m]\n",
    "                \n",
    "            df.drop([d], axis=1, inplace=True)\n",
    "        \n",
    "        df.drop([col for col in df.columns if col.startswith('month_cluster')], axis=1, inplace=True)\n",
    "                \n",
    "        return df\n",
    "    \n",
    "    else:\n",
    "        \n",
    "        return df"
   ]
  },
  {
   "cell_type": "code",
   "execution_count": 148,
   "metadata": {},
   "outputs": [],
   "source": [
    "def add_weather_interactions(df):\n",
    "    \n",
    "    apply_this_interaction = True\n",
    "    \n",
    "    if apply_this_interaction:\n",
    "        \n",
    "        try:\n",
    "            \n",
    "            df['outside_X_precip_open'] = df['outside'] * df['precip_while_open']\n",
    "            \n",
    "            for t in [col for col in df.columns if col.startswith('temp_')]:\n",
    "\n",
    "                col_name = t + '_X_' + 'outside'\n",
    "                df[col_name] = df[t] * df['outside']\n",
    "\n",
    "            df.drop(['outside'], axis=1, inplace=True)\n",
    "            \n",
    "        except:\n",
    "            \n",
    "            pass\n",
    "        \n",
    "        return df\n",
    "    \n",
    "    else:\n",
    "        \n",
    "        return df"
   ]
  },
  {
   "cell_type": "markdown",
   "metadata": {},
   "source": [
    "### Feature Selection"
   ]
  },
  {
   "cell_type": "code",
   "execution_count": 161,
   "metadata": {},
   "outputs": [],
   "source": [
    "def feature_selection(df):\n",
    "    \n",
    "    try:\n",
    "        target_list = ['sales', 'covers', 'ppa']\n",
    "\n",
    "        target_to_drop = [t for t in target_list if t != target]\n",
    "\n",
    "        df = df.drop(target_to_drop, axis=1)\n",
    "        \n",
    "    except:\n",
    "        pass\n",
    "        \n",
    "    # Feature Selection / Drop unnecessary or correlated columns\n",
    "    cols_to_drop = ['precip_type', 'summary', 'pressure', 'precip_intensity_max', 'day_of_week_0']\n",
    "    \n",
    "    df = df.drop(cols_to_drop, axis=1)\n",
    "    \n",
    "    return df"
   ]
  },
  {
   "cell_type": "markdown",
   "metadata": {},
   "source": [
    "### Add Target Trend Feature Engineering"
   ]
  },
  {
   "cell_type": "code",
   "execution_count": 150,
   "metadata": {},
   "outputs": [],
   "source": [
    "trend_days_rolling = 28\n",
    "trend_days_shift = 7\n",
    "days_fwd = trend_days_rolling + trend_days_shift + 1\n",
    "\n",
    "def target_trend_engineering(df):\n",
    "    \n",
    "    df['target_trend'] = df[target].shift(1).rolling(trend_days_rolling).mean() / df[target].shift(trend_days_shift).rolling(trend_days_rolling).mean()\n",
    "    \n",
    "    return df"
   ]
  },
  {
   "cell_type": "markdown",
   "metadata": {},
   "source": [
    "## Start Here"
   ]
  },
  {
   "cell_type": "code",
   "execution_count": 151,
   "metadata": {},
   "outputs": [
    {
     "name": "stdout",
     "output_type": "stream",
     "text": [
      "\"rest_1_dinner_sales_w_covers_061819.csv\" has been imported + parsed. The file has 899 rows.\n"
     ]
    }
   ],
   "source": [
    "# IMPORT & PARSE CLEAN TRAINING SET\n",
    "dfx = add_ppa(impute_outliers(encode_closed_days(prepare_data(current_file, weather_csv_file)), 'sales', 'covers'));"
   ]
  },
  {
   "cell_type": "code",
   "execution_count": 152,
   "metadata": {},
   "outputs": [],
   "source": [
    "# One Hot Encode Temperature Data\n",
    "dfx, temp_enc = one_hot_temp(data, encode_temp(dfx))"
   ]
  },
  {
   "cell_type": "code",
   "execution_count": 153,
   "metadata": {},
   "outputs": [],
   "source": [
    "def feature_engineering(df):\n",
    "    \n",
    "    df.columns = df.columns.map(str)\n",
    "    \n",
    "    # Add day & Month Clusters // Dicts with data held in Global Variable\n",
    "    df = add_clusters(df)\n",
    "    \n",
    "    # Add Engineered Features for Weather & Calendar\n",
    "    df = add_weather_features(df)\n",
    "    df = add_cal_features(df)\n",
    "    \n",
    "    # Create Dummies\n",
    "    df = add_dummies(df)\n",
    "    \n",
    "    # Add Interactions\n",
    "    df = add_interactions(df)\n",
    "    df = add_weather_interactions(df)\n",
    "    \n",
    "    # Drop Selected Columns\n",
    "    df = feature_selection(df)\n",
    "    \n",
    "    return df\n",
    "\n",
    "dfx = feature_engineering(dfx)"
   ]
  },
  {
   "cell_type": "code",
   "execution_count": 154,
   "metadata": {},
   "outputs": [],
   "source": [
    "dfx = target_trend_engineering(dfx)"
   ]
  },
  {
   "cell_type": "code",
   "execution_count": 155,
   "metadata": {},
   "outputs": [
    {
     "data": {
      "image/png": "[encoded data removed]",
      "text/plain": [
       "<Figure size 1152x864 with 2 Axes>"
      ]
     },
     "metadata": {},
     "output_type": "display_data"
    }
   ],
   "source": [
    "def corr_chart(df):\n",
    "    \n",
    "    corr = df.corr()\n",
    "\n",
    "    mask = np.zeros_like(corr, dtype=np.bool)\n",
    "    mask[np.triu_indices_from(mask)] = True\n",
    "\n",
    "    # Set up the matplotlib figure\n",
    "    sns.set_style('whitegrid')\n",
    "    f, ax = plt.subplots(figsize=(16, 12))\n",
    "\n",
    "    # Generate a custom diverging colormap\n",
    "    cmap = sns.diverging_palette(220, 10, as_cmap=True)\n",
    "\n",
    "    # Draw the heatmap with the mask and correct aspect ratio\n",
    "    sns.heatmap(corr, mask=mask, cmap=cmap, vmax=1, vmin=-1, center=0,\n",
    "                square=True, linewidths=.75, annot=False, cbar_kws={\"shrink\": .75});\n",
    "    \n",
    "corr_chart(dfx)"
   ]
  },
  {
   "cell_type": "markdown",
   "metadata": {},
   "source": [
    "## Train / Test / Split"
   ]
  },
  {
   "cell_type": "code",
   "execution_count": 156,
   "metadata": {},
   "outputs": [],
   "source": [
    "def cv_split(df):\n",
    "    \n",
    "    features = dfx.drop([target], axis=1)[days_fwd:]\n",
    "    y = dfx[target][days_fwd:]\n",
    "    \n",
    "    return features, y\n",
    "\n",
    "cv_features, cv_y = cv_split(dfx)"
   ]
  },
  {
   "cell_type": "code",
   "execution_count": 157,
   "metadata": {},
   "outputs": [
    {
     "name": "stdout",
     "output_type": "stream",
     "text": [
      "Train set:  694\n",
      "Test set:  169\n"
     ]
    }
   ],
   "source": [
    "def train_test_split(df):\n",
    "    \n",
    "    # Separate Target & Features\n",
    "    y = df[target]\n",
    "    features = df.drop([target], axis=1)\n",
    "    \n",
    "    # Test / Train / Split\n",
    "    train_date_start = '2017-01-01'\n",
    "    train_date_end = '2018-12-31'\n",
    "    \n",
    "    X_train = features[pd.to_datetime(train_date_start) + pd.DateOffset(days_fwd):train_date_end]\n",
    "    X_test = features[pd.to_datetime(train_date_end) + pd.DateOffset(1): ]\n",
    "    \n",
    "    y_train = y[pd.to_datetime(train_date_start) + pd.DateOffset(days_fwd):train_date_end]\n",
    "    y_test = y[pd.to_datetime(train_date_end) + pd.DateOffset(1): ]\n",
    "    \n",
    "    X_train = pd.DataFrame(X_train, columns=X_train.columns)\n",
    "    X_test = pd.DataFrame(X_test, columns=X_train.columns)\n",
    "    \n",
    "    print('Train set: ', len(X_train))\n",
    "    print('Test set: ', len(X_test))\n",
    "    \n",
    "    return X_train, X_test, y_train, y_test\n",
    "    \n",
    "X_train, X_test, y_train, y_test = train_test_split(dfx)"
   ]
  },
  {
   "cell_type": "markdown",
   "metadata": {},
   "source": [
    "## XGB Regressor"
   ]
  },
  {
   "cell_type": "code",
   "execution_count": 158,
   "metadata": {},
   "outputs": [],
   "source": [
    "# Model Set Up\n",
    "def xgb_model(X_train, y_train):\n",
    "    \n",
    "    objective = 'reg:linear'\n",
    "    booster = 'gbtree'\n",
    "    nthread = 4\n",
    "    learning_rate = 0.025\n",
    "    max_depth = 4\n",
    "    colsample_bytree = 0.85\n",
    "    n_estimators = 375\n",
    "    min_child_weight = 2\n",
    "    \n",
    "    xgb_rgr= XGBRegressor(booster=booster, objective=objective, colsample_bytree=colsample_bytree, learning_rate=learning_rate, \n",
    "                         max_depth=max_depth, nthread=nthread, n_estimators=n_estimators, min_child_weight=min_child_weight,\n",
    "                         random_state = 0)\n",
    "    \n",
    "    xgb_rgr = xgb_rgr.fit(X_train, y_train)\n",
    "    \n",
    "    return xgb_rgr"
   ]
  },
  {
   "cell_type": "code",
   "execution_count": 159,
   "metadata": {},
   "outputs": [],
   "source": [
    "# Run Model on Training Data\n",
    "xgb_rgr = xgb_model(X_train, y_train)"
   ]
  },
  {
   "cell_type": "code",
   "execution_count": 160,
   "metadata": {},
   "outputs": [
    {
     "name": "stdout",
     "output_type": "stream",
     "text": [
      "Formula Scores: \n",
      " Test R-Squared:  0.8340703923488066 \n",
      " Test Adjusted R-Squared:  0.8036889148915458 \n",
      "\n",
      "Sklearn Metric Scores:\n",
      "Train R-Squared:   0.8550465474975515\n",
      "Test R-Squared:   0.8340703923488066 \n",
      "\n",
      "Root Mean Squared Error:  1284.1785467775794 \n",
      "\n",
      "Cross Val Avg R-Squared:  0.7404323741292844 \n",
      "\n"
     ]
    }
   ],
   "source": [
    "def tree_score(rgr, X_test, y_test, cv_features, cv_y):\n",
    "    \n",
    "    y_hat = rgr.predict(X_test)\n",
    "    sum_squares_residual = sum((y_test - y_hat)**2)\n",
    "    sum_squares_total = sum((y_test - np.mean(y_test))**2)\n",
    "    r_squared = 1 - (float(sum_squares_residual))/sum_squares_total\n",
    "    adjusted_r_squared = 1 - (1-r_squared)*(len(y_test)-1)/(len(y_test)-X_test.shape[1]-1)\n",
    "    print('Formula Scores:', '\\n', 'Test R-Squared: ', r_squared,'\\n', 'Test Adjusted R-Squared: ', adjusted_r_squared, '\\n')\n",
    "    \n",
    "    print('Sklearn Metric Scores:')\n",
    "    train_score = rgr.score(X_train, y_train)\n",
    "    test_score = rgr.score(X_test, y_test)\n",
    "    \n",
    "    y_pred = rgr.predict(X_test)\n",
    "    rmse = np.sqrt(mean_squared_error(y_test, y_pred))\n",
    "    \n",
    "    pred_df = pd.DataFrame(y_pred, index=y_test.index)\n",
    "    pred_df = pred_df.rename(columns={0: 'pred_'+target})\n",
    "    \n",
    "    print('Train R-Squared:  ', train_score)\n",
    "    print('Test R-Squared:  ', test_score, '\\n')\n",
    "    \n",
    "    print('Root Mean Squared Error: ', rmse, '\\n')\n",
    "    \n",
    "    print('Cross Val Avg R-Squared: ',  \\\n",
    "          np.mean(cross_val_score(rgr, cv_features, cv_y, cv=5, scoring='r2')), '\\n')\n",
    "        \n",
    "    return pred_df\n",
    "\n",
    "pred_df = tree_score(xgb_rgr, X_test, y_test, cv_features, cv_y) "
   ]
  },
  {
   "cell_type": "markdown",
   "metadata": {},
   "source": [
    "### RESIDUAL PLOT"
   ]
  },
  {
   "cell_type": "code",
   "execution_count": 99,
   "metadata": {},
   "outputs": [
    {
     "data": {
      "image/png": "[encoded data removed]",
      "text/plain": [
       "<Figure size 864x576 with 1 Axes>"
      ]
     },
     "metadata": {},
     "output_type": "display_data"
    }
   ],
   "source": [
    "plt.figure(figsize=(12,8))\n",
    "\n",
    "visualizer = ResidualsPlot(xgb_rgr, hist=False)\n",
    "\n",
    "visualizer.fit(X_train, y_train)\n",
    "visualizer.score(X_test, y_test)\n",
    "visualizer.poof();"
   ]
  },
  {
   "cell_type": "markdown",
   "metadata": {},
   "source": [
    "### Feature Importance"
   ]
  },
  {
   "cell_type": "code",
   "execution_count": 100,
   "metadata": {},
   "outputs": [
    {
     "data": {
      "image/png": "[encoded data removed]",
      "text/plain": [
       "<Figure size 864x576 with 1 Axes>"
      ]
     },
     "metadata": {},
     "output_type": "display_data"
    }
   ],
   "source": [
    "features = list(X_train.columns)\n",
    "\n",
    "fig = plt.figure(figsize=(12,8))\n",
    "ax = fig.add_subplot()\n",
    "\n",
    "labels = list(map(lambda x: x.title(), features))\n",
    "visualizer = FeatureImportances(xgb_rgr, ax=ax, labels=labels, relative=False)\n",
    "\n",
    "visualizer.fit(X_train, y_train)\n",
    "visualizer.poof();"
   ]
  },
  {
   "cell_type": "markdown",
   "metadata": {},
   "source": [
    "### Run Final Model on Entire Dataset"
   ]
  },
  {
   "cell_type": "code",
   "execution_count": 101,
   "metadata": {},
   "outputs": [],
   "source": [
    "# Run Model on All Data\n",
    "xgb_rgr_finalized = xgb_model(cv_features, cv_y)"
   ]
  },
  {
   "cell_type": "code",
   "execution_count": 102,
   "metadata": {},
   "outputs": [
    {
     "name": "stdout",
     "output_type": "stream",
     "text": [
      "Formula Scores: \n",
      " Test R-Squared:  0.8592607274806568 \n",
      " Test Adjusted R-Squared:  0.8548784267794558 \n",
      "\n",
      "Sklearn Metric Scores:\n",
      "Train R-Squared:   0.8511926118803055\n",
      "Test R-Squared:   0.8592607274806568 \n",
      "\n",
      "Root Mean Squared Error:  1268.816520214201 \n",
      "\n",
      "Cross Val Avg R-Squared:  0.7404323741292844 \n",
      "\n"
     ]
    }
   ],
   "source": [
    "# Score Finalized Model on Entire Dataset\n",
    "pred_all = tree_score(xgb_rgr_finalized, cv_features, cv_y, cv_features, cv_y)"
   ]
  },
  {
   "cell_type": "markdown",
   "metadata": {},
   "source": [
    "## Evaluation - Actual Sales vs. Predicted (On Test Set)"
   ]
  },
  {
   "cell_type": "code",
   "execution_count": 103,
   "metadata": {},
   "outputs": [],
   "source": [
    "eval_df = pred_df.merge(data, on='date', how='inner')"
   ]
  },
  {
   "cell_type": "code",
   "execution_count": 104,
   "metadata": {},
   "outputs": [
    {
     "data": {
      "text/html": [
       "<div>\n",
       "<style scoped>\n",
       "    .dataframe tbody tr th:only-of-type {\n",
       "        vertical-align: middle;\n",
       "    }\n",
       "\n",
       "    .dataframe tbody tr th {\n",
       "        vertical-align: top;\n",
       "    }\n",
       "\n",
       "    .dataframe thead th {\n",
       "        text-align: right;\n",
       "    }\n",
       "</style>\n",
       "<table border=\"1\" class=\"dataframe\">\n",
       "  <thead>\n",
       "    <tr style=\"text-align: right;\">\n",
       "      <th></th>\n",
       "      <th>count</th>\n",
       "      <th>mean</th>\n",
       "      <th>std</th>\n",
       "      <th>min</th>\n",
       "      <th>25%</th>\n",
       "      <th>50%</th>\n",
       "      <th>75%</th>\n",
       "      <th>max</th>\n",
       "    </tr>\n",
       "    <tr>\n",
       "      <th>day_of_week</th>\n",
       "      <th></th>\n",
       "      <th></th>\n",
       "      <th></th>\n",
       "      <th></th>\n",
       "      <th></th>\n",
       "      <th></th>\n",
       "      <th></th>\n",
       "      <th></th>\n",
       "    </tr>\n",
       "  </thead>\n",
       "  <tbody>\n",
       "    <tr>\n",
       "      <th>0</th>\n",
       "      <td>24.0</td>\n",
       "      <td>941.439290</td>\n",
       "      <td>650.865260</td>\n",
       "      <td>16.013672</td>\n",
       "      <td>452.930176</td>\n",
       "      <td>764.629375</td>\n",
       "      <td>1450.209473</td>\n",
       "      <td>2116.075781</td>\n",
       "    </tr>\n",
       "    <tr>\n",
       "      <th>1</th>\n",
       "      <td>25.0</td>\n",
       "      <td>887.631829</td>\n",
       "      <td>875.796160</td>\n",
       "      <td>45.201992</td>\n",
       "      <td>289.531719</td>\n",
       "      <td>486.794258</td>\n",
       "      <td>1340.586953</td>\n",
       "      <td>3168.585781</td>\n",
       "    </tr>\n",
       "    <tr>\n",
       "      <th>2</th>\n",
       "      <td>24.0</td>\n",
       "      <td>1279.948621</td>\n",
       "      <td>985.795601</td>\n",
       "      <td>72.950156</td>\n",
       "      <td>579.840850</td>\n",
       "      <td>933.702480</td>\n",
       "      <td>1934.534902</td>\n",
       "      <td>3638.452578</td>\n",
       "    </tr>\n",
       "    <tr>\n",
       "      <th>3</th>\n",
       "      <td>24.0</td>\n",
       "      <td>677.832498</td>\n",
       "      <td>654.544333</td>\n",
       "      <td>13.209883</td>\n",
       "      <td>296.457510</td>\n",
       "      <td>494.131563</td>\n",
       "      <td>789.974854</td>\n",
       "      <td>2605.995352</td>\n",
       "    </tr>\n",
       "    <tr>\n",
       "      <th>4</th>\n",
       "      <td>24.0</td>\n",
       "      <td>1032.701364</td>\n",
       "      <td>834.724620</td>\n",
       "      <td>105.086680</td>\n",
       "      <td>485.986631</td>\n",
       "      <td>795.715820</td>\n",
       "      <td>1405.455342</td>\n",
       "      <td>3844.305625</td>\n",
       "    </tr>\n",
       "    <tr>\n",
       "      <th>5</th>\n",
       "      <td>24.0</td>\n",
       "      <td>1077.353691</td>\n",
       "      <td>781.869805</td>\n",
       "      <td>15.421094</td>\n",
       "      <td>538.277441</td>\n",
       "      <td>889.433867</td>\n",
       "      <td>1452.970469</td>\n",
       "      <td>3173.118750</td>\n",
       "    </tr>\n",
       "    <tr>\n",
       "      <th>6</th>\n",
       "      <td>24.0</td>\n",
       "      <td>940.788504</td>\n",
       "      <td>983.549372</td>\n",
       "      <td>18.710000</td>\n",
       "      <td>186.802178</td>\n",
       "      <td>499.007988</td>\n",
       "      <td>1763.891191</td>\n",
       "      <td>2994.484141</td>\n",
       "    </tr>\n",
       "  </tbody>\n",
       "</table>\n",
       "</div>"
      ],
      "text/plain": [
       "             count         mean         std         min         25%  \\\n",
       "day_of_week                                                           \n",
       "0             24.0   941.439290  650.865260   16.013672  452.930176   \n",
       "1             25.0   887.631829  875.796160   45.201992  289.531719   \n",
       "2             24.0  1279.948621  985.795601   72.950156  579.840850   \n",
       "3             24.0   677.832498  654.544333   13.209883  296.457510   \n",
       "4             24.0  1032.701364  834.724620  105.086680  485.986631   \n",
       "5             24.0  1077.353691  781.869805   15.421094  538.277441   \n",
       "6             24.0   940.788504  983.549372   18.710000  186.802178   \n",
       "\n",
       "                    50%          75%          max  \n",
       "day_of_week                                        \n",
       "0            764.629375  1450.209473  2116.075781  \n",
       "1            486.794258  1340.586953  3168.585781  \n",
       "2            933.702480  1934.534902  3638.452578  \n",
       "3            494.131563   789.974854  2605.995352  \n",
       "4            795.715820  1405.455342  3844.305625  \n",
       "5            889.433867  1452.970469  3173.118750  \n",
       "6            499.007988  1763.891191  2994.484141  "
      ]
     },
     "execution_count": 104,
     "metadata": {},
     "output_type": "execute_result"
    }
   ],
   "source": [
    "eval_df['absolute_error%'] = np.where(eval_df['sales'] > 0, np.abs(eval_df['sales'] - eval_df['pred_sales']) / eval_df['sales'], 0)\n",
    "eval_df['absolute_error'] = np.abs(eval_df['sales'] - eval_df['pred_sales'])\n",
    "eval_df['squared_error'] = ((eval_df['sales'] - eval_df['pred_sales'])**2)\n",
    "\n",
    "eval_df.groupby('day_of_week')['absolute_error'].describe()"
   ]
  },
  {
   "cell_type": "code",
   "execution_count": 105,
   "metadata": {},
   "outputs": [
    {
     "data": {
      "text/plain": [
       "976.2859822759682"
      ]
     },
     "execution_count": 105,
     "metadata": {},
     "output_type": "execute_result"
    }
   ],
   "source": [
    "eval_df['absolute_error'].sum() / len(eval_df['absolute_error'])"
   ]
  },
  {
   "cell_type": "code",
   "execution_count": 106,
   "metadata": {},
   "outputs": [
    {
     "data": {
      "text/plain": [
       "0.06068482090177032"
      ]
     },
     "execution_count": 106,
     "metadata": {},
     "output_type": "execute_result"
    }
   ],
   "source": [
    "eval_df['absolute_error%'].mean()"
   ]
  },
  {
   "cell_type": "markdown",
   "metadata": {},
   "source": [
    "## Predictions"
   ]
  },
  {
   "cell_type": "code",
   "execution_count": 131,
   "metadata": {},
   "outputs": [],
   "source": [
    "outside = 0\n",
    "\n",
    "def predict_one(clf, current_df, end_date):\n",
    "    \n",
    "    date_1 = pd.datetime.now().date() + pd.DateOffset(-days_fwd)\n",
    "    date_2 = end_date\n",
    "    \n",
    "    # Pull Weather Data / Forecast\n",
    "    weather_df = rest_weather.weather_df(date_1, date_2)\n",
    "    weather_df['outside'] = outside\n",
    "    \n",
    "    # One Hot Encode Temperature Using Fitted Encoder\n",
    "    df, _ = one_hot_temp(weather_df, temp_enc)\n",
    "    \n",
    "    df['closed'] = 0\n",
    "    \n",
    "    # Add Feature Engineering\n",
    "    df = feature_engineering(df)\n",
    "    \n",
    "    # Add Sales Data for Sales Trend Engineering\n",
    "    current_df = current_df[target]\n",
    "    df = pd.merge(df, current_df, on='date', how='left')\n",
    "    \n",
    "    df = target_trend_engineering(df)\n",
    "    df = df.drop([target], axis=1)\n",
    "    \n",
    "    # Ensure Column Parity\n",
    "    missing_cols = set(X_train.columns) - set(df.columns)\n",
    "    \n",
    "    for c in missing_cols:\n",
    "        df[c] = 0\n",
    "        \n",
    "    df = df[X_train.columns][-1:]\n",
    "    \n",
    "    # Predict and Build Prediction DataFrame for Review\n",
    "    pred_array = pd.DataFrame(clf.predict(df), index=df.index, columns=[target])\n",
    "    pred_df = pred_array.merge(df, on='date', how='left')\n",
    "    \n",
    "    return pred_df"
   ]
  },
  {
   "cell_type": "code",
   "execution_count": 132,
   "metadata": {},
   "outputs": [
    {
     "data": {
      "text/html": [
       "<div>\n",
       "<style scoped>\n",
       "    .dataframe tbody tr th:only-of-type {\n",
       "        vertical-align: middle;\n",
       "    }\n",
       "\n",
       "    .dataframe tbody tr th {\n",
       "        vertical-align: top;\n",
       "    }\n",
       "\n",
       "    .dataframe thead th {\n",
       "        text-align: right;\n",
       "    }\n",
       "</style>\n",
       "<table border=\"1\" class=\"dataframe\">\n",
       "  <thead>\n",
       "    <tr style=\"text-align: right;\">\n",
       "      <th></th>\n",
       "      <th>sales</th>\n",
       "      <th>humidity</th>\n",
       "      <th>precip_prob</th>\n",
       "      <th>closed</th>\n",
       "      <th>temp_very_cold</th>\n",
       "      <th>temp_cold</th>\n",
       "      <th>temp_warm</th>\n",
       "      <th>temp_hot</th>\n",
       "      <th>temp_very_hot</th>\n",
       "      <th>precip_while_open</th>\n",
       "      <th>...</th>\n",
       "      <th>month_cluster_0</th>\n",
       "      <th>month_cluster_1</th>\n",
       "      <th>month_cluster_2</th>\n",
       "      <th>outside_X_precip_open</th>\n",
       "      <th>temp_very_cold_X_outside</th>\n",
       "      <th>temp_cold_X_outside</th>\n",
       "      <th>temp_warm_X_outside</th>\n",
       "      <th>temp_hot_X_outside</th>\n",
       "      <th>temp_very_hot_X_outside</th>\n",
       "      <th>target_trend</th>\n",
       "    </tr>\n",
       "    <tr>\n",
       "      <th>date</th>\n",
       "      <th></th>\n",
       "      <th></th>\n",
       "      <th></th>\n",
       "      <th></th>\n",
       "      <th></th>\n",
       "      <th></th>\n",
       "      <th></th>\n",
       "      <th></th>\n",
       "      <th></th>\n",
       "      <th></th>\n",
       "      <th></th>\n",
       "      <th></th>\n",
       "      <th></th>\n",
       "      <th></th>\n",
       "      <th></th>\n",
       "      <th></th>\n",
       "      <th></th>\n",
       "      <th></th>\n",
       "      <th></th>\n",
       "      <th></th>\n",
       "      <th></th>\n",
       "    </tr>\n",
       "  </thead>\n",
       "  <tbody>\n",
       "    <tr>\n",
       "      <th>2019-06-19</th>\n",
       "      <td>14610.288086</td>\n",
       "      <td>0.95</td>\n",
       "      <td>0.0</td>\n",
       "      <td>0</td>\n",
       "      <td>0.0</td>\n",
       "      <td>0.0</td>\n",
       "      <td>0.0</td>\n",
       "      <td>1.0</td>\n",
       "      <td>0.0</td>\n",
       "      <td>1</td>\n",
       "      <td>...</td>\n",
       "      <td>1</td>\n",
       "      <td>0</td>\n",
       "      <td>0</td>\n",
       "      <td>0</td>\n",
       "      <td>0.0</td>\n",
       "      <td>0.0</td>\n",
       "      <td>0.0</td>\n",
       "      <td>0.0</td>\n",
       "      <td>0.0</td>\n",
       "      <td>0.976882</td>\n",
       "    </tr>\n",
       "  </tbody>\n",
       "</table>\n",
       "<p>1 rows × 27 columns</p>\n",
       "</div>"
      ],
      "text/plain": [
       "                   sales  humidity  precip_prob  closed  temp_very_cold  \\\n",
       "date                                                                      \n",
       "2019-06-19  14610.288086      0.95          0.0       0             0.0   \n",
       "\n",
       "            temp_cold  temp_warm  temp_hot  temp_very_hot  precip_while_open  \\\n",
       "date                                                                           \n",
       "2019-06-19        0.0        0.0       1.0            0.0                  1   \n",
       "\n",
       "            ...  month_cluster_0  month_cluster_1  month_cluster_2  \\\n",
       "date        ...                                                      \n",
       "2019-06-19  ...                1                0                0   \n",
       "\n",
       "            outside_X_precip_open  temp_very_cold_X_outside  \\\n",
       "date                                                          \n",
       "2019-06-19                      0                       0.0   \n",
       "\n",
       "            temp_cold_X_outside  temp_warm_X_outside  temp_hot_X_outside  \\\n",
       "date                                                                       \n",
       "2019-06-19                  0.0                  0.0                 0.0   \n",
       "\n",
       "            temp_very_hot_X_outside  target_trend  \n",
       "date                                               \n",
       "2019-06-19                      0.0      0.976882  \n",
       "\n",
       "[1 rows x 27 columns]"
      ]
     },
     "execution_count": 132,
     "metadata": {},
     "output_type": "execute_result"
    }
   ],
   "source": [
    "predict_date = '2019-06-19'\n",
    "\n",
    "tonight = predict_one(xgb_rgr_finalized, dfx, predict_date)\n",
    "tonight[-1:]"
   ]
  },
  {
   "cell_type": "markdown",
   "metadata": {},
   "source": [
    "### Predict Upcoming Week"
   ]
  },
  {
   "cell_type": "code",
   "execution_count": 133,
   "metadata": {},
   "outputs": [],
   "source": [
    "def predict_multiple(rgr, df, start_date, end_date):\n",
    "    \n",
    "    list_of_days = []\n",
    "    daterange = pd.date_range(start_date, end_date)\n",
    "    for single_date in daterange:\n",
    "        list_of_days.append(single_date.strftime(\"%Y-%m-%d\"))\n",
    "    \n",
    "    temp_df = df\n",
    "    \n",
    "    for day in list_of_days:\n",
    "        \n",
    "        temp_df = pd.concat([temp_df, predict_one(rgr, temp_df, day)], axis=0)\n",
    "    \n",
    "    return temp_df\n",
    "\n",
    "upcoming_df = predict_multiple(xgb_rgr_finalized, dfx, '2019-06-19', '2019-06-25')"
   ]
  },
  {
   "cell_type": "code",
   "execution_count": 134,
   "metadata": {},
   "outputs": [
    {
     "data": {
      "text/html": [
       "<div>\n",
       "<style scoped>\n",
       "    .dataframe tbody tr th:only-of-type {\n",
       "        vertical-align: middle;\n",
       "    }\n",
       "\n",
       "    .dataframe tbody tr th {\n",
       "        vertical-align: top;\n",
       "    }\n",
       "\n",
       "    .dataframe thead th {\n",
       "        text-align: right;\n",
       "    }\n",
       "</style>\n",
       "<table border=\"1\" class=\"dataframe\">\n",
       "  <thead>\n",
       "    <tr style=\"text-align: right;\">\n",
       "      <th></th>\n",
       "      <th>sales</th>\n",
       "      <th>closed</th>\n",
       "      <th>humidity</th>\n",
       "      <th>precip_prob</th>\n",
       "      <th>precip_while_open</th>\n",
       "      <th>outside_X_precip_open</th>\n",
       "      <th>target_trend</th>\n",
       "    </tr>\n",
       "    <tr>\n",
       "      <th>date</th>\n",
       "      <th></th>\n",
       "      <th></th>\n",
       "      <th></th>\n",
       "      <th></th>\n",
       "      <th></th>\n",
       "      <th></th>\n",
       "      <th></th>\n",
       "    </tr>\n",
       "  </thead>\n",
       "  <tbody>\n",
       "    <tr>\n",
       "      <th>2019-06-19</th>\n",
       "      <td>14610.288086</td>\n",
       "      <td>0</td>\n",
       "      <td>0.95</td>\n",
       "      <td>0.00</td>\n",
       "      <td>1</td>\n",
       "      <td>0.0</td>\n",
       "      <td>0.976882</td>\n",
       "    </tr>\n",
       "    <tr>\n",
       "      <th>2019-06-20</th>\n",
       "      <td>14096.017578</td>\n",
       "      <td>0</td>\n",
       "      <td>0.86</td>\n",
       "      <td>0.21</td>\n",
       "      <td>0</td>\n",
       "      <td>0.0</td>\n",
       "      <td>0.977449</td>\n",
       "    </tr>\n",
       "    <tr>\n",
       "      <th>2019-06-21</th>\n",
       "      <td>17220.195312</td>\n",
       "      <td>0</td>\n",
       "      <td>0.49</td>\n",
       "      <td>0.01</td>\n",
       "      <td>0</td>\n",
       "      <td>0.0</td>\n",
       "      <td>0.976745</td>\n",
       "    </tr>\n",
       "    <tr>\n",
       "      <th>2019-06-22</th>\n",
       "      <td>18292.398438</td>\n",
       "      <td>0</td>\n",
       "      <td>0.40</td>\n",
       "      <td>0.00</td>\n",
       "      <td>1</td>\n",
       "      <td>0.0</td>\n",
       "      <td>0.974877</td>\n",
       "    </tr>\n",
       "    <tr>\n",
       "      <th>2019-06-23</th>\n",
       "      <td>14665.337891</td>\n",
       "      <td>0</td>\n",
       "      <td>0.37</td>\n",
       "      <td>0.00</td>\n",
       "      <td>0</td>\n",
       "      <td>0.0</td>\n",
       "      <td>0.973045</td>\n",
       "    </tr>\n",
       "    <tr>\n",
       "      <th>2019-06-24</th>\n",
       "      <td>14718.222656</td>\n",
       "      <td>0</td>\n",
       "      <td>0.71</td>\n",
       "      <td>0.07</td>\n",
       "      <td>1</td>\n",
       "      <td>0.0</td>\n",
       "      <td>0.958175</td>\n",
       "    </tr>\n",
       "    <tr>\n",
       "      <th>2019-06-25</th>\n",
       "      <td>13878.599609</td>\n",
       "      <td>0</td>\n",
       "      <td>0.68</td>\n",
       "      <td>0.01</td>\n",
       "      <td>0</td>\n",
       "      <td>0.0</td>\n",
       "      <td>0.959670</td>\n",
       "    </tr>\n",
       "  </tbody>\n",
       "</table>\n",
       "</div>"
      ],
      "text/plain": [
       "                   sales  closed  humidity  precip_prob  precip_while_open  \\\n",
       "date                                                                         \n",
       "2019-06-19  14610.288086       0      0.95         0.00                  1   \n",
       "2019-06-20  14096.017578       0      0.86         0.21                  0   \n",
       "2019-06-21  17220.195312       0      0.49         0.01                  0   \n",
       "2019-06-22  18292.398438       0      0.40         0.00                  1   \n",
       "2019-06-23  14665.337891       0      0.37         0.00                  0   \n",
       "2019-06-24  14718.222656       0      0.71         0.07                  1   \n",
       "2019-06-25  13878.599609       0      0.68         0.01                  0   \n",
       "\n",
       "            outside_X_precip_open  target_trend  \n",
       "date                                             \n",
       "2019-06-19                    0.0      0.976882  \n",
       "2019-06-20                    0.0      0.977449  \n",
       "2019-06-21                    0.0      0.976745  \n",
       "2019-06-22                    0.0      0.974877  \n",
       "2019-06-23                    0.0      0.973045  \n",
       "2019-06-24                    0.0      0.958175  \n",
       "2019-06-25                    0.0      0.959670  "
      ]
     },
     "execution_count": 134,
     "metadata": {},
     "output_type": "execute_result"
    }
   ],
   "source": [
    "upcoming_df[-7:][[target, 'closed', 'humidity', 'precip_prob', 'precip_while_open', 'outside_X_precip_open', 'target_trend']]"
   ]
  },
  {
   "cell_type": "code",
   "execution_count": 135,
   "metadata": {},
   "outputs": [
    {
     "data": {
      "text/plain": [
       "107481.0595703125"
      ]
     },
     "execution_count": 135,
     "metadata": {},
     "output_type": "execute_result"
    }
   ],
   "source": [
    "np.sum(upcoming_df[-7:][target])"
   ]
  },
  {
   "cell_type": "code",
   "execution_count": 125,
   "metadata": {},
   "outputs": [
    {
     "data": {
      "image/png": "[encoded data removed]",
      "text/plain": [
       "<Figure size 1152x864 with 1 Axes>"
      ]
     },
     "metadata": {},
     "output_type": "display_data"
    }
   ],
   "source": [
    "plt.style.use('fivethirtyeight')\n",
    "\n",
    "fig, ax = plt.subplots(figsize=(16,12))\n",
    "\n",
    "eval_df_weekly = eval_df[['sales', 'pred_sales']]['2019'].resample('W').sum()\n",
    "ew = pd.melt(eval_df_weekly.reset_index(), id_vars='date')\n",
    "\n",
    "sns.barplot(x = 'date', y = 'value', hue = 'variable', data = ew)\n",
    "\n",
    "plt.title('Weekly Sales - 2019: Actual vs. Modeled')\n",
    "plt.xticks(rotation=45)\n",
    "\n",
    "plt.show();"
   ]
  },
  {
   "cell_type": "code",
   "execution_count": null,
   "metadata": {},
   "outputs": [],
   "source": []
  }
 ],
 "metadata": {
  "kernelspec": {
   "display_name": "Python 3",
   "language": "python",
   "name": "python3"
  },
  "language_info": {
   "codemirror_mode": {
    "name": "ipython",
    "version": 3
   },
   "file_extension": ".py",
   "mimetype": "text/x-python",
   "name": "python",
   "nbconvert_exporter": "python",
   "pygments_lexer": "ipython3",
   "version": "3.7.2"
  }
 },
 "nbformat": 4,
 "nbformat_minor": 2
}
